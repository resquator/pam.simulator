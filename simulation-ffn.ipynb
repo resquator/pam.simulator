{
 "cells": [
  {
   "cell_type": "code",
   "execution_count": 16,
   "metadata": {},
   "outputs": [
    {
     "data": {
      "text/plain": [
       "'!pip install ffn\\n!pip install pypfopt\\n!pip install empyrical'"
      ]
     },
     "execution_count": 16,
     "metadata": {},
     "output_type": "execute_result"
    }
   ],
   "source": [
    "\"\"\"!pip install ffn\n",
    "!pip install pypfopt\n",
    "!pip install empyrical\"\"\""
   ]
  },
  {
   "cell_type": "code",
   "execution_count": 17,
   "metadata": {},
   "outputs": [],
   "source": [
    "#pip install seaborn\n",
    "\n"
   ]
  },
  {
   "cell_type": "code",
   "execution_count": 18,
   "metadata": {},
   "outputs": [],
   "source": [
    "#pip install skforecast"
   ]
  },
  {
   "cell_type": "code",
   "execution_count": 19,
   "metadata": {},
   "outputs": [],
   "source": [
    "import ffn\n",
    "\n",
    "import numpy as np\n",
    "import pandas as pd\n",
    "#from empyrical import alpha_beta\n",
    "import seaborn as sns\n",
    "import warnings\n",
    "warnings.filterwarnings(\"ignore\")\n",
    "import matplotlib.pyplot as plt\n",
    "import warnings\n",
    "plt.style.use('dark_background')\n",
    "#warnings.simplefilter(action='ignore', category=FutureWarning)\n",
    "\n",
    "%matplotlib inline\n",
    "\n",
    "# Modeling and Forecasting\n",
    "# ==============================================================================\n",
    "from sklearn.linear_model import LinearRegression\n",
    "from sklearn.linear_model import Lasso\n",
    "from sklearn.ensemble import RandomForestRegressor\n",
    "from sklearn.metrics import mean_squared_error\n",
    "from sklearn.preprocessing import StandardScaler\n",
    "from sklearn.pipeline import make_pipeline\n",
    "\n",
    "from skforecast.ForecasterAutoreg import ForecasterAutoreg\n",
    "from skforecast.ForecasterAutoregCustom import ForecasterAutoregCustom\n",
    "from skforecast.ForecasterAutoregMultiOutput import ForecasterAutoregMultiOutput\n",
    "from skforecast.model_selection import grid_search_forecaster\n",
    "from skforecast.model_selection import backtesting_forecaster\n",
    "\n",
    "from joblib import dump, load\n",
    "\n",
    "# Warnings configuration\n",
    "# ==============================================================================\n",
    "import warnings\n",
    "# warnings.filterwarnings('ignore')"
   ]
  },
  {
   "cell_type": "code",
   "execution_count": 20,
   "metadata": {},
   "outputs": [],
   "source": [
    "\n",
    "folder = '../data/'\n",
    "file = 'ffn.csv'\n",
    "filename = f\"{folder}{file}\"\n",
    "isin='LU0843168575'\n",
    "filename\n",
    "\n",
    "isins=['LU0280438135','LU0255977372','LU0133806785']"
   ]
  },
  {
   "cell_type": "code",
   "execution_count": 21,
   "metadata": {},
   "outputs": [
    {
     "data": {
      "text/html": [
       "<div>\n",
       "<style scoped>\n",
       "    .dataframe tbody tr th:only-of-type {\n",
       "        vertical-align: middle;\n",
       "    }\n",
       "\n",
       "    .dataframe tbody tr th {\n",
       "        vertical-align: top;\n",
       "    }\n",
       "\n",
       "    .dataframe thead th {\n",
       "        text-align: right;\n",
       "    }\n",
       "</style>\n",
       "<table border=\"1\" class=\"dataframe\">\n",
       "  <thead>\n",
       "    <tr style=\"text-align: right;\">\n",
       "      <th></th>\n",
       "      <th>lu0340554673</th>\n",
       "      <th>lu0474966677</th>\n",
       "      <th>lu0386875149</th>\n",
       "    </tr>\n",
       "    <tr>\n",
       "      <th>index</th>\n",
       "      <th></th>\n",
       "      <th></th>\n",
       "      <th></th>\n",
       "    </tr>\n",
       "  </thead>\n",
       "  <tbody>\n",
       "    <tr>\n",
       "      <th>2019-06-14</th>\n",
       "      <td>370.96</td>\n",
       "      <td>138.50</td>\n",
       "      <td>269.42</td>\n",
       "    </tr>\n",
       "    <tr>\n",
       "      <th>2019-06-17</th>\n",
       "      <td>373.09</td>\n",
       "      <td>138.20</td>\n",
       "      <td>270.13</td>\n",
       "    </tr>\n",
       "    <tr>\n",
       "      <th>2019-06-18</th>\n",
       "      <td>380.18</td>\n",
       "      <td>138.10</td>\n",
       "      <td>274.36</td>\n",
       "    </tr>\n",
       "    <tr>\n",
       "      <th>2019-06-19</th>\n",
       "      <td>378.92</td>\n",
       "      <td>140.05</td>\n",
       "      <td>273.91</td>\n",
       "    </tr>\n",
       "    <tr>\n",
       "      <th>2019-06-20</th>\n",
       "      <td>382.68</td>\n",
       "      <td>140.01</td>\n",
       "      <td>276.10</td>\n",
       "    </tr>\n",
       "    <tr>\n",
       "      <th>...</th>\n",
       "      <td>...</td>\n",
       "      <td>...</td>\n",
       "      <td>...</td>\n",
       "    </tr>\n",
       "    <tr>\n",
       "      <th>2022-06-07</th>\n",
       "      <td>428.18</td>\n",
       "      <td>161.76</td>\n",
       "      <td>351.37</td>\n",
       "    </tr>\n",
       "    <tr>\n",
       "      <th>2022-06-08</th>\n",
       "      <td>437.47</td>\n",
       "      <td>161.89</td>\n",
       "      <td>354.28</td>\n",
       "    </tr>\n",
       "    <tr>\n",
       "      <th>2022-06-09</th>\n",
       "      <td>435.12</td>\n",
       "      <td>162.10</td>\n",
       "      <td>351.29</td>\n",
       "    </tr>\n",
       "    <tr>\n",
       "      <th>2022-06-10</th>\n",
       "      <td>423.13</td>\n",
       "      <td>161.28</td>\n",
       "      <td>342.24</td>\n",
       "    </tr>\n",
       "    <tr>\n",
       "      <th>2022-06-13</th>\n",
       "      <td>404.60</td>\n",
       "      <td>158.62</td>\n",
       "      <td>330.94</td>\n",
       "    </tr>\n",
       "  </tbody>\n",
       "</table>\n",
       "<p>689 rows × 3 columns</p>\n",
       "</div>"
      ],
      "text/plain": [
       "            lu0340554673  lu0474966677  lu0386875149\n",
       "index                                               \n",
       "2019-06-14        370.96        138.50        269.42\n",
       "2019-06-17        373.09        138.20        270.13\n",
       "2019-06-18        380.18        138.10        274.36\n",
       "2019-06-19        378.92        140.05        273.91\n",
       "2019-06-20        382.68        140.01        276.10\n",
       "...                  ...           ...           ...\n",
       "2022-06-07        428.18        161.76        351.37\n",
       "2022-06-08        437.47        161.89        354.28\n",
       "2022-06-09        435.12        162.10        351.29\n",
       "2022-06-10        423.13        161.28        342.24\n",
       "2022-06-13        404.60        158.62        330.94\n",
       "\n",
       "[689 rows x 3 columns]"
      ]
     },
     "execution_count": 21,
     "metadata": {},
     "output_type": "execute_result"
    }
   ],
   "source": [
    "isins = ['LU0340554673','LU0474966677','LU0386875149']\n",
    "filename = 'portfolios/ptf_20062022155004.csv'\n",
    "prices = ffn.get(f'{isins[0]},{isins[1]},{isins[2]}', provider=ffn.data.csv, path=filename)\n",
    "prices\n"
   ]
  },
  {
   "cell_type": "code",
   "execution_count": 22,
   "metadata": {},
   "outputs": [
    {
     "data": {
      "image/png": "[encoded data removed]",
      "text/plain": [
       "<Figure size 432x288 with 1 Axes>"
      ]
     },
     "metadata": {
      "needs_background": "dark"
     },
     "output_type": "display_data"
    }
   ],
   "source": [
    "sns.lineplot(data=prices)\n",
    "plt.show()"
   ]
  },
  {
   "cell_type": "code",
   "execution_count": 23,
   "metadata": {},
   "outputs": [],
   "source": [
    "#prices = ffn.get('TTWO, CCOEY, EA', start='2019-01-01')\n",
    "#benchmark = ffn.get(f'{isins[0]}-level',provider=ffn.data.csv, path=filename)\n",
    "#ax = prices.rebase().plot(figsize=(12,5))\n",
    "#plt.show()"
   ]
  },
  {
   "cell_type": "code",
   "execution_count": 24,
   "metadata": {},
   "outputs": [
    {
     "data": {
      "text/html": [
       "<div>\n",
       "<style scoped>\n",
       "    .dataframe tbody tr th:only-of-type {\n",
       "        vertical-align: middle;\n",
       "    }\n",
       "\n",
       "    .dataframe tbody tr th {\n",
       "        vertical-align: top;\n",
       "    }\n",
       "\n",
       "    .dataframe thead th {\n",
       "        text-align: right;\n",
       "    }\n",
       "</style>\n",
       "<table border=\"1\" class=\"dataframe\">\n",
       "  <thead>\n",
       "    <tr style=\"text-align: right;\">\n",
       "      <th></th>\n",
       "      <th>lu0340554673</th>\n",
       "      <th>lu0474966677</th>\n",
       "      <th>lu0386875149</th>\n",
       "    </tr>\n",
       "    <tr>\n",
       "      <th>index</th>\n",
       "      <th></th>\n",
       "      <th></th>\n",
       "      <th></th>\n",
       "    </tr>\n",
       "  </thead>\n",
       "  <tbody>\n",
       "    <tr>\n",
       "      <th>2019-06-14</th>\n",
       "      <td>370.96</td>\n",
       "      <td>138.50</td>\n",
       "      <td>269.42</td>\n",
       "    </tr>\n",
       "    <tr>\n",
       "      <th>2019-06-17</th>\n",
       "      <td>373.09</td>\n",
       "      <td>138.20</td>\n",
       "      <td>270.13</td>\n",
       "    </tr>\n",
       "    <tr>\n",
       "      <th>2019-06-18</th>\n",
       "      <td>380.18</td>\n",
       "      <td>138.10</td>\n",
       "      <td>274.36</td>\n",
       "    </tr>\n",
       "    <tr>\n",
       "      <th>2019-06-19</th>\n",
       "      <td>378.92</td>\n",
       "      <td>140.05</td>\n",
       "      <td>273.91</td>\n",
       "    </tr>\n",
       "    <tr>\n",
       "      <th>2019-06-20</th>\n",
       "      <td>382.68</td>\n",
       "      <td>140.01</td>\n",
       "      <td>276.10</td>\n",
       "    </tr>\n",
       "    <tr>\n",
       "      <th>...</th>\n",
       "      <td>...</td>\n",
       "      <td>...</td>\n",
       "      <td>...</td>\n",
       "    </tr>\n",
       "    <tr>\n",
       "      <th>2022-06-07</th>\n",
       "      <td>428.18</td>\n",
       "      <td>161.76</td>\n",
       "      <td>351.37</td>\n",
       "    </tr>\n",
       "    <tr>\n",
       "      <th>2022-06-08</th>\n",
       "      <td>437.47</td>\n",
       "      <td>161.89</td>\n",
       "      <td>354.28</td>\n",
       "    </tr>\n",
       "    <tr>\n",
       "      <th>2022-06-09</th>\n",
       "      <td>435.12</td>\n",
       "      <td>162.10</td>\n",
       "      <td>351.29</td>\n",
       "    </tr>\n",
       "    <tr>\n",
       "      <th>2022-06-10</th>\n",
       "      <td>423.13</td>\n",
       "      <td>161.28</td>\n",
       "      <td>342.24</td>\n",
       "    </tr>\n",
       "    <tr>\n",
       "      <th>2022-06-13</th>\n",
       "      <td>404.60</td>\n",
       "      <td>158.62</td>\n",
       "      <td>330.94</td>\n",
       "    </tr>\n",
       "  </tbody>\n",
       "</table>\n",
       "<p>689 rows × 3 columns</p>\n",
       "</div>"
      ],
      "text/plain": [
       "            lu0340554673  lu0474966677  lu0386875149\n",
       "index                                               \n",
       "2019-06-14        370.96        138.50        269.42\n",
       "2019-06-17        373.09        138.20        270.13\n",
       "2019-06-18        380.18        138.10        274.36\n",
       "2019-06-19        378.92        140.05        273.91\n",
       "2019-06-20        382.68        140.01        276.10\n",
       "...                  ...           ...           ...\n",
       "2022-06-07        428.18        161.76        351.37\n",
       "2022-06-08        437.47        161.89        354.28\n",
       "2022-06-09        435.12        162.10        351.29\n",
       "2022-06-10        423.13        161.28        342.24\n",
       "2022-06-13        404.60        158.62        330.94\n",
       "\n",
       "[689 rows x 3 columns]"
      ]
     },
     "execution_count": 24,
     "metadata": {},
     "output_type": "execute_result"
    }
   ],
   "source": [
    "prices"
   ]
  },
  {
   "cell_type": "code",
   "execution_count": 25,
   "metadata": {},
   "outputs": [
    {
     "data": {
      "text/plain": [
       "<module 'matplotlib.pyplot' from '/Users/darylfelix/MachineLearning/pamdigital-kit-backend/src/Python/pam.simulator/.venv/lib/python3.10/site-packages/matplotlib/pyplot.py'>"
      ]
     },
     "execution_count": 25,
     "metadata": {},
     "output_type": "execute_result"
    },
    {
     "data": {
      "image/png": "[encoded data removed]",
      "text/plain": [
       "<Figure size 432x288 with 2 Axes>"
      ]
     },
     "metadata": {
      "needs_background": "dark"
     },
     "output_type": "display_data"
    }
   ],
   "source": [
    "prices.plot_corr_heatmap()"
   ]
  },
  {
   "cell_type": "code",
   "execution_count": 26,
   "metadata": {},
   "outputs": [
    {
     "data": {
      "text/html": [
       "<div>\n",
       "<style scoped>\n",
       "    .dataframe tbody tr th:only-of-type {\n",
       "        vertical-align: middle;\n",
       "    }\n",
       "\n",
       "    .dataframe tbody tr th {\n",
       "        vertical-align: top;\n",
       "    }\n",
       "\n",
       "    .dataframe thead th {\n",
       "        text-align: right;\n",
       "    }\n",
       "</style>\n",
       "<table border=\"1\" class=\"dataframe\">\n",
       "  <thead>\n",
       "    <tr style=\"text-align: right;\">\n",
       "      <th></th>\n",
       "      <th>lu0340554673</th>\n",
       "      <th>lu0474966677</th>\n",
       "      <th>lu0386875149</th>\n",
       "    </tr>\n",
       "    <tr>\n",
       "      <th>index</th>\n",
       "      <th></th>\n",
       "      <th></th>\n",
       "      <th></th>\n",
       "    </tr>\n",
       "  </thead>\n",
       "  <tbody>\n",
       "    <tr>\n",
       "      <th>2019-06-14</th>\n",
       "      <td>0.000000</td>\n",
       "      <td>0.000000</td>\n",
       "      <td>0.000000</td>\n",
       "    </tr>\n",
       "    <tr>\n",
       "      <th>2019-06-17</th>\n",
       "      <td>0.000000</td>\n",
       "      <td>-0.002166</td>\n",
       "      <td>0.000000</td>\n",
       "    </tr>\n",
       "    <tr>\n",
       "      <th>2019-06-18</th>\n",
       "      <td>0.000000</td>\n",
       "      <td>-0.002888</td>\n",
       "      <td>0.000000</td>\n",
       "    </tr>\n",
       "    <tr>\n",
       "      <th>2019-06-19</th>\n",
       "      <td>-0.003314</td>\n",
       "      <td>0.000000</td>\n",
       "      <td>-0.001640</td>\n",
       "    </tr>\n",
       "    <tr>\n",
       "      <th>2019-06-20</th>\n",
       "      <td>0.000000</td>\n",
       "      <td>-0.000286</td>\n",
       "      <td>0.000000</td>\n",
       "    </tr>\n",
       "    <tr>\n",
       "      <th>...</th>\n",
       "      <td>...</td>\n",
       "      <td>...</td>\n",
       "      <td>...</td>\n",
       "    </tr>\n",
       "    <tr>\n",
       "      <th>2022-06-07</th>\n",
       "      <td>-0.259652</td>\n",
       "      <td>-0.137004</td>\n",
       "      <td>-0.170221</td>\n",
       "    </tr>\n",
       "    <tr>\n",
       "      <th>2022-06-08</th>\n",
       "      <td>-0.243590</td>\n",
       "      <td>-0.136310</td>\n",
       "      <td>-0.163349</td>\n",
       "    </tr>\n",
       "    <tr>\n",
       "      <th>2022-06-09</th>\n",
       "      <td>-0.247653</td>\n",
       "      <td>-0.135190</td>\n",
       "      <td>-0.170410</td>\n",
       "    </tr>\n",
       "    <tr>\n",
       "      <th>2022-06-10</th>\n",
       "      <td>-0.268384</td>\n",
       "      <td>-0.139565</td>\n",
       "      <td>-0.191782</td>\n",
       "    </tr>\n",
       "    <tr>\n",
       "      <th>2022-06-13</th>\n",
       "      <td>-0.300424</td>\n",
       "      <td>-0.153756</td>\n",
       "      <td>-0.218467</td>\n",
       "    </tr>\n",
       "  </tbody>\n",
       "</table>\n",
       "<p>689 rows × 3 columns</p>\n",
       "</div>"
      ],
      "text/plain": [
       "            lu0340554673  lu0474966677  lu0386875149\n",
       "index                                               \n",
       "2019-06-14      0.000000      0.000000      0.000000\n",
       "2019-06-17      0.000000     -0.002166      0.000000\n",
       "2019-06-18      0.000000     -0.002888      0.000000\n",
       "2019-06-19     -0.003314      0.000000     -0.001640\n",
       "2019-06-20      0.000000     -0.000286      0.000000\n",
       "...                  ...           ...           ...\n",
       "2022-06-07     -0.259652     -0.137004     -0.170221\n",
       "2022-06-08     -0.243590     -0.136310     -0.163349\n",
       "2022-06-09     -0.247653     -0.135190     -0.170410\n",
       "2022-06-10     -0.268384     -0.139565     -0.191782\n",
       "2022-06-13     -0.300424     -0.153756     -0.218467\n",
       "\n",
       "[689 rows x 3 columns]"
      ]
     },
     "execution_count": 26,
     "metadata": {},
     "output_type": "execute_result"
    }
   ],
   "source": [
    "ffn.core.to_drawdown_series(prices)"
   ]
  },
  {
   "cell_type": "code",
   "execution_count": null,
   "metadata": {},
   "outputs": [],
   "source": []
  },
  {
   "cell_type": "code",
   "execution_count": 27,
   "metadata": {},
   "outputs": [],
   "source": [
    "returns = prices.to_returns().dropna()"
   ]
  },
  {
   "cell_type": "code",
   "execution_count": 28,
   "metadata": {},
   "outputs": [
    {
     "data": {
      "image/png": "[encoded data removed]",
      "text/plain": [
       "<Figure size 432x288 with 1 Axes>"
      ]
     },
     "metadata": {
      "needs_background": "dark"
     },
     "output_type": "display_data"
    }
   ],
   "source": [
    "returns.plot()\n",
    "plt.show()"
   ]
  },
  {
   "cell_type": "code",
   "execution_count": 29,
   "metadata": {},
   "outputs": [
    {
     "name": "stdout",
     "output_type": "stream",
     "text": [
      "Stat                 lu0340554673    lu0474966677    lu0386875149\n",
      "-------------------  --------------  --------------  --------------\n",
      "Start                2019-06-14      2019-06-14      2019-06-14\n",
      "End                  2022-06-13      2022-06-13      2022-06-13\n",
      "Risk-free rate       0.00%           0.00%           0.00%\n",
      "\n",
      "Total Return         9.07%           14.53%          22.83%\n",
      "Daily Sharpe         0.25            0.37            0.48\n",
      "Daily Sortino        0.40            0.62            0.74\n",
      "CAGR                 2.94%           4.63%           7.10%\n",
      "Max Drawdown         -31.93%         -26.86%         -32.25%\n",
      "Calmar Ratio         0.09            0.17            0.22\n",
      "\n",
      "MTD                  -3.90%          -3.45%          -5.48%\n",
      "3m                   -8.26%          -2.44%          -7.60%\n",
      "6m                   -23.47%         -12.11%         -19.18%\n",
      "YTD                  -23.91%         -11.36%         -20.61%\n",
      "1Y                   -26.09%         -6.09%          -12.81%\n",
      "3Y (ann.)            2.94%           4.63%           7.10%\n",
      "5Y (ann.)            -               -               -\n",
      "10Y (ann.)           -               -               -\n",
      "Since Incep. (ann.)  2.94%           4.63%           7.10%\n",
      "\n",
      "Daily Sharpe         0.25            0.37            0.48\n",
      "Daily Sortino        0.40            0.62            0.74\n",
      "Daily Mean (ann.)    5.60%           6.49%           9.44%\n",
      "Daily Vol (ann.)     22.00%          17.46%          19.51%\n",
      "Daily Skew           -0.31           0.10            -0.47\n",
      "Daily Kurt           2.83            4.96            4.05\n",
      "Best Day             6.66%           7.31%           5.67%\n",
      "Worst Day            -6.40%          -6.54%          -7.03%\n",
      "\n",
      "Monthly Sharpe       0.24            0.39            0.48\n",
      "Monthly Sortino      0.42            0.68            0.77\n",
      "Monthly Mean (ann.)  3.77%           5.40%           7.86%\n",
      "Monthly Vol (ann.)   16.03%          13.75%          16.33%\n",
      "Monthly Skew         0.16            -0.17           -0.45\n",
      "Monthly Kurt         0.40            0.42            1.65\n",
      "Best Month           12.87%          9.73%           12.70%\n",
      "Worst Month          -8.91%          -9.37%          -11.03%\n",
      "\n",
      "Yearly Sharpe        0.07            0.09            0.22\n",
      "Yearly Sortino       0.11            0.14            0.41\n",
      "Yearly Mean          1.57%           0.93%           4.93%\n",
      "Yearly Vol           23.69%          10.98%          22.27%\n",
      "Yearly Skew          -0.76           -1.27           -1.63\n",
      "Yearly Kurt          -               -               -\n",
      "Best Year            22.94%          9.79%           20.27%\n",
      "Worst Year           -23.91%         -11.36%         -20.61%\n",
      "\n",
      "Avg. Drawdown        -4.07%          -3.99%          -2.49%\n",
      "Avg. Drawdown Days   30.69           47.86           18.31\n",
      "Avg. Up Month        3.59%           3.01%           3.04%\n",
      "Avg. Down Month      -3.78%          -3.14%          -4.77%\n",
      "Win Year %           66.67%          66.67%          66.67%\n",
      "Win 12m %            76.92%          69.23%          80.77%\n"
     ]
    }
   ],
   "source": [
    "stats = prices.calc_stats()\n",
    "stats.display()"
   ]
  },
  {
   "cell_type": "code",
   "execution_count": 30,
   "metadata": {},
   "outputs": [
    {
     "data": {
      "image/png": "[encoded data removed]",
      "text/plain": [
       "<Figure size 864x360 with 1 Axes>"
      ]
     },
     "metadata": {
      "needs_background": "dark"
     },
     "output_type": "display_data"
    }
   ],
   "source": [
    "stats.prices.to_drawdown_series().plot(figsize=(12,5))\n",
    "plt.show()"
   ]
  },
  {
   "cell_type": "code",
   "execution_count": null,
   "metadata": {},
   "outputs": [],
   "source": []
  },
  {
   "cell_type": "code",
   "execution_count": 31,
   "metadata": {},
   "outputs": [
    {
     "data": {
      "text/plain": [
       "lu0340554673    0.029378\n",
       "lu0474966677    0.046284\n",
       "lu0386875149    0.071010\n",
       "dtype: float64"
      ]
     },
     "execution_count": 31,
     "metadata": {},
     "output_type": "execute_result"
    }
   ],
   "source": [
    "stats.prices.calc_cagr()"
   ]
  },
  {
   "cell_type": "code",
   "execution_count": 32,
   "metadata": {},
   "outputs": [
    {
     "data": {
      "text/plain": [
       "lu0340554673     0.00%\n",
       "lu0474966677    35.14%\n",
       "lu0386875149    64.86%\n",
       "dtype: object"
      ]
     },
     "execution_count": 32,
     "metadata": {},
     "output_type": "execute_result"
    }
   ],
   "source": [
    "returns = prices.to_log_returns().dropna()\n",
    "returns.calc_mean_var_weights().as_format('.2%')"
   ]
  },
  {
   "cell_type": "code",
   "execution_count": 33,
   "metadata": {},
   "outputs": [
    {
     "data": {
      "text/plain": [
       "lu0340554673    27.77%\n",
       "lu0474966677    41.36%\n",
       "lu0386875149    30.87%\n",
       "Name: erc, dtype: object"
      ]
     },
     "execution_count": 33,
     "metadata": {},
     "output_type": "execute_result"
    }
   ],
   "source": [
    "returns.calc_erc_weights().as_format('.2%')"
   ]
  },
  {
   "cell_type": "markdown",
   "metadata": {},
   "source": [
    "symbols = [f'{isin}-NAV']\n",
    "for sym in symbols:\n",
    "    stk = ffn.get(sym, provider=ffn.data.csv, path=filename)\n",
    "    alpha, beta = alpha_beta(stk, benchmark)\n",
    "    print(sym, beta)\n"
   ]
  },
  {
   "cell_type": "code",
   "execution_count": 34,
   "metadata": {},
   "outputs": [
    {
     "name": "stdout",
     "output_type": "stream",
     "text": [
      "Expected annualised return: 7.000000000000001\n",
      "Volatility: 17.0\n"
     ]
    }
   ],
   "source": [
    "returns = prices.pct_change()\n",
    "weight = np.array([10,10,10])\n",
    "\n",
    "t = np.sum(weight)\n",
    "weights = weight/t\n",
    "# mean daily return and covariance of daily returns\n",
    "mean_daily_returns = returns.mean()\n",
    "cov_matrix = returns.cov()\n",
    "\n",
    "portfolio_return = round(np.sum(mean_daily_returns * weights) * 252,2)\n",
    "portfolio_std_dev = round(np.sqrt(np.dot(weights.T,np.dot(cov_matrix, weights))) * np.sqrt(252),2)\n",
    "\n",
    "print(\"Expected annualised return: \" + str(portfolio_return*100))\n",
    "print(\"Volatility: \" + str(portfolio_std_dev*100))"
   ]
  },
  {
   "cell_type": "code",
   "execution_count": 35,
   "metadata": {},
   "outputs": [
    {
     "data": {
      "text/plain": [
       "0.07"
      ]
     },
     "execution_count": 35,
     "metadata": {},
     "output_type": "execute_result"
    }
   ],
   "source": [
    "portfolio_return"
   ]
  },
  {
   "cell_type": "code",
   "execution_count": 36,
   "metadata": {},
   "outputs": [
    {
     "data": {
      "text/plain": [
       "lu0340554673    0.000222\n",
       "lu0474966677    0.000258\n",
       "lu0386875149    0.000375\n",
       "dtype: float64"
      ]
     },
     "execution_count": 36,
     "metadata": {},
     "output_type": "execute_result"
    }
   ],
   "source": [
    "mean_daily_returns"
   ]
  },
  {
   "cell_type": "code",
   "execution_count": 37,
   "metadata": {},
   "outputs": [
    {
     "data": {
      "text/html": [
       "<div>\n",
       "<style scoped>\n",
       "    .dataframe tbody tr th:only-of-type {\n",
       "        vertical-align: middle;\n",
       "    }\n",
       "\n",
       "    .dataframe tbody tr th {\n",
       "        vertical-align: top;\n",
       "    }\n",
       "\n",
       "    .dataframe thead th {\n",
       "        text-align: right;\n",
       "    }\n",
       "</style>\n",
       "<table border=\"1\" class=\"dataframe\">\n",
       "  <thead>\n",
       "    <tr style=\"text-align: right;\">\n",
       "      <th></th>\n",
       "      <th>lu0340554673</th>\n",
       "      <th>lu0474966677</th>\n",
       "      <th>lu0386875149</th>\n",
       "    </tr>\n",
       "    <tr>\n",
       "      <th>index</th>\n",
       "      <th></th>\n",
       "      <th></th>\n",
       "      <th></th>\n",
       "    </tr>\n",
       "  </thead>\n",
       "  <tbody>\n",
       "    <tr>\n",
       "      <th>2019-06-14</th>\n",
       "      <td>NaN</td>\n",
       "      <td>NaN</td>\n",
       "      <td>NaN</td>\n",
       "    </tr>\n",
       "    <tr>\n",
       "      <th>2019-06-17</th>\n",
       "      <td>0.005742</td>\n",
       "      <td>-0.002166</td>\n",
       "      <td>0.002635</td>\n",
       "    </tr>\n",
       "    <tr>\n",
       "      <th>2019-06-18</th>\n",
       "      <td>0.019003</td>\n",
       "      <td>-0.000724</td>\n",
       "      <td>0.015659</td>\n",
       "    </tr>\n",
       "    <tr>\n",
       "      <th>2019-06-19</th>\n",
       "      <td>-0.003314</td>\n",
       "      <td>0.014120</td>\n",
       "      <td>-0.001640</td>\n",
       "    </tr>\n",
       "    <tr>\n",
       "      <th>2019-06-20</th>\n",
       "      <td>0.009923</td>\n",
       "      <td>-0.000286</td>\n",
       "      <td>0.007995</td>\n",
       "    </tr>\n",
       "    <tr>\n",
       "      <th>...</th>\n",
       "      <td>...</td>\n",
       "      <td>...</td>\n",
       "      <td>...</td>\n",
       "    </tr>\n",
       "    <tr>\n",
       "      <th>2022-06-07</th>\n",
       "      <td>-0.000327</td>\n",
       "      <td>-0.006693</td>\n",
       "      <td>-0.002017</td>\n",
       "    </tr>\n",
       "    <tr>\n",
       "      <th>2022-06-08</th>\n",
       "      <td>0.021696</td>\n",
       "      <td>0.000804</td>\n",
       "      <td>0.008282</td>\n",
       "    </tr>\n",
       "    <tr>\n",
       "      <th>2022-06-09</th>\n",
       "      <td>-0.005372</td>\n",
       "      <td>0.001297</td>\n",
       "      <td>-0.008440</td>\n",
       "    </tr>\n",
       "    <tr>\n",
       "      <th>2022-06-10</th>\n",
       "      <td>-0.027556</td>\n",
       "      <td>-0.005059</td>\n",
       "      <td>-0.025762</td>\n",
       "    </tr>\n",
       "    <tr>\n",
       "      <th>2022-06-13</th>\n",
       "      <td>-0.043793</td>\n",
       "      <td>-0.016493</td>\n",
       "      <td>-0.033018</td>\n",
       "    </tr>\n",
       "  </tbody>\n",
       "</table>\n",
       "<p>689 rows × 3 columns</p>\n",
       "</div>"
      ],
      "text/plain": [
       "            lu0340554673  lu0474966677  lu0386875149\n",
       "index                                               \n",
       "2019-06-14           NaN           NaN           NaN\n",
       "2019-06-17      0.005742     -0.002166      0.002635\n",
       "2019-06-18      0.019003     -0.000724      0.015659\n",
       "2019-06-19     -0.003314      0.014120     -0.001640\n",
       "2019-06-20      0.009923     -0.000286      0.007995\n",
       "...                  ...           ...           ...\n",
       "2022-06-07     -0.000327     -0.006693     -0.002017\n",
       "2022-06-08      0.021696      0.000804      0.008282\n",
       "2022-06-09     -0.005372      0.001297     -0.008440\n",
       "2022-06-10     -0.027556     -0.005059     -0.025762\n",
       "2022-06-13     -0.043793     -0.016493     -0.033018\n",
       "\n",
       "[689 rows x 3 columns]"
      ]
     },
     "execution_count": 37,
     "metadata": {},
     "output_type": "execute_result"
    }
   ],
   "source": [
    "returns"
   ]
  },
  {
   "cell_type": "code",
   "execution_count": 38,
   "metadata": {},
   "outputs": [
    {
     "data": {
      "text/plain": [
       "0.07"
      ]
     },
     "execution_count": 38,
     "metadata": {},
     "output_type": "execute_result"
    }
   ],
   "source": [
    "portfolio_return"
   ]
  },
  {
   "cell_type": "code",
   "execution_count": 39,
   "metadata": {},
   "outputs": [
    {
     "data": {
      "text/plain": [
       "lu0340554673    370.96\n",
       "lu0474966677    138.50\n",
       "lu0386875149    269.42\n",
       "Name: 2019-06-14 00:00:00, dtype: float64"
      ]
     },
     "execution_count": 39,
     "metadata": {},
     "output_type": "execute_result"
    }
   ],
   "source": [
    "prices.iloc[0]"
   ]
  },
  {
   "cell_type": "code",
   "execution_count": 40,
   "metadata": {},
   "outputs": [],
   "source": [
    "#pip install PyPortfolioOpt"
   ]
  },
  {
   "cell_type": "code",
   "execution_count": 41,
   "metadata": {},
   "outputs": [
    {
     "data": {
      "text/html": [
       "<div>\n",
       "<style scoped>\n",
       "    .dataframe tbody tr th:only-of-type {\n",
       "        vertical-align: middle;\n",
       "    }\n",
       "\n",
       "    .dataframe tbody tr th {\n",
       "        vertical-align: top;\n",
       "    }\n",
       "\n",
       "    .dataframe thead th {\n",
       "        text-align: right;\n",
       "    }\n",
       "</style>\n",
       "<table border=\"1\" class=\"dataframe\">\n",
       "  <thead>\n",
       "    <tr style=\"text-align: right;\">\n",
       "      <th></th>\n",
       "      <th>lu0340554673</th>\n",
       "      <th>lu0474966677</th>\n",
       "      <th>lu0386875149</th>\n",
       "    </tr>\n",
       "    <tr>\n",
       "      <th>index</th>\n",
       "      <th></th>\n",
       "      <th></th>\n",
       "      <th></th>\n",
       "    </tr>\n",
       "  </thead>\n",
       "  <tbody>\n",
       "    <tr>\n",
       "      <th>2019-06-14</th>\n",
       "      <td>370.96</td>\n",
       "      <td>138.50</td>\n",
       "      <td>269.42</td>\n",
       "    </tr>\n",
       "    <tr>\n",
       "      <th>2019-06-17</th>\n",
       "      <td>373.09</td>\n",
       "      <td>138.20</td>\n",
       "      <td>270.13</td>\n",
       "    </tr>\n",
       "    <tr>\n",
       "      <th>2019-06-18</th>\n",
       "      <td>380.18</td>\n",
       "      <td>138.10</td>\n",
       "      <td>274.36</td>\n",
       "    </tr>\n",
       "    <tr>\n",
       "      <th>2019-06-19</th>\n",
       "      <td>378.92</td>\n",
       "      <td>140.05</td>\n",
       "      <td>273.91</td>\n",
       "    </tr>\n",
       "    <tr>\n",
       "      <th>2019-06-20</th>\n",
       "      <td>382.68</td>\n",
       "      <td>140.01</td>\n",
       "      <td>276.10</td>\n",
       "    </tr>\n",
       "    <tr>\n",
       "      <th>...</th>\n",
       "      <td>...</td>\n",
       "      <td>...</td>\n",
       "      <td>...</td>\n",
       "    </tr>\n",
       "    <tr>\n",
       "      <th>2022-06-07</th>\n",
       "      <td>428.18</td>\n",
       "      <td>161.76</td>\n",
       "      <td>351.37</td>\n",
       "    </tr>\n",
       "    <tr>\n",
       "      <th>2022-06-08</th>\n",
       "      <td>437.47</td>\n",
       "      <td>161.89</td>\n",
       "      <td>354.28</td>\n",
       "    </tr>\n",
       "    <tr>\n",
       "      <th>2022-06-09</th>\n",
       "      <td>435.12</td>\n",
       "      <td>162.10</td>\n",
       "      <td>351.29</td>\n",
       "    </tr>\n",
       "    <tr>\n",
       "      <th>2022-06-10</th>\n",
       "      <td>423.13</td>\n",
       "      <td>161.28</td>\n",
       "      <td>342.24</td>\n",
       "    </tr>\n",
       "    <tr>\n",
       "      <th>2022-06-13</th>\n",
       "      <td>404.60</td>\n",
       "      <td>158.62</td>\n",
       "      <td>330.94</td>\n",
       "    </tr>\n",
       "  </tbody>\n",
       "</table>\n",
       "<p>689 rows × 3 columns</p>\n",
       "</div>"
      ],
      "text/plain": [
       "            lu0340554673  lu0474966677  lu0386875149\n",
       "index                                               \n",
       "2019-06-14        370.96        138.50        269.42\n",
       "2019-06-17        373.09        138.20        270.13\n",
       "2019-06-18        380.18        138.10        274.36\n",
       "2019-06-19        378.92        140.05        273.91\n",
       "2019-06-20        382.68        140.01        276.10\n",
       "...                  ...           ...           ...\n",
       "2022-06-07        428.18        161.76        351.37\n",
       "2022-06-08        437.47        161.89        354.28\n",
       "2022-06-09        435.12        162.10        351.29\n",
       "2022-06-10        423.13        161.28        342.24\n",
       "2022-06-13        404.60        158.62        330.94\n",
       "\n",
       "[689 rows x 3 columns]"
      ]
     },
     "execution_count": 41,
     "metadata": {},
     "output_type": "execute_result"
    }
   ],
   "source": [
    "prices"
   ]
  },
  {
   "cell_type": "code",
   "execution_count": 42,
   "metadata": {},
   "outputs": [],
   "source": [
    "x=ffn.core.drawdown_details(ffn.core.calc_max_drawdown(prices))"
   ]
  },
  {
   "cell_type": "code",
   "execution_count": 43,
   "metadata": {},
   "outputs": [
    {
     "name": "stdout",
     "output_type": "stream",
     "text": [
      "Stat                 lu0340554673    lu0474966677    lu0386875149\n",
      "-------------------  --------------  --------------  --------------\n",
      "Start                2019-06-14      2019-06-14      2019-06-14\n",
      "End                  2022-06-13      2022-06-13      2022-06-13\n",
      "Risk-free rate       0.00%           0.00%           0.00%\n",
      "\n",
      "Total Return         9.07%           14.53%          22.83%\n",
      "Daily Sharpe         0.25            0.37            0.48\n",
      "Daily Sortino        0.40            0.62            0.74\n",
      "CAGR                 2.94%           4.63%           7.10%\n",
      "Max Drawdown         -31.93%         -26.86%         -32.25%\n",
      "Calmar Ratio         0.09            0.17            0.22\n",
      "\n",
      "MTD                  -3.90%          -3.45%          -5.48%\n",
      "3m                   -8.26%          -2.44%          -7.60%\n",
      "6m                   -23.47%         -12.11%         -19.18%\n",
      "YTD                  -23.91%         -11.36%         -20.61%\n",
      "1Y                   -26.09%         -6.09%          -12.81%\n",
      "3Y (ann.)            2.94%           4.63%           7.10%\n",
      "5Y (ann.)            -               -               -\n",
      "10Y (ann.)           -               -               -\n",
      "Since Incep. (ann.)  2.94%           4.63%           7.10%\n",
      "\n",
      "Daily Sharpe         0.25            0.37            0.48\n",
      "Daily Sortino        0.40            0.62            0.74\n",
      "Daily Mean (ann.)    5.60%           6.49%           9.44%\n",
      "Daily Vol (ann.)     22.00%          17.46%          19.51%\n",
      "Daily Skew           -0.31           0.10            -0.47\n",
      "Daily Kurt           2.83            4.96            4.05\n",
      "Best Day             6.66%           7.31%           5.67%\n",
      "Worst Day            -6.40%          -6.54%          -7.03%\n",
      "\n",
      "Monthly Sharpe       0.24            0.39            0.48\n",
      "Monthly Sortino      0.42            0.68            0.77\n",
      "Monthly Mean (ann.)  3.77%           5.40%           7.86%\n",
      "Monthly Vol (ann.)   16.03%          13.75%          16.33%\n",
      "Monthly Skew         0.16            -0.17           -0.45\n",
      "Monthly Kurt         0.40            0.42            1.65\n",
      "Best Month           12.87%          9.73%           12.70%\n",
      "Worst Month          -8.91%          -9.37%          -11.03%\n",
      "\n",
      "Yearly Sharpe        0.07            0.09            0.22\n",
      "Yearly Sortino       0.11            0.14            0.41\n",
      "Yearly Mean          1.57%           0.93%           4.93%\n",
      "Yearly Vol           23.69%          10.98%          22.27%\n",
      "Yearly Skew          -0.76           -1.27           -1.63\n",
      "Yearly Kurt          -               -               -\n",
      "Best Year            22.94%          9.79%           20.27%\n",
      "Worst Year           -23.91%         -11.36%         -20.61%\n",
      "\n",
      "Avg. Drawdown        -4.07%          -3.99%          -2.49%\n",
      "Avg. Drawdown Days   30.69           47.86           18.31\n",
      "Avg. Up Month        3.59%           3.01%           3.04%\n",
      "Avg. Down Month      -3.78%          -3.14%          -4.77%\n",
      "Win Year %           66.67%          66.67%          66.67%\n",
      "Win 12m %            76.92%          69.23%          80.77%\n"
     ]
    }
   ],
   "source": [
    "ffn.core.GroupStats(prices).display()"
   ]
  },
  {
   "cell_type": "code",
   "execution_count": 44,
   "metadata": {},
   "outputs": [
    {
     "data": {
      "text/plain": [
       "116.81000000000009"
      ]
     },
     "execution_count": 44,
     "metadata": {},
     "output_type": "execute_result"
    }
   ],
   "source": [
    "100*((1*(106.56/100))+(1*(229.62/100))+(1*(80.63/100))-3)"
   ]
  },
  {
   "cell_type": "code",
   "execution_count": 45,
   "metadata": {},
   "outputs": [
    {
     "data": {
      "text/plain": [
       "4.168100000000001"
      ]
     },
     "execution_count": 45,
     "metadata": {},
     "output_type": "execute_result"
    }
   ],
   "source": [
    "(((1*(106.56/100)))+1)+(((1*(229.62/100)))+1)+(((1*(80.63/100)))+1)-3\n"
   ]
  },
  {
   "cell_type": "code",
   "execution_count": 46,
   "metadata": {},
   "outputs": [
    {
     "data": {
      "text/plain": [
       "1.0987333333333333"
      ]
     },
     "execution_count": 46,
     "metadata": {},
     "output_type": "execute_result"
    }
   ],
   "source": [
    "(((1*(229.62/100)))+1)/3"
   ]
  },
  {
   "cell_type": "code",
   "execution_count": 47,
   "metadata": {},
   "outputs": [
    {
     "data": {
      "text/plain": [
       "1.8062999999999998"
      ]
     },
     "execution_count": 47,
     "metadata": {},
     "output_type": "execute_result"
    }
   ],
   "source": [
    "((1*(80.63/100)))+1"
   ]
  },
  {
   "cell_type": "code",
   "execution_count": 48,
   "metadata": {},
   "outputs": [
    {
     "name": "stdout",
     "output_type": "stream",
     "text": [
      "Object `pf` not found.\n"
     ]
    }
   ],
   "source": [
    "pf?"
   ]
  },
  {
   "cell_type": "code",
   "execution_count": 49,
   "metadata": {},
   "outputs": [
    {
     "data": {
      "text/html": [
       "<div>\n",
       "<style scoped>\n",
       "    .dataframe tbody tr th:only-of-type {\n",
       "        vertical-align: middle;\n",
       "    }\n",
       "\n",
       "    .dataframe tbody tr th {\n",
       "        vertical-align: top;\n",
       "    }\n",
       "\n",
       "    .dataframe thead th {\n",
       "        text-align: right;\n",
       "    }\n",
       "</style>\n",
       "<table border=\"1\" class=\"dataframe\">\n",
       "  <thead>\n",
       "    <tr style=\"text-align: right;\">\n",
       "      <th></th>\n",
       "      <th>lu0340554673</th>\n",
       "      <th>lu0474966677</th>\n",
       "      <th>lu0386875149</th>\n",
       "    </tr>\n",
       "    <tr>\n",
       "      <th>index</th>\n",
       "      <th></th>\n",
       "      <th></th>\n",
       "      <th></th>\n",
       "    </tr>\n",
       "  </thead>\n",
       "  <tbody>\n",
       "    <tr>\n",
       "      <th>2019-06-14</th>\n",
       "      <td>370.96</td>\n",
       "      <td>138.50</td>\n",
       "      <td>269.42</td>\n",
       "    </tr>\n",
       "    <tr>\n",
       "      <th>2019-06-17</th>\n",
       "      <td>373.09</td>\n",
       "      <td>138.20</td>\n",
       "      <td>270.13</td>\n",
       "    </tr>\n",
       "    <tr>\n",
       "      <th>2019-06-18</th>\n",
       "      <td>380.18</td>\n",
       "      <td>138.10</td>\n",
       "      <td>274.36</td>\n",
       "    </tr>\n",
       "    <tr>\n",
       "      <th>2019-06-19</th>\n",
       "      <td>378.92</td>\n",
       "      <td>140.05</td>\n",
       "      <td>273.91</td>\n",
       "    </tr>\n",
       "    <tr>\n",
       "      <th>2019-06-20</th>\n",
       "      <td>382.68</td>\n",
       "      <td>140.01</td>\n",
       "      <td>276.10</td>\n",
       "    </tr>\n",
       "    <tr>\n",
       "      <th>...</th>\n",
       "      <td>...</td>\n",
       "      <td>...</td>\n",
       "      <td>...</td>\n",
       "    </tr>\n",
       "    <tr>\n",
       "      <th>2022-06-07</th>\n",
       "      <td>428.18</td>\n",
       "      <td>161.76</td>\n",
       "      <td>351.37</td>\n",
       "    </tr>\n",
       "    <tr>\n",
       "      <th>2022-06-08</th>\n",
       "      <td>437.47</td>\n",
       "      <td>161.89</td>\n",
       "      <td>354.28</td>\n",
       "    </tr>\n",
       "    <tr>\n",
       "      <th>2022-06-09</th>\n",
       "      <td>435.12</td>\n",
       "      <td>162.10</td>\n",
       "      <td>351.29</td>\n",
       "    </tr>\n",
       "    <tr>\n",
       "      <th>2022-06-10</th>\n",
       "      <td>423.13</td>\n",
       "      <td>161.28</td>\n",
       "      <td>342.24</td>\n",
       "    </tr>\n",
       "    <tr>\n",
       "      <th>2022-06-13</th>\n",
       "      <td>404.60</td>\n",
       "      <td>158.62</td>\n",
       "      <td>330.94</td>\n",
       "    </tr>\n",
       "  </tbody>\n",
       "</table>\n",
       "<p>689 rows × 3 columns</p>\n",
       "</div>"
      ],
      "text/plain": [
       "            lu0340554673  lu0474966677  lu0386875149\n",
       "index                                               \n",
       "2019-06-14        370.96        138.50        269.42\n",
       "2019-06-17        373.09        138.20        270.13\n",
       "2019-06-18        380.18        138.10        274.36\n",
       "2019-06-19        378.92        140.05        273.91\n",
       "2019-06-20        382.68        140.01        276.10\n",
       "...                  ...           ...           ...\n",
       "2022-06-07        428.18        161.76        351.37\n",
       "2022-06-08        437.47        161.89        354.28\n",
       "2022-06-09        435.12        162.10        351.29\n",
       "2022-06-10        423.13        161.28        342.24\n",
       "2022-06-13        404.60        158.62        330.94\n",
       "\n",
       "[689 rows x 3 columns]"
      ]
     },
     "execution_count": 49,
     "metadata": {},
     "output_type": "execute_result"
    }
   ],
   "source": [
    "prices"
   ]
  },
  {
   "cell_type": "code",
   "execution_count": 50,
   "metadata": {},
   "outputs": [
    {
     "data": {
      "text/html": [
       "<div>\n",
       "<style scoped>\n",
       "    .dataframe tbody tr th:only-of-type {\n",
       "        vertical-align: middle;\n",
       "    }\n",
       "\n",
       "    .dataframe tbody tr th {\n",
       "        vertical-align: top;\n",
       "    }\n",
       "\n",
       "    .dataframe thead th {\n",
       "        text-align: right;\n",
       "    }\n",
       "</style>\n",
       "<table border=\"1\" class=\"dataframe\">\n",
       "  <thead>\n",
       "    <tr style=\"text-align: right;\">\n",
       "      <th></th>\n",
       "      <th>lu0340554673</th>\n",
       "      <th>lu0474966677</th>\n",
       "      <th>lu0386875149</th>\n",
       "    </tr>\n",
       "    <tr>\n",
       "      <th>index</th>\n",
       "      <th></th>\n",
       "      <th></th>\n",
       "      <th></th>\n",
       "    </tr>\n",
       "  </thead>\n",
       "  <tbody>\n",
       "    <tr>\n",
       "      <th>2019-06-14</th>\n",
       "      <td>NaN</td>\n",
       "      <td>NaN</td>\n",
       "      <td>NaN</td>\n",
       "    </tr>\n",
       "    <tr>\n",
       "      <th>2019-06-17</th>\n",
       "      <td>0.005742</td>\n",
       "      <td>-0.002166</td>\n",
       "      <td>0.002635</td>\n",
       "    </tr>\n",
       "    <tr>\n",
       "      <th>2019-06-18</th>\n",
       "      <td>0.019003</td>\n",
       "      <td>-0.000724</td>\n",
       "      <td>0.015659</td>\n",
       "    </tr>\n",
       "    <tr>\n",
       "      <th>2019-06-19</th>\n",
       "      <td>-0.003314</td>\n",
       "      <td>0.014120</td>\n",
       "      <td>-0.001640</td>\n",
       "    </tr>\n",
       "    <tr>\n",
       "      <th>2019-06-20</th>\n",
       "      <td>0.009923</td>\n",
       "      <td>-0.000286</td>\n",
       "      <td>0.007995</td>\n",
       "    </tr>\n",
       "    <tr>\n",
       "      <th>...</th>\n",
       "      <td>...</td>\n",
       "      <td>...</td>\n",
       "      <td>...</td>\n",
       "    </tr>\n",
       "    <tr>\n",
       "      <th>2022-06-07</th>\n",
       "      <td>-0.000327</td>\n",
       "      <td>-0.006693</td>\n",
       "      <td>-0.002017</td>\n",
       "    </tr>\n",
       "    <tr>\n",
       "      <th>2022-06-08</th>\n",
       "      <td>0.021696</td>\n",
       "      <td>0.000804</td>\n",
       "      <td>0.008282</td>\n",
       "    </tr>\n",
       "    <tr>\n",
       "      <th>2022-06-09</th>\n",
       "      <td>-0.005372</td>\n",
       "      <td>0.001297</td>\n",
       "      <td>-0.008440</td>\n",
       "    </tr>\n",
       "    <tr>\n",
       "      <th>2022-06-10</th>\n",
       "      <td>-0.027556</td>\n",
       "      <td>-0.005059</td>\n",
       "      <td>-0.025762</td>\n",
       "    </tr>\n",
       "    <tr>\n",
       "      <th>2022-06-13</th>\n",
       "      <td>-0.043793</td>\n",
       "      <td>-0.016493</td>\n",
       "      <td>-0.033018</td>\n",
       "    </tr>\n",
       "  </tbody>\n",
       "</table>\n",
       "<p>689 rows × 3 columns</p>\n",
       "</div>"
      ],
      "text/plain": [
       "            lu0340554673  lu0474966677  lu0386875149\n",
       "index                                               \n",
       "2019-06-14           NaN           NaN           NaN\n",
       "2019-06-17      0.005742     -0.002166      0.002635\n",
       "2019-06-18      0.019003     -0.000724      0.015659\n",
       "2019-06-19     -0.003314      0.014120     -0.001640\n",
       "2019-06-20      0.009923     -0.000286      0.007995\n",
       "...                  ...           ...           ...\n",
       "2022-06-07     -0.000327     -0.006693     -0.002017\n",
       "2022-06-08      0.021696      0.000804      0.008282\n",
       "2022-06-09     -0.005372      0.001297     -0.008440\n",
       "2022-06-10     -0.027556     -0.005059     -0.025762\n",
       "2022-06-13     -0.043793     -0.016493     -0.033018\n",
       "\n",
       "[689 rows x 3 columns]"
      ]
     },
     "execution_count": 50,
     "metadata": {},
     "output_type": "execute_result"
    }
   ],
   "source": [
    "returns "
   ]
  },
  {
   "cell_type": "code",
   "execution_count": 51,
   "metadata": {},
   "outputs": [],
   "source": [
    "p = prices.copy()"
   ]
  },
  {
   "cell_type": "code",
   "execution_count": 52,
   "metadata": {},
   "outputs": [
    {
     "data": {
      "text/html": [
       "<div>\n",
       "<style scoped>\n",
       "    .dataframe tbody tr th:only-of-type {\n",
       "        vertical-align: middle;\n",
       "    }\n",
       "\n",
       "    .dataframe tbody tr th {\n",
       "        vertical-align: top;\n",
       "    }\n",
       "\n",
       "    .dataframe thead th {\n",
       "        text-align: right;\n",
       "    }\n",
       "</style>\n",
       "<table border=\"1\" class=\"dataframe\">\n",
       "  <thead>\n",
       "    <tr style=\"text-align: right;\">\n",
       "      <th></th>\n",
       "      <th>lu0340554673</th>\n",
       "      <th>lu0474966677</th>\n",
       "      <th>lu0386875149</th>\n",
       "    </tr>\n",
       "    <tr>\n",
       "      <th>index</th>\n",
       "      <th></th>\n",
       "      <th></th>\n",
       "      <th></th>\n",
       "    </tr>\n",
       "  </thead>\n",
       "  <tbody>\n",
       "    <tr>\n",
       "      <th>2019-06-14</th>\n",
       "      <td>370.96</td>\n",
       "      <td>138.50</td>\n",
       "      <td>269.42</td>\n",
       "    </tr>\n",
       "    <tr>\n",
       "      <th>2019-06-17</th>\n",
       "      <td>373.09</td>\n",
       "      <td>138.20</td>\n",
       "      <td>270.13</td>\n",
       "    </tr>\n",
       "    <tr>\n",
       "      <th>2019-06-18</th>\n",
       "      <td>380.18</td>\n",
       "      <td>138.10</td>\n",
       "      <td>274.36</td>\n",
       "    </tr>\n",
       "    <tr>\n",
       "      <th>2019-06-19</th>\n",
       "      <td>378.92</td>\n",
       "      <td>140.05</td>\n",
       "      <td>273.91</td>\n",
       "    </tr>\n",
       "    <tr>\n",
       "      <th>2019-06-20</th>\n",
       "      <td>382.68</td>\n",
       "      <td>140.01</td>\n",
       "      <td>276.10</td>\n",
       "    </tr>\n",
       "    <tr>\n",
       "      <th>...</th>\n",
       "      <td>...</td>\n",
       "      <td>...</td>\n",
       "      <td>...</td>\n",
       "    </tr>\n",
       "    <tr>\n",
       "      <th>2022-06-07</th>\n",
       "      <td>428.18</td>\n",
       "      <td>161.76</td>\n",
       "      <td>351.37</td>\n",
       "    </tr>\n",
       "    <tr>\n",
       "      <th>2022-06-08</th>\n",
       "      <td>437.47</td>\n",
       "      <td>161.89</td>\n",
       "      <td>354.28</td>\n",
       "    </tr>\n",
       "    <tr>\n",
       "      <th>2022-06-09</th>\n",
       "      <td>435.12</td>\n",
       "      <td>162.10</td>\n",
       "      <td>351.29</td>\n",
       "    </tr>\n",
       "    <tr>\n",
       "      <th>2022-06-10</th>\n",
       "      <td>423.13</td>\n",
       "      <td>161.28</td>\n",
       "      <td>342.24</td>\n",
       "    </tr>\n",
       "    <tr>\n",
       "      <th>2022-06-13</th>\n",
       "      <td>404.60</td>\n",
       "      <td>158.62</td>\n",
       "      <td>330.94</td>\n",
       "    </tr>\n",
       "  </tbody>\n",
       "</table>\n",
       "<p>689 rows × 3 columns</p>\n",
       "</div>"
      ],
      "text/plain": [
       "            lu0340554673  lu0474966677  lu0386875149\n",
       "index                                               \n",
       "2019-06-14        370.96        138.50        269.42\n",
       "2019-06-17        373.09        138.20        270.13\n",
       "2019-06-18        380.18        138.10        274.36\n",
       "2019-06-19        378.92        140.05        273.91\n",
       "2019-06-20        382.68        140.01        276.10\n",
       "...                  ...           ...           ...\n",
       "2022-06-07        428.18        161.76        351.37\n",
       "2022-06-08        437.47        161.89        354.28\n",
       "2022-06-09        435.12        162.10        351.29\n",
       "2022-06-10        423.13        161.28        342.24\n",
       "2022-06-13        404.60        158.62        330.94\n",
       "\n",
       "[689 rows x 3 columns]"
      ]
     },
     "execution_count": 52,
     "metadata": {},
     "output_type": "execute_result"
    }
   ],
   "source": [
    "p"
   ]
  },
  {
   "cell_type": "code",
   "execution_count": 53,
   "metadata": {},
   "outputs": [],
   "source": [
    "p.index = p.index.tz_localize('utc')"
   ]
  },
  {
   "cell_type": "code",
   "execution_count": 54,
   "metadata": {},
   "outputs": [
    {
     "data": {
      "text/html": [
       "<div>\n",
       "<style scoped>\n",
       "    .dataframe tbody tr th:only-of-type {\n",
       "        vertical-align: middle;\n",
       "    }\n",
       "\n",
       "    .dataframe tbody tr th {\n",
       "        vertical-align: top;\n",
       "    }\n",
       "\n",
       "    .dataframe thead th {\n",
       "        text-align: right;\n",
       "    }\n",
       "</style>\n",
       "<table border=\"1\" class=\"dataframe\">\n",
       "  <thead>\n",
       "    <tr style=\"text-align: right;\">\n",
       "      <th></th>\n",
       "      <th>lu0340554673</th>\n",
       "      <th>lu0474966677</th>\n",
       "      <th>lu0386875149</th>\n",
       "    </tr>\n",
       "    <tr>\n",
       "      <th>index</th>\n",
       "      <th></th>\n",
       "      <th></th>\n",
       "      <th></th>\n",
       "    </tr>\n",
       "  </thead>\n",
       "  <tbody>\n",
       "    <tr>\n",
       "      <th>2019-06-14 00:00:00+00:00</th>\n",
       "      <td>370.96</td>\n",
       "      <td>138.50</td>\n",
       "      <td>269.42</td>\n",
       "    </tr>\n",
       "    <tr>\n",
       "      <th>2019-06-17 00:00:00+00:00</th>\n",
       "      <td>373.09</td>\n",
       "      <td>138.20</td>\n",
       "      <td>270.13</td>\n",
       "    </tr>\n",
       "    <tr>\n",
       "      <th>2019-06-18 00:00:00+00:00</th>\n",
       "      <td>380.18</td>\n",
       "      <td>138.10</td>\n",
       "      <td>274.36</td>\n",
       "    </tr>\n",
       "    <tr>\n",
       "      <th>2019-06-19 00:00:00+00:00</th>\n",
       "      <td>378.92</td>\n",
       "      <td>140.05</td>\n",
       "      <td>273.91</td>\n",
       "    </tr>\n",
       "    <tr>\n",
       "      <th>2019-06-20 00:00:00+00:00</th>\n",
       "      <td>382.68</td>\n",
       "      <td>140.01</td>\n",
       "      <td>276.10</td>\n",
       "    </tr>\n",
       "    <tr>\n",
       "      <th>...</th>\n",
       "      <td>...</td>\n",
       "      <td>...</td>\n",
       "      <td>...</td>\n",
       "    </tr>\n",
       "    <tr>\n",
       "      <th>2022-06-07 00:00:00+00:00</th>\n",
       "      <td>428.18</td>\n",
       "      <td>161.76</td>\n",
       "      <td>351.37</td>\n",
       "    </tr>\n",
       "    <tr>\n",
       "      <th>2022-06-08 00:00:00+00:00</th>\n",
       "      <td>437.47</td>\n",
       "      <td>161.89</td>\n",
       "      <td>354.28</td>\n",
       "    </tr>\n",
       "    <tr>\n",
       "      <th>2022-06-09 00:00:00+00:00</th>\n",
       "      <td>435.12</td>\n",
       "      <td>162.10</td>\n",
       "      <td>351.29</td>\n",
       "    </tr>\n",
       "    <tr>\n",
       "      <th>2022-06-10 00:00:00+00:00</th>\n",
       "      <td>423.13</td>\n",
       "      <td>161.28</td>\n",
       "      <td>342.24</td>\n",
       "    </tr>\n",
       "    <tr>\n",
       "      <th>2022-06-13 00:00:00+00:00</th>\n",
       "      <td>404.60</td>\n",
       "      <td>158.62</td>\n",
       "      <td>330.94</td>\n",
       "    </tr>\n",
       "  </tbody>\n",
       "</table>\n",
       "<p>689 rows × 3 columns</p>\n",
       "</div>"
      ],
      "text/plain": [
       "                           lu0340554673  lu0474966677  lu0386875149\n",
       "index                                                              \n",
       "2019-06-14 00:00:00+00:00        370.96        138.50        269.42\n",
       "2019-06-17 00:00:00+00:00        373.09        138.20        270.13\n",
       "2019-06-18 00:00:00+00:00        380.18        138.10        274.36\n",
       "2019-06-19 00:00:00+00:00        378.92        140.05        273.91\n",
       "2019-06-20 00:00:00+00:00        382.68        140.01        276.10\n",
       "...                                 ...           ...           ...\n",
       "2022-06-07 00:00:00+00:00        428.18        161.76        351.37\n",
       "2022-06-08 00:00:00+00:00        437.47        161.89        354.28\n",
       "2022-06-09 00:00:00+00:00        435.12        162.10        351.29\n",
       "2022-06-10 00:00:00+00:00        423.13        161.28        342.24\n",
       "2022-06-13 00:00:00+00:00        404.60        158.62        330.94\n",
       "\n",
       "[689 rows x 3 columns]"
      ]
     },
     "execution_count": 54,
     "metadata": {},
     "output_type": "execute_result"
    }
   ],
   "source": [
    "p"
   ]
  },
  {
   "cell_type": "code",
   "execution_count": 55,
   "metadata": {},
   "outputs": [],
   "source": [
    "prices.loc[:,'p1']=20\n",
    "prices.loc[:,'p2']=30\n",
    "prices.loc[:,'p3']=50\n",
    "returns.loc['2022-01-04','p1']=20\n",
    "\n"
   ]
  },
  {
   "cell_type": "code",
   "execution_count": 56,
   "metadata": {},
   "outputs": [
    {
     "data": {
      "text/html": [
       "<div>\n",
       "<style scoped>\n",
       "    .dataframe tbody tr th:only-of-type {\n",
       "        vertical-align: middle;\n",
       "    }\n",
       "\n",
       "    .dataframe tbody tr th {\n",
       "        vertical-align: top;\n",
       "    }\n",
       "\n",
       "    .dataframe thead th {\n",
       "        text-align: right;\n",
       "    }\n",
       "</style>\n",
       "<table border=\"1\" class=\"dataframe\">\n",
       "  <thead>\n",
       "    <tr style=\"text-align: right;\">\n",
       "      <th></th>\n",
       "      <th>lu0340554673</th>\n",
       "      <th>lu0474966677</th>\n",
       "      <th>lu0386875149</th>\n",
       "      <th>p1</th>\n",
       "    </tr>\n",
       "    <tr>\n",
       "      <th>index</th>\n",
       "      <th></th>\n",
       "      <th></th>\n",
       "      <th></th>\n",
       "      <th></th>\n",
       "    </tr>\n",
       "  </thead>\n",
       "  <tbody>\n",
       "    <tr>\n",
       "      <th>2019-06-14</th>\n",
       "      <td>NaN</td>\n",
       "      <td>NaN</td>\n",
       "      <td>NaN</td>\n",
       "      <td>NaN</td>\n",
       "    </tr>\n",
       "    <tr>\n",
       "      <th>2019-06-17</th>\n",
       "      <td>0.005742</td>\n",
       "      <td>-0.002166</td>\n",
       "      <td>0.002635</td>\n",
       "      <td>NaN</td>\n",
       "    </tr>\n",
       "    <tr>\n",
       "      <th>2019-06-18</th>\n",
       "      <td>0.019003</td>\n",
       "      <td>-0.000724</td>\n",
       "      <td>0.015659</td>\n",
       "      <td>NaN</td>\n",
       "    </tr>\n",
       "    <tr>\n",
       "      <th>2019-06-19</th>\n",
       "      <td>-0.003314</td>\n",
       "      <td>0.014120</td>\n",
       "      <td>-0.001640</td>\n",
       "      <td>NaN</td>\n",
       "    </tr>\n",
       "    <tr>\n",
       "      <th>2019-06-20</th>\n",
       "      <td>0.009923</td>\n",
       "      <td>-0.000286</td>\n",
       "      <td>0.007995</td>\n",
       "      <td>NaN</td>\n",
       "    </tr>\n",
       "    <tr>\n",
       "      <th>...</th>\n",
       "      <td>...</td>\n",
       "      <td>...</td>\n",
       "      <td>...</td>\n",
       "      <td>...</td>\n",
       "    </tr>\n",
       "    <tr>\n",
       "      <th>2022-06-07</th>\n",
       "      <td>-0.000327</td>\n",
       "      <td>-0.006693</td>\n",
       "      <td>-0.002017</td>\n",
       "      <td>NaN</td>\n",
       "    </tr>\n",
       "    <tr>\n",
       "      <th>2022-06-08</th>\n",
       "      <td>0.021696</td>\n",
       "      <td>0.000804</td>\n",
       "      <td>0.008282</td>\n",
       "      <td>NaN</td>\n",
       "    </tr>\n",
       "    <tr>\n",
       "      <th>2022-06-09</th>\n",
       "      <td>-0.005372</td>\n",
       "      <td>0.001297</td>\n",
       "      <td>-0.008440</td>\n",
       "      <td>NaN</td>\n",
       "    </tr>\n",
       "    <tr>\n",
       "      <th>2022-06-10</th>\n",
       "      <td>-0.027556</td>\n",
       "      <td>-0.005059</td>\n",
       "      <td>-0.025762</td>\n",
       "      <td>NaN</td>\n",
       "    </tr>\n",
       "    <tr>\n",
       "      <th>2022-06-13</th>\n",
       "      <td>-0.043793</td>\n",
       "      <td>-0.016493</td>\n",
       "      <td>-0.033018</td>\n",
       "      <td>NaN</td>\n",
       "    </tr>\n",
       "  </tbody>\n",
       "</table>\n",
       "<p>689 rows × 4 columns</p>\n",
       "</div>"
      ],
      "text/plain": [
       "            lu0340554673  lu0474966677  lu0386875149  p1\n",
       "index                                                   \n",
       "2019-06-14           NaN           NaN           NaN NaN\n",
       "2019-06-17      0.005742     -0.002166      0.002635 NaN\n",
       "2019-06-18      0.019003     -0.000724      0.015659 NaN\n",
       "2019-06-19     -0.003314      0.014120     -0.001640 NaN\n",
       "2019-06-20      0.009923     -0.000286      0.007995 NaN\n",
       "...                  ...           ...           ...  ..\n",
       "2022-06-07     -0.000327     -0.006693     -0.002017 NaN\n",
       "2022-06-08      0.021696      0.000804      0.008282 NaN\n",
       "2022-06-09     -0.005372      0.001297     -0.008440 NaN\n",
       "2022-06-10     -0.027556     -0.005059     -0.025762 NaN\n",
       "2022-06-13     -0.043793     -0.016493     -0.033018 NaN\n",
       "\n",
       "[689 rows x 4 columns]"
      ]
     },
     "execution_count": 56,
     "metadata": {},
     "output_type": "execute_result"
    }
   ],
   "source": [
    "returns"
   ]
  },
  {
   "cell_type": "code",
   "execution_count": 57,
   "metadata": {},
   "outputs": [
    {
     "data": {
      "text/html": [
       "<div>\n",
       "<style scoped>\n",
       "    .dataframe tbody tr th:only-of-type {\n",
       "        vertical-align: middle;\n",
       "    }\n",
       "\n",
       "    .dataframe tbody tr th {\n",
       "        vertical-align: top;\n",
       "    }\n",
       "\n",
       "    .dataframe thead th {\n",
       "        text-align: right;\n",
       "    }\n",
       "</style>\n",
       "<table border=\"1\" class=\"dataframe\">\n",
       "  <thead>\n",
       "    <tr style=\"text-align: right;\">\n",
       "      <th></th>\n",
       "      <th>lu0340554673</th>\n",
       "      <th>lu0474966677</th>\n",
       "      <th>lu0386875149</th>\n",
       "      <th>p1</th>\n",
       "      <th>p2</th>\n",
       "      <th>p3</th>\n",
       "    </tr>\n",
       "    <tr>\n",
       "      <th>index</th>\n",
       "      <th></th>\n",
       "      <th></th>\n",
       "      <th></th>\n",
       "      <th></th>\n",
       "      <th></th>\n",
       "      <th></th>\n",
       "    </tr>\n",
       "  </thead>\n",
       "  <tbody>\n",
       "    <tr>\n",
       "      <th>2019-06-14</th>\n",
       "      <td>370.96</td>\n",
       "      <td>138.50</td>\n",
       "      <td>269.42</td>\n",
       "      <td>20</td>\n",
       "      <td>30</td>\n",
       "      <td>50</td>\n",
       "    </tr>\n",
       "    <tr>\n",
       "      <th>2019-06-17</th>\n",
       "      <td>373.09</td>\n",
       "      <td>138.20</td>\n",
       "      <td>270.13</td>\n",
       "      <td>20</td>\n",
       "      <td>30</td>\n",
       "      <td>50</td>\n",
       "    </tr>\n",
       "    <tr>\n",
       "      <th>2019-06-18</th>\n",
       "      <td>380.18</td>\n",
       "      <td>138.10</td>\n",
       "      <td>274.36</td>\n",
       "      <td>20</td>\n",
       "      <td>30</td>\n",
       "      <td>50</td>\n",
       "    </tr>\n",
       "    <tr>\n",
       "      <th>2019-06-19</th>\n",
       "      <td>378.92</td>\n",
       "      <td>140.05</td>\n",
       "      <td>273.91</td>\n",
       "      <td>20</td>\n",
       "      <td>30</td>\n",
       "      <td>50</td>\n",
       "    </tr>\n",
       "    <tr>\n",
       "      <th>2019-06-20</th>\n",
       "      <td>382.68</td>\n",
       "      <td>140.01</td>\n",
       "      <td>276.10</td>\n",
       "      <td>20</td>\n",
       "      <td>30</td>\n",
       "      <td>50</td>\n",
       "    </tr>\n",
       "    <tr>\n",
       "      <th>...</th>\n",
       "      <td>...</td>\n",
       "      <td>...</td>\n",
       "      <td>...</td>\n",
       "      <td>...</td>\n",
       "      <td>...</td>\n",
       "      <td>...</td>\n",
       "    </tr>\n",
       "    <tr>\n",
       "      <th>2022-06-07</th>\n",
       "      <td>428.18</td>\n",
       "      <td>161.76</td>\n",
       "      <td>351.37</td>\n",
       "      <td>20</td>\n",
       "      <td>30</td>\n",
       "      <td>50</td>\n",
       "    </tr>\n",
       "    <tr>\n",
       "      <th>2022-06-08</th>\n",
       "      <td>437.47</td>\n",
       "      <td>161.89</td>\n",
       "      <td>354.28</td>\n",
       "      <td>20</td>\n",
       "      <td>30</td>\n",
       "      <td>50</td>\n",
       "    </tr>\n",
       "    <tr>\n",
       "      <th>2022-06-09</th>\n",
       "      <td>435.12</td>\n",
       "      <td>162.10</td>\n",
       "      <td>351.29</td>\n",
       "      <td>20</td>\n",
       "      <td>30</td>\n",
       "      <td>50</td>\n",
       "    </tr>\n",
       "    <tr>\n",
       "      <th>2022-06-10</th>\n",
       "      <td>423.13</td>\n",
       "      <td>161.28</td>\n",
       "      <td>342.24</td>\n",
       "      <td>20</td>\n",
       "      <td>30</td>\n",
       "      <td>50</td>\n",
       "    </tr>\n",
       "    <tr>\n",
       "      <th>2022-06-13</th>\n",
       "      <td>404.60</td>\n",
       "      <td>158.62</td>\n",
       "      <td>330.94</td>\n",
       "      <td>20</td>\n",
       "      <td>30</td>\n",
       "      <td>50</td>\n",
       "    </tr>\n",
       "  </tbody>\n",
       "</table>\n",
       "<p>689 rows × 6 columns</p>\n",
       "</div>"
      ],
      "text/plain": [
       "            lu0340554673  lu0474966677  lu0386875149  p1  p2  p3\n",
       "index                                                           \n",
       "2019-06-14        370.96        138.50        269.42  20  30  50\n",
       "2019-06-17        373.09        138.20        270.13  20  30  50\n",
       "2019-06-18        380.18        138.10        274.36  20  30  50\n",
       "2019-06-19        378.92        140.05        273.91  20  30  50\n",
       "2019-06-20        382.68        140.01        276.10  20  30  50\n",
       "...                  ...           ...           ...  ..  ..  ..\n",
       "2022-06-07        428.18        161.76        351.37  20  30  50\n",
       "2022-06-08        437.47        161.89        354.28  20  30  50\n",
       "2022-06-09        435.12        162.10        351.29  20  30  50\n",
       "2022-06-10        423.13        161.28        342.24  20  30  50\n",
       "2022-06-13        404.60        158.62        330.94  20  30  50\n",
       "\n",
       "[689 rows x 6 columns]"
      ]
     },
     "execution_count": 57,
     "metadata": {},
     "output_type": "execute_result"
    }
   ],
   "source": [
    "prices"
   ]
  },
  {
   "cell_type": "code",
   "execution_count": 58,
   "metadata": {},
   "outputs": [
    {
     "data": {
      "text/plain": [
       "19.707304226782792"
      ]
     },
     "execution_count": 58,
     "metadata": {},
     "output_type": "execute_result"
    }
   ],
   "source": [
    "523.83/531.61*20"
   ]
  },
  {
   "cell_type": "code",
   "execution_count": 59,
   "metadata": {},
   "outputs": [
    {
     "data": {
      "text/html": [
       "<div>\n",
       "<style scoped>\n",
       "    .dataframe tbody tr th:only-of-type {\n",
       "        vertical-align: middle;\n",
       "    }\n",
       "\n",
       "    .dataframe tbody tr th {\n",
       "        vertical-align: top;\n",
       "    }\n",
       "\n",
       "    .dataframe thead th {\n",
       "        text-align: right;\n",
       "    }\n",
       "</style>\n",
       "<table border=\"1\" class=\"dataframe\">\n",
       "  <thead>\n",
       "    <tr style=\"text-align: right;\">\n",
       "      <th></th>\n",
       "      <th>lu0340554673</th>\n",
       "      <th>lu0474966677</th>\n",
       "      <th>lu0386875149</th>\n",
       "      <th>p1</th>\n",
       "      <th>p2</th>\n",
       "      <th>p3</th>\n",
       "    </tr>\n",
       "    <tr>\n",
       "      <th>index</th>\n",
       "      <th></th>\n",
       "      <th></th>\n",
       "      <th></th>\n",
       "      <th></th>\n",
       "      <th></th>\n",
       "      <th></th>\n",
       "    </tr>\n",
       "  </thead>\n",
       "  <tbody>\n",
       "    <tr>\n",
       "      <th>2019-06-14</th>\n",
       "      <td>NaN</td>\n",
       "      <td>NaN</td>\n",
       "      <td>NaN</td>\n",
       "      <td>NaN</td>\n",
       "      <td>NaN</td>\n",
       "      <td>NaN</td>\n",
       "    </tr>\n",
       "    <tr>\n",
       "      <th>2019-06-17</th>\n",
       "      <td>1.005742</td>\n",
       "      <td>0.997834</td>\n",
       "      <td>1.002635</td>\n",
       "      <td>NaN</td>\n",
       "      <td>NaN</td>\n",
       "      <td>NaN</td>\n",
       "    </tr>\n",
       "    <tr>\n",
       "      <th>2019-06-18</th>\n",
       "      <td>1.019003</td>\n",
       "      <td>0.999276</td>\n",
       "      <td>1.015659</td>\n",
       "      <td>NaN</td>\n",
       "      <td>NaN</td>\n",
       "      <td>NaN</td>\n",
       "    </tr>\n",
       "    <tr>\n",
       "      <th>2019-06-19</th>\n",
       "      <td>0.996686</td>\n",
       "      <td>1.014120</td>\n",
       "      <td>0.998360</td>\n",
       "      <td>NaN</td>\n",
       "      <td>NaN</td>\n",
       "      <td>NaN</td>\n",
       "    </tr>\n",
       "    <tr>\n",
       "      <th>2019-06-20</th>\n",
       "      <td>1.009923</td>\n",
       "      <td>0.999714</td>\n",
       "      <td>1.007995</td>\n",
       "      <td>NaN</td>\n",
       "      <td>NaN</td>\n",
       "      <td>NaN</td>\n",
       "    </tr>\n",
       "    <tr>\n",
       "      <th>...</th>\n",
       "      <td>...</td>\n",
       "      <td>...</td>\n",
       "      <td>...</td>\n",
       "      <td>...</td>\n",
       "      <td>...</td>\n",
       "      <td>...</td>\n",
       "    </tr>\n",
       "    <tr>\n",
       "      <th>2022-06-08</th>\n",
       "      <td>1.021696</td>\n",
       "      <td>1.000804</td>\n",
       "      <td>1.008282</td>\n",
       "      <td>NaN</td>\n",
       "      <td>NaN</td>\n",
       "      <td>NaN</td>\n",
       "    </tr>\n",
       "    <tr>\n",
       "      <th>2022-06-09</th>\n",
       "      <td>0.994628</td>\n",
       "      <td>1.001297</td>\n",
       "      <td>0.991560</td>\n",
       "      <td>NaN</td>\n",
       "      <td>NaN</td>\n",
       "      <td>NaN</td>\n",
       "    </tr>\n",
       "    <tr>\n",
       "      <th>2022-06-10</th>\n",
       "      <td>0.972444</td>\n",
       "      <td>0.994941</td>\n",
       "      <td>0.974238</td>\n",
       "      <td>NaN</td>\n",
       "      <td>NaN</td>\n",
       "      <td>NaN</td>\n",
       "    </tr>\n",
       "    <tr>\n",
       "      <th>2022-06-13</th>\n",
       "      <td>0.956207</td>\n",
       "      <td>0.983507</td>\n",
       "      <td>0.966982</td>\n",
       "      <td>NaN</td>\n",
       "      <td>NaN</td>\n",
       "      <td>NaN</td>\n",
       "    </tr>\n",
       "    <tr>\n",
       "      <th>2018-01-04</th>\n",
       "      <td>NaN</td>\n",
       "      <td>NaN</td>\n",
       "      <td>NaN</td>\n",
       "      <td>20.0</td>\n",
       "      <td>30.0</td>\n",
       "      <td>50.0</td>\n",
       "    </tr>\n",
       "  </tbody>\n",
       "</table>\n",
       "<p>690 rows × 6 columns</p>\n",
       "</div>"
      ],
      "text/plain": [
       "            lu0340554673  lu0474966677  lu0386875149    p1    p2    p3\n",
       "index                                                                 \n",
       "2019-06-14           NaN           NaN           NaN   NaN   NaN   NaN\n",
       "2019-06-17      1.005742      0.997834      1.002635   NaN   NaN   NaN\n",
       "2019-06-18      1.019003      0.999276      1.015659   NaN   NaN   NaN\n",
       "2019-06-19      0.996686      1.014120      0.998360   NaN   NaN   NaN\n",
       "2019-06-20      1.009923      0.999714      1.007995   NaN   NaN   NaN\n",
       "...                  ...           ...           ...   ...   ...   ...\n",
       "2022-06-08      1.021696      1.000804      1.008282   NaN   NaN   NaN\n",
       "2022-06-09      0.994628      1.001297      0.991560   NaN   NaN   NaN\n",
       "2022-06-10      0.972444      0.994941      0.974238   NaN   NaN   NaN\n",
       "2022-06-13      0.956207      0.983507      0.966982   NaN   NaN   NaN\n",
       "2018-01-04           NaN           NaN           NaN  20.0  30.0  50.0\n",
       "\n",
       "[690 rows x 6 columns]"
      ]
     },
     "execution_count": 59,
     "metadata": {},
     "output_type": "execute_result"
    }
   ],
   "source": [
    "returns_1 = returns + 1\n",
    "returns_1.loc['2018-01-04','p1']=20\n",
    "returns_1.loc['2018-01-04','p2']=30\n",
    "returns_1.loc['2018-01-04','p3']=50\n",
    "returns_1"
   ]
  },
  {
   "cell_type": "code",
   "execution_count": 60,
   "metadata": {},
   "outputs": [
    {
     "ename": "IndexError",
     "evalue": "index 690 is out of bounds for axis 0 with size 690",
     "output_type": "error",
     "traceback": [
      "\u001b[0;31m---------------------------------------------------------------------------\u001b[0m",
      "\u001b[0;31mIndexError\u001b[0m                                Traceback (most recent call last)",
      "\u001b[1;32m/Users/darylfelix/MachineLearning/pamdigital-kit-backend/src/Python/pam.simulator/simulation-ffn.ipynb Cell 48'\u001b[0m in \u001b[0;36m<cell line: 1>\u001b[0;34m()\u001b[0m\n\u001b[1;32m      <a href='vscode-notebook-cell:/Users/darylfelix/MachineLearning/pamdigital-kit-backend/src/Python/pam.simulator/simulation-ffn.ipynb#ch0000043?line=0'>1</a>\u001b[0m \u001b[39mfor\u001b[39;00m i \u001b[39min\u001b[39;00m \u001b[39mrange\u001b[39m(\u001b[39m1\u001b[39m,\u001b[39m1017\u001b[39m):\n\u001b[0;32m----> <a href='vscode-notebook-cell:/Users/darylfelix/MachineLearning/pamdigital-kit-backend/src/Python/pam.simulator/simulation-ffn.ipynb#ch0000043?line=1'>2</a>\u001b[0m     returns_1\u001b[39m.\u001b[39miloc[i,\u001b[39m3\u001b[39m] \u001b[39m=\u001b[39m returns_1\u001b[39m.\u001b[39miloc[i\u001b[39m-\u001b[39m\u001b[39m1\u001b[39m,\u001b[39m3\u001b[39m] \u001b[39m*\u001b[39m returns_1\u001b[39m.\u001b[39;49miloc[i,\u001b[39m0\u001b[39;49m]\n\u001b[1;32m      <a href='vscode-notebook-cell:/Users/darylfelix/MachineLearning/pamdigital-kit-backend/src/Python/pam.simulator/simulation-ffn.ipynb#ch0000043?line=2'>3</a>\u001b[0m     returns_1\u001b[39m.\u001b[39miloc[i,\u001b[39m4\u001b[39m] \u001b[39m=\u001b[39m returns_1\u001b[39m.\u001b[39miloc[i\u001b[39m-\u001b[39m\u001b[39m1\u001b[39m,\u001b[39m4\u001b[39m] \u001b[39m*\u001b[39m returns_1\u001b[39m.\u001b[39miloc[i,\u001b[39m1\u001b[39m]\n\u001b[1;32m      <a href='vscode-notebook-cell:/Users/darylfelix/MachineLearning/pamdigital-kit-backend/src/Python/pam.simulator/simulation-ffn.ipynb#ch0000043?line=3'>4</a>\u001b[0m     returns_1\u001b[39m.\u001b[39miloc[i,\u001b[39m5\u001b[39m] \u001b[39m=\u001b[39m returns_1\u001b[39m.\u001b[39miloc[i\u001b[39m-\u001b[39m\u001b[39m1\u001b[39m,\u001b[39m5\u001b[39m] \u001b[39m*\u001b[39m returns_1\u001b[39m.\u001b[39miloc[i,\u001b[39m2\u001b[39m]\n",
      "File \u001b[0;32m~/MachineLearning/pamdigital-kit-backend/src/Python/pam.simulator/.venv/lib/python3.10/site-packages/pandas/core/indexing.py:960\u001b[0m, in \u001b[0;36m_LocationIndexer.__getitem__\u001b[0;34m(self, key)\u001b[0m\n\u001b[1;32m    958\u001b[0m     key \u001b[39m=\u001b[39m \u001b[39mtuple\u001b[39m(com\u001b[39m.\u001b[39mapply_if_callable(x, \u001b[39mself\u001b[39m\u001b[39m.\u001b[39mobj) \u001b[39mfor\u001b[39;00m x \u001b[39min\u001b[39;00m key)\n\u001b[1;32m    959\u001b[0m     \u001b[39mif\u001b[39;00m \u001b[39mself\u001b[39m\u001b[39m.\u001b[39m_is_scalar_access(key):\n\u001b[0;32m--> 960\u001b[0m         \u001b[39mreturn\u001b[39;00m \u001b[39mself\u001b[39;49m\u001b[39m.\u001b[39;49mobj\u001b[39m.\u001b[39;49m_get_value(\u001b[39m*\u001b[39;49mkey, takeable\u001b[39m=\u001b[39;49m\u001b[39mself\u001b[39;49m\u001b[39m.\u001b[39;49m_takeable)\n\u001b[1;32m    961\u001b[0m     \u001b[39mreturn\u001b[39;00m \u001b[39mself\u001b[39m\u001b[39m.\u001b[39m_getitem_tuple(key)\n\u001b[1;32m    962\u001b[0m \u001b[39melse\u001b[39;00m:\n\u001b[1;32m    963\u001b[0m     \u001b[39m# we by definition only have the 0th axis\u001b[39;00m\n",
      "File \u001b[0;32m~/MachineLearning/pamdigital-kit-backend/src/Python/pam.simulator/.venv/lib/python3.10/site-packages/pandas/core/frame.py:3614\u001b[0m, in \u001b[0;36mDataFrame._get_value\u001b[0;34m(self, index, col, takeable)\u001b[0m\n\u001b[1;32m   3612\u001b[0m \u001b[39mif\u001b[39;00m takeable:\n\u001b[1;32m   3613\u001b[0m     series \u001b[39m=\u001b[39m \u001b[39mself\u001b[39m\u001b[39m.\u001b[39m_ixs(col, axis\u001b[39m=\u001b[39m\u001b[39m1\u001b[39m)\n\u001b[0;32m-> 3614\u001b[0m     \u001b[39mreturn\u001b[39;00m series\u001b[39m.\u001b[39;49m_values[index]\n\u001b[1;32m   3616\u001b[0m series \u001b[39m=\u001b[39m \u001b[39mself\u001b[39m\u001b[39m.\u001b[39m_get_item_cache(col)\n\u001b[1;32m   3617\u001b[0m engine \u001b[39m=\u001b[39m \u001b[39mself\u001b[39m\u001b[39m.\u001b[39mindex\u001b[39m.\u001b[39m_engine\n",
      "\u001b[0;31mIndexError\u001b[0m: index 690 is out of bounds for axis 0 with size 690"
     ]
    }
   ],
   "source": [
    "for i in range(1,1017):\n",
    "    returns_1.iloc[i,3] = returns_1.iloc[i-1,3] * returns_1.iloc[i,0]\n",
    "    returns_1.iloc[i,4] = returns_1.iloc[i-1,4] * returns_1.iloc[i,1]\n",
    "    returns_1.iloc[i,5] = returns_1.iloc[i-1,5] * returns_1.iloc[i,2]\n",
    "    "
   ]
  },
  {
   "cell_type": "code",
   "execution_count": null,
   "metadata": {},
   "outputs": [],
   "source": [
    "returns_1['p']=returns_1['p1']+returns_1['p3']+returns_1['p2']"
   ]
  },
  {
   "cell_type": "code",
   "execution_count": null,
   "metadata": {},
   "outputs": [],
   "source": [
    "returns_1"
   ]
  },
  {
   "cell_type": "code",
   "execution_count": null,
   "metadata": {},
   "outputs": [],
   "source": [
    "portfolio = returns_1['p']\n",
    "pd.DataFrame(portfolio).to_csv('portfolios/ptf1a.csv')"
   ]
  },
  {
   "cell_type": "code",
   "execution_count": null,
   "metadata": {},
   "outputs": [],
   "source": [
    "isins = ['p']\n",
    "filename = 'portfolios/ptf1a.csv'\n",
    "ptf_prices = ffn.get(f'{isins[0]}', provider=ffn.data.csv, path=filename)\n",
    "ptf_prices\n"
   ]
  },
  {
   "cell_type": "code",
   "execution_count": null,
   "metadata": {},
   "outputs": [],
   "source": [
    "ptf_stats = ptf_prices.calc_stats()"
   ]
  },
  {
   "cell_type": "code",
   "execution_count": null,
   "metadata": {},
   "outputs": [],
   "source": [
    "ffn.core.GroupStats(ptf_prices).display()"
   ]
  },
  {
   "cell_type": "code",
   "execution_count": null,
   "metadata": {},
   "outputs": [],
   "source": [
    "sns.lineplot(data=ptf_prices)\n",
    "plt.show()"
   ]
  },
  {
   "cell_type": "code",
   "execution_count": null,
   "metadata": {},
   "outputs": [],
   "source": [
    "data = ptf_prices.reset_index().copy()\n",
    "data"
   ]
  },
  {
   "cell_type": "code",
   "execution_count": null,
   "metadata": {},
   "outputs": [],
   "source": [
    "data['month'] = [i.month for i in data['index']]\n",
    "data['year'] = [i.year for i in data['index']]\n",
    "data['day_of_week'] = [i.dayofweek for i in data['index']]\n",
    "data['day_of_year'] = [i.dayofyear for i in data['index']]\n"
   ]
  },
  {
   "cell_type": "code",
   "execution_count": null,
   "metadata": {},
   "outputs": [],
   "source": [
    "data"
   ]
  },
  {
   "cell_type": "code",
   "execution_count": null,
   "metadata": {},
   "outputs": [],
   "source": [
    "data.year.value_counts()"
   ]
  },
  {
   "cell_type": "code",
   "execution_count": null,
   "metadata": {},
   "outputs": [],
   "source": [
    "train = data[data['year'] < 2021]\n",
    "test = data[data['year'] >= 2021]"
   ]
  },
  {
   "cell_type": "code",
   "execution_count": null,
   "metadata": {},
   "outputs": [],
   "source": [
    "#pip install pycaret "
   ]
  },
  {
   "cell_type": "code",
   "execution_count": null,
   "metadata": {},
   "outputs": [],
   "source": [
    "ptf_prices"
   ]
  },
  {
   "cell_type": "code",
   "execution_count": null,
   "metadata": {},
   "outputs": [],
   "source": [
    "data = ptf_prices.copy()\n",
    "\n",
    "# Fill gaps in a temporary index\n",
    "# ==============================================================================\n",
    "data.asfreq(freq='d', method='bfill')\n",
    "# Verify that a temporary index is complete\n"
   ]
  },
  {
   "cell_type": "code",
   "execution_count": null,
   "metadata": {},
   "outputs": [],
   "source": [
    "data = data.asfreq('d')\n",
    "print(data.index.freq)"
   ]
  },
  {
   "cell_type": "code",
   "execution_count": null,
   "metadata": {},
   "outputs": [],
   "source": [
    "# ==============================================================================\n",
    "(data.index == pd.date_range(start=data.index.min(),\n",
    "                             end=data.index.max(),\n",
    "                             freq=data.index.freq)).all()"
   ]
  },
  {
   "cell_type": "code",
   "execution_count": null,
   "metadata": {},
   "outputs": [],
   "source": [
    "data.fillna(method='bfill', inplace=True)\n",
    "print(f'Number of rows with missing values: {data.isnull().any(axis=1).mean()}')"
   ]
  },
  {
   "cell_type": "code",
   "execution_count": null,
   "metadata": {},
   "outputs": [],
   "source": [
    "data.shape"
   ]
  },
  {
   "cell_type": "code",
   "execution_count": null,
   "metadata": {},
   "outputs": [],
   "source": [
    "data.columns"
   ]
  },
  {
   "cell_type": "code",
   "execution_count": null,
   "metadata": {},
   "outputs": [],
   "source": [
    "data"
   ]
  },
  {
   "cell_type": "code",
   "execution_count": null,
   "metadata": {},
   "outputs": [],
   "source": [
    "# Split data into train-test\n",
    "# ==============================================================================\n",
    "steps = 622\n",
    "data_train = data[:-steps]\n",
    "data_test  = data[-steps:]\n",
    "\n",
    "print(f\"Train dates : {data_train.index.min()} --- {data_train.index.max()}  (n={len(data_train)})\")\n",
    "print(f\"Test dates  : {data_test.index.min()} --- {data_test.index.max()}  (n={len(data_test)})\")\n",
    "\n",
    "fig, ax=plt.subplots(figsize=(9, 4))\n",
    "data_train['p'].plot(ax=ax, label='train')\n",
    "data_test['p'].plot(ax=ax, label='test')\n",
    "ax.legend();"
   ]
  },
  {
   "cell_type": "code",
   "execution_count": null,
   "metadata": {},
   "outputs": [],
   "source": [
    "sns.lineplot(data=ptf_prices)\n",
    "plt.show()"
   ]
  },
  {
   "cell_type": "code",
   "execution_count": null,
   "metadata": {},
   "outputs": [],
   "source": [
    "# Create and train forecaster\n",
    "# ==============================================================================\n",
    "forecaster = ForecasterAutoreg(\n",
    "                regressor = RandomForestRegressor(random_state=123),\n",
    "                lags = 365\n",
    "                )\n",
    "\n",
    "forecaster.fit(y=data_train['p'])\n",
    "forecaster"
   ]
  },
  {
   "cell_type": "code",
   "execution_count": null,
   "metadata": {},
   "outputs": [],
   "source": [
    "# Predictions\n",
    "# ==============================================================================\n",
    "steps = 622\n",
    "predictions = forecaster.predict(steps=steps)\n",
    "predictions.head(5)"
   ]
  },
  {
   "cell_type": "code",
   "execution_count": null,
   "metadata": {},
   "outputs": [],
   "source": [
    "# Plot\n",
    "# ==============================================================================\n",
    "fig, ax = plt.subplots(figsize=(9, 4))\n",
    "data_train['p'].plot(ax=ax, label='train')\n",
    "data_test['p'].plot(ax=ax, label='test')\n",
    "predictions.plot(ax=ax, label='predictions')\n",
    "ax.legend();"
   ]
  },
  {
   "cell_type": "code",
   "execution_count": null,
   "metadata": {},
   "outputs": [],
   "source": [
    "# Test error\n",
    "# ==============================================================================\n",
    "error_mse = mean_squared_error(\n",
    "                y_true = data_test['p'],\n",
    "                y_pred = predictions\n",
    "            )\n",
    "\n",
    "print(f\"Test error (mse): {error_mse}\")"
   ]
  },
  {
   "cell_type": "code",
   "execution_count": null,
   "metadata": {},
   "outputs": [],
   "source": []
  }
 ],
 "metadata": {
  "kernelspec": {
   "display_name": "Python 3.10.1 ('.venv': venv)",
   "language": "python",
   "name": "python3"
  },
  "language_info": {
   "codemirror_mode": {
    "name": "ipython",
    "version": 3
   },
   "file_extension": ".py",
   "mimetype": "text/x-python",
   "name": "python",
   "nbconvert_exporter": "python",
   "pygments_lexer": "ipython3",
   "version": "3.10.1"
  },
  "toc": {
   "base_numbering": 1,
   "nav_menu": {},
   "number_sections": true,
   "sideBar": true,
   "skip_h1_title": false,
   "title_cell": "Table of Contents",
   "title_sidebar": "Contents",
   "toc_cell": false,
   "toc_position": {},
   "toc_section_display": true,
   "toc_window_display": false
  },
  "vscode": {
   "interpreter": {
    "hash": "2a2143022f1d3c29750552eb68d88c77490049a70f070f16b59be87d5de423eb"
   }
  }
 },
 "nbformat": 4,
 "nbformat_minor": 2
}
