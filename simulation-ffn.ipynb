{
 "cells": [
  {
   "cell_type": "code",
   "execution_count": 16,
   "metadata": {},
   "outputs": [
    {
     "data": {
      "text/plain": [
       "'!pip install ffn\\n!pip install pypfopt\\n!pip install empyrical'"
      ]
     },
     "execution_count": 16,
     "metadata": {},
     "output_type": "execute_result"
    }
   ],
   "source": [
    "\"\"\"!pip install ffn\n",
    "!pip install pypfopt\n",
    "!pip install empyrical\"\"\""
   ]
  },
  {
   "cell_type": "code",
   "execution_count": 25,
   "metadata": {},
   "outputs": [],
   "source": [
    "import ffn\n",
    "\n",
    "import numpy as np\n",
    "import pandas as pd\n",
    "from empyrical import alpha_beta\n",
    "import seaborn as sns\n",
    "import warnings\n",
    "warnings.filterwarnings(\"ignore\")\n",
    "#import matplotlib.pyplot as plt\n",
    "import warnings\n",
    "#plt.style.use('dark_background')\n",
    "#warnings.simplefilter(action='ignore', category=FutureWarning)\n",
    "\n",
    "%matplotlib inline"
   ]
  },
  {
   "cell_type": "code",
   "execution_count": 26,
   "metadata": {},
   "outputs": [],
   "source": [
    "\n",
    "folder = '../data/'\n",
    "file = 'ffn.csv'\n",
    "filename = f\"{folder}{file}\"\n",
    "isin='LU0843168575'\n",
    "filename\n",
    "\n",
    "isins=['LU0280438135','LU0255977372','LU0133806785']"
   ]
  },
  {
   "cell_type": "code",
   "execution_count": 27,
   "metadata": {},
   "outputs": [
    {
     "data": {
      "text/html": [
       "<div>\n",
       "<style scoped>\n",
       "    .dataframe tbody tr th:only-of-type {\n",
       "        vertical-align: middle;\n",
       "    }\n",
       "\n",
       "    .dataframe tbody tr th {\n",
       "        vertical-align: top;\n",
       "    }\n",
       "\n",
       "    .dataframe thead th {\n",
       "        text-align: right;\n",
       "    }\n",
       "</style>\n",
       "<table border=\"1\" class=\"dataframe\">\n",
       "  <thead>\n",
       "    <tr style=\"text-align: right;\">\n",
       "      <th></th>\n",
       "      <th>lu0280438135nav</th>\n",
       "      <th>lu0255977372nav</th>\n",
       "      <th>lu0133806785nav</th>\n",
       "    </tr>\n",
       "    <tr>\n",
       "      <th>index</th>\n",
       "      <th></th>\n",
       "      <th></th>\n",
       "      <th></th>\n",
       "    </tr>\n",
       "  </thead>\n",
       "  <tbody>\n",
       "    <tr>\n",
       "      <th>2007-01-31</th>\n",
       "      <td>82.94</td>\n",
       "      <td>235.61</td>\n",
       "      <td>153.18</td>\n",
       "    </tr>\n",
       "    <tr>\n",
       "      <th>2007-02-28</th>\n",
       "      <td>82.03</td>\n",
       "      <td>225.88</td>\n",
       "      <td>154.05</td>\n",
       "    </tr>\n",
       "    <tr>\n",
       "      <th>2007-03-30</th>\n",
       "      <td>82.71</td>\n",
       "      <td>222.03</td>\n",
       "      <td>154.49</td>\n",
       "    </tr>\n",
       "    <tr>\n",
       "      <th>2007-04-30</th>\n",
       "      <td>81.72</td>\n",
       "      <td>234.12</td>\n",
       "      <td>156.03</td>\n",
       "    </tr>\n",
       "    <tr>\n",
       "      <th>2007-05-31</th>\n",
       "      <td>83.09</td>\n",
       "      <td>242.14</td>\n",
       "      <td>157.24</td>\n",
       "    </tr>\n",
       "    <tr>\n",
       "      <th>...</th>\n",
       "      <td>...</td>\n",
       "      <td>...</td>\n",
       "      <td>...</td>\n",
       "    </tr>\n",
       "    <tr>\n",
       "      <th>2021-11-30</th>\n",
       "      <td>166.18</td>\n",
       "      <td>939.68</td>\n",
       "      <td>296.01</td>\n",
       "    </tr>\n",
       "    <tr>\n",
       "      <th>2021-12-31</th>\n",
       "      <td>167.60</td>\n",
       "      <td>967.02</td>\n",
       "      <td>299.31</td>\n",
       "    </tr>\n",
       "    <tr>\n",
       "      <th>2022-02-28</th>\n",
       "      <td>168.66</td>\n",
       "      <td>778.52</td>\n",
       "      <td>282.88</td>\n",
       "    </tr>\n",
       "    <tr>\n",
       "      <th>2022-03-31</th>\n",
       "      <td>168.67</td>\n",
       "      <td>817.40</td>\n",
       "      <td>284.24</td>\n",
       "    </tr>\n",
       "    <tr>\n",
       "      <th>2022-04-29</th>\n",
       "      <td>171.32</td>\n",
       "      <td>776.61</td>\n",
       "      <td>276.69</td>\n",
       "    </tr>\n",
       "  </tbody>\n",
       "</table>\n",
       "<p>168 rows × 3 columns</p>\n",
       "</div>"
      ],
      "text/plain": [
       "            lu0280438135nav  lu0255977372nav  lu0133806785nav\n",
       "index                                                        \n",
       "2007-01-31            82.94           235.61           153.18\n",
       "2007-02-28            82.03           225.88           154.05\n",
       "2007-03-30            82.71           222.03           154.49\n",
       "2007-04-30            81.72           234.12           156.03\n",
       "2007-05-31            83.09           242.14           157.24\n",
       "...                     ...              ...              ...\n",
       "2021-11-30           166.18           939.68           296.01\n",
       "2021-12-31           167.60           967.02           299.31\n",
       "2022-02-28           168.66           778.52           282.88\n",
       "2022-03-31           168.67           817.40           284.24\n",
       "2022-04-29           171.32           776.61           276.69\n",
       "\n",
       "[168 rows x 3 columns]"
      ]
     },
     "execution_count": 27,
     "metadata": {},
     "output_type": "execute_result"
    }
   ],
   "source": [
    "prices = ffn.get(f'{isins[0]}-NAV,{isins[1]}-NAV,{isins[2]}-NAV', provider=ffn.data.csv, path=filename)\n",
    "prices\n"
   ]
  },
  {
   "cell_type": "code",
   "execution_count": 28,
   "metadata": {},
   "outputs": [
    {
     "data": {
      "application/javascript": [
       "\n",
       "        if (window._pyforest_update_imports_cell) { window._pyforest_update_imports_cell('import matplotlib.pyplot as plt'); }\n",
       "    "
      ],
      "text/plain": [
       "<IPython.core.display.Javascript object>"
      ]
     },
     "metadata": {},
     "output_type": "display_data"
    },
    {
     "data": {
      "image/png": "[encoded data removed]",
      "text/plain": [
       "<Figure size 432x288 with 1 Axes>"
      ]
     },
     "metadata": {
      "needs_background": "light"
     },
     "output_type": "display_data"
    }
   ],
   "source": [
    "sns.lineplot(data=prices)\n",
    "plt.show()"
   ]
  },
  {
   "cell_type": "code",
   "execution_count": 29,
   "metadata": {},
   "outputs": [],
   "source": [
    "#prices = ffn.get('TTWO, CCOEY, EA', start='2019-01-01')\n",
    "#benchmark = ffn.get(f'{isins[0]}-level',provider=ffn.data.csv, path=filename)\n",
    "#ax = prices.rebase().plot(figsize=(12,5))\n",
    "#plt.show()"
   ]
  },
  {
   "cell_type": "code",
   "execution_count": 30,
   "metadata": {},
   "outputs": [
    {
     "data": {
      "text/html": [
       "<div>\n",
       "<style scoped>\n",
       "    .dataframe tbody tr th:only-of-type {\n",
       "        vertical-align: middle;\n",
       "    }\n",
       "\n",
       "    .dataframe tbody tr th {\n",
       "        vertical-align: top;\n",
       "    }\n",
       "\n",
       "    .dataframe thead th {\n",
       "        text-align: right;\n",
       "    }\n",
       "</style>\n",
       "<table border=\"1\" class=\"dataframe\">\n",
       "  <thead>\n",
       "    <tr style=\"text-align: right;\">\n",
       "      <th></th>\n",
       "      <th>lu0280438135nav</th>\n",
       "      <th>lu0255977372nav</th>\n",
       "      <th>lu0133806785nav</th>\n",
       "    </tr>\n",
       "    <tr>\n",
       "      <th>index</th>\n",
       "      <th></th>\n",
       "      <th></th>\n",
       "      <th></th>\n",
       "    </tr>\n",
       "  </thead>\n",
       "  <tbody>\n",
       "    <tr>\n",
       "      <th>2007-01-31</th>\n",
       "      <td>82.94</td>\n",
       "      <td>235.61</td>\n",
       "      <td>153.18</td>\n",
       "    </tr>\n",
       "    <tr>\n",
       "      <th>2007-02-28</th>\n",
       "      <td>82.03</td>\n",
       "      <td>225.88</td>\n",
       "      <td>154.05</td>\n",
       "    </tr>\n",
       "    <tr>\n",
       "      <th>2007-03-30</th>\n",
       "      <td>82.71</td>\n",
       "      <td>222.03</td>\n",
       "      <td>154.49</td>\n",
       "    </tr>\n",
       "    <tr>\n",
       "      <th>2007-04-30</th>\n",
       "      <td>81.72</td>\n",
       "      <td>234.12</td>\n",
       "      <td>156.03</td>\n",
       "    </tr>\n",
       "    <tr>\n",
       "      <th>2007-05-31</th>\n",
       "      <td>83.09</td>\n",
       "      <td>242.14</td>\n",
       "      <td>157.24</td>\n",
       "    </tr>\n",
       "    <tr>\n",
       "      <th>...</th>\n",
       "      <td>...</td>\n",
       "      <td>...</td>\n",
       "      <td>...</td>\n",
       "    </tr>\n",
       "    <tr>\n",
       "      <th>2021-11-30</th>\n",
       "      <td>166.18</td>\n",
       "      <td>939.68</td>\n",
       "      <td>296.01</td>\n",
       "    </tr>\n",
       "    <tr>\n",
       "      <th>2021-12-31</th>\n",
       "      <td>167.60</td>\n",
       "      <td>967.02</td>\n",
       "      <td>299.31</td>\n",
       "    </tr>\n",
       "    <tr>\n",
       "      <th>2022-02-28</th>\n",
       "      <td>168.66</td>\n",
       "      <td>778.52</td>\n",
       "      <td>282.88</td>\n",
       "    </tr>\n",
       "    <tr>\n",
       "      <th>2022-03-31</th>\n",
       "      <td>168.67</td>\n",
       "      <td>817.40</td>\n",
       "      <td>284.24</td>\n",
       "    </tr>\n",
       "    <tr>\n",
       "      <th>2022-04-29</th>\n",
       "      <td>171.32</td>\n",
       "      <td>776.61</td>\n",
       "      <td>276.69</td>\n",
       "    </tr>\n",
       "  </tbody>\n",
       "</table>\n",
       "<p>168 rows × 3 columns</p>\n",
       "</div>"
      ],
      "text/plain": [
       "            lu0280438135nav  lu0255977372nav  lu0133806785nav\n",
       "index                                                        \n",
       "2007-01-31            82.94           235.61           153.18\n",
       "2007-02-28            82.03           225.88           154.05\n",
       "2007-03-30            82.71           222.03           154.49\n",
       "2007-04-30            81.72           234.12           156.03\n",
       "2007-05-31            83.09           242.14           157.24\n",
       "...                     ...              ...              ...\n",
       "2021-11-30           166.18           939.68           296.01\n",
       "2021-12-31           167.60           967.02           299.31\n",
       "2022-02-28           168.66           778.52           282.88\n",
       "2022-03-31           168.67           817.40           284.24\n",
       "2022-04-29           171.32           776.61           276.69\n",
       "\n",
       "[168 rows x 3 columns]"
      ]
     },
     "execution_count": 30,
     "metadata": {},
     "output_type": "execute_result"
    }
   ],
   "source": [
    "prices"
   ]
  },
  {
   "cell_type": "code",
   "execution_count": 31,
   "metadata": {},
   "outputs": [],
   "source": [
    "returns = prices['2007-01-31':'2022-12-31'].to_returns().dropna()"
   ]
  },
  {
   "cell_type": "code",
   "execution_count": 32,
   "metadata": {},
   "outputs": [
    {
     "data": {
      "application/javascript": [
       "\n",
       "        if (window._pyforest_update_imports_cell) { window._pyforest_update_imports_cell('import matplotlib.pyplot as plt'); }\n",
       "    "
      ],
      "text/plain": [
       "<IPython.core.display.Javascript object>"
      ]
     },
     "metadata": {},
     "output_type": "display_data"
    },
    {
     "data": {
      "image/png": "[encoded data removed]",
      "text/plain": [
       "<Figure size 432x288 with 1 Axes>"
      ]
     },
     "metadata": {
      "needs_background": "light"
     },
     "output_type": "display_data"
    }
   ],
   "source": [
    "returns.plot()\n",
    "plt.show()"
   ]
  },
  {
   "cell_type": "code",
   "execution_count": 33,
   "metadata": {},
   "outputs": [
    {
     "name": "stdout",
     "output_type": "stream",
     "text": [
      "Stat                 lu0280438135nav    lu0255977372nav    lu0133806785nav\n",
      "-------------------  -----------------  -----------------  -----------------\n",
      "Start                2007-01-31         2007-01-31         2007-01-31\n",
      "End                  2021-10-29         2021-10-29         2021-10-29\n",
      "Risk-free rate       0.00%              0.00%              0.00%\n",
      "\n",
      "Total Return         95.37%             316.18%            94.48%\n",
      "Daily Sharpe         -                  -                  -\n",
      "Daily Sortino        -                  -                  -\n",
      "CAGR                 4.65%              10.15%             4.61%\n",
      "Max Drawdown         -14.82%            -35.20%            -39.77%\n",
      "Calmar Ratio         0.31               0.29               0.12\n",
      "\n",
      "MTD                  -0.28%             -2.39%             -1.11%\n",
      "3m                   0.97%              -0.30%             -0.41%\n",
      "6m                   0.32%              -0.04%             1.39%\n",
      "YTD                  1.03%              1.21%              1.70%\n",
      "1Y                   3.03%              4.12%              6.68%\n",
      "3Y (ann.)            5.14%              13.74%             3.40%\n",
      "5Y (ann.)            1.81%              11.46%             3.16%\n",
      "10Y (ann.)           4.19%              16.17%             5.50%\n",
      "Since Incep. (ann.)  4.65%              10.15%             4.61%\n",
      "\n",
      "Daily Sharpe         -                  -                  -\n",
      "Daily Sortino        -                  -                  -\n",
      "Daily Mean (ann.)    -                  -                  -\n",
      "Daily Vol (ann.)     -                  -                  -\n",
      "Daily Skew           -                  -                  -\n",
      "Daily Kurt           -                  -                  -\n",
      "Best Day             -                  -                  -\n",
      "Worst Day            -                  -                  -\n",
      "\n",
      "Monthly Sharpe       0.39               0.59               0.51\n",
      "Monthly Sortino      0.76               1.07               0.75\n",
      "Monthly Mean (ann.)  3.27%              12.60%             5.90%\n",
      "Monthly Vol (ann.)   8.29%              21.50%             11.64%\n",
      "Monthly Skew         0.46               -0.13              -1.58\n",
      "Monthly Kurt         1.50               0.94               13.64\n",
      "Best Month           9.60%              18.59%             12.30%\n",
      "Worst Month          -6.12%             -21.88%            -21.27%\n",
      "\n",
      "Yearly Sharpe        0.65               0.56               0.34\n",
      "Yearly Sortino       1.86               1.79               0.72\n",
      "Yearly Mean          5.65%              12.24%             6.94%\n",
      "Yearly Vol           8.66%              22.00%             20.24%\n",
      "Yearly Skew          0.36               0.11               0.52\n",
      "Yearly Kurt          1.21               -1.18              3.11\n",
      "Best Year            24.27%             48.80%             56.13%\n",
      "Worst Year           -11.36%            -21.09%            -35.87%\n",
      "\n",
      "Avg. Drawdown        -5.03%             -11.89%            -5.71%\n",
      "Avg. Drawdown Days   294.67             337.00             187.11\n",
      "Avg. Up Month        1.91%              5.15%              2.02%\n",
      "Avg. Down Month      -1.60%             -4.61%             -2.00%\n",
      "Win Year %           78.57%             64.29%             78.57%\n",
      "Win 12m %            55.09%             61.08%             58.08%\n"
     ]
    }
   ],
   "source": [
    "stats = prices['2007-01-31':'2021-10-31'].calc_stats()\n",
    "stats.display()"
   ]
  },
  {
   "cell_type": "code",
   "execution_count": 34,
   "metadata": {},
   "outputs": [
    {
     "data": {
      "application/javascript": [
       "\n",
       "        if (window._pyforest_update_imports_cell) { window._pyforest_update_imports_cell('import matplotlib.pyplot as plt'); }\n",
       "    "
      ],
      "text/plain": [
       "<IPython.core.display.Javascript object>"
      ]
     },
     "metadata": {},
     "output_type": "display_data"
    },
    {
     "data": {
      "image/png": "[encoded data removed]",
      "text/plain": [
       "<Figure size 864x360 with 1 Axes>"
      ]
     },
     "metadata": {
      "needs_background": "light"
     },
     "output_type": "display_data"
    }
   ],
   "source": [
    "stats.prices.to_drawdown_series().plot(figsize=(12,5))\n",
    "plt.show()"
   ]
  },
  {
   "cell_type": "code",
   "execution_count": 35,
   "metadata": {},
   "outputs": [
    {
     "data": {
      "text/plain": [
       "lu0280438135nav    0.046473\n",
       "lu0255977372nav    0.101549\n",
       "lu0133806785nav    0.046148\n",
       "dtype: float64"
      ]
     },
     "execution_count": 35,
     "metadata": {},
     "output_type": "execute_result"
    }
   ],
   "source": [
    "stats.prices.calc_cagr()"
   ]
  },
  {
   "cell_type": "code",
   "execution_count": 36,
   "metadata": {},
   "outputs": [
    {
     "data": {
      "text/plain": [
       "lu0280438135nav    64.16%\n",
       "lu0255977372nav     9.64%\n",
       "lu0133806785nav    26.21%\n",
       "dtype: object"
      ]
     },
     "execution_count": 36,
     "metadata": {},
     "output_type": "execute_result"
    }
   ],
   "source": [
    "returns = prices.to_log_returns().dropna()\n",
    "returns.calc_mean_var_weights().as_format('.2%')"
   ]
  },
  {
   "cell_type": "code",
   "execution_count": 37,
   "metadata": {},
   "outputs": [
    {
     "data": {
      "text/plain": [
       "lu0280438135nav    49.45%\n",
       "lu0255977372nav    17.22%\n",
       "lu0133806785nav    33.33%\n",
       "Name: erc, dtype: object"
      ]
     },
     "execution_count": 37,
     "metadata": {},
     "output_type": "execute_result"
    }
   ],
   "source": [
    "returns.calc_erc_weights().as_format('.2%')"
   ]
  },
  {
   "cell_type": "code",
   "execution_count": 38,
   "metadata": {},
   "outputs": [],
   "source": [
    "from empyrical import alpha_beta"
   ]
  },
  {
   "cell_type": "markdown",
   "metadata": {},
   "source": [
    "symbols = [f'{isin}-NAV']\n",
    "for sym in symbols:\n",
    "    stk = ffn.get(sym, provider=ffn.data.csv, path=filename)\n",
    "    alpha, beta = alpha_beta(stk, benchmark)\n",
    "    print(sym, beta)\n"
   ]
  },
  {
   "cell_type": "code",
   "execution_count": 39,
   "metadata": {},
   "outputs": [
    {
     "name": "stdout",
     "output_type": "stream",
     "text": [
      "Expected annualised return: 153.0\n",
      "Volatility: 48.0\n"
     ]
    }
   ],
   "source": [
    "returns = prices.pct_change()\n",
    "weight = np.array([10,10,10])\n",
    "\n",
    "t = np.sum(weight)\n",
    "weights = weight/t\n",
    "# mean daily return and covariance of daily returns\n",
    "mean_daily_returns = returns.mean()\n",
    "cov_matrix = returns.cov()\n",
    "\n",
    "portfolio_return = round(np.sum(mean_daily_returns * weights) * 252,2)\n",
    "portfolio_std_dev = round(np.sqrt(np.dot(weights.T,np.dot(cov_matrix, weights))) * np.sqrt(252),2)\n",
    "\n",
    "print(\"Expected annualised return: \" + str(portfolio_return*100))\n",
    "print(\"Volatility: \" + str(portfolio_std_dev*100))"
   ]
  },
  {
   "cell_type": "code",
   "execution_count": 42,
   "metadata": {},
   "outputs": [
    {
     "data": {
      "text/plain": [
       "1.53"
      ]
     },
     "execution_count": 42,
     "metadata": {},
     "output_type": "execute_result"
    }
   ],
   "source": [
    "portfolio_return"
   ]
  },
  {
   "cell_type": "code",
   "execution_count": 43,
   "metadata": {},
   "outputs": [
    {
     "data": {
      "text/plain": [
       "lu0280438135nav    0.004664\n",
       "lu0255977372nav    0.009296\n",
       "lu0133806785nav    0.004254\n",
       "dtype: float64"
      ]
     },
     "execution_count": 43,
     "metadata": {},
     "output_type": "execute_result"
    }
   ],
   "source": [
    "mean_daily_returns"
   ]
  },
  {
   "cell_type": "code",
   "execution_count": 44,
   "metadata": {},
   "outputs": [
    {
     "data": {
      "text/html": [
       "<div>\n",
       "<style scoped>\n",
       "    .dataframe tbody tr th:only-of-type {\n",
       "        vertical-align: middle;\n",
       "    }\n",
       "\n",
       "    .dataframe tbody tr th {\n",
       "        vertical-align: top;\n",
       "    }\n",
       "\n",
       "    .dataframe thead th {\n",
       "        text-align: right;\n",
       "    }\n",
       "</style>\n",
       "<table border=\"1\" class=\"dataframe\">\n",
       "  <thead>\n",
       "    <tr style=\"text-align: right;\">\n",
       "      <th></th>\n",
       "      <th>lu0280438135nav</th>\n",
       "      <th>lu0255977372nav</th>\n",
       "      <th>lu0133806785nav</th>\n",
       "    </tr>\n",
       "    <tr>\n",
       "      <th>index</th>\n",
       "      <th></th>\n",
       "      <th></th>\n",
       "      <th></th>\n",
       "    </tr>\n",
       "  </thead>\n",
       "  <tbody>\n",
       "    <tr>\n",
       "      <th>2007-01-31</th>\n",
       "      <td>NaN</td>\n",
       "      <td>NaN</td>\n",
       "      <td>NaN</td>\n",
       "    </tr>\n",
       "    <tr>\n",
       "      <th>2007-02-28</th>\n",
       "      <td>-0.010972</td>\n",
       "      <td>-0.041297</td>\n",
       "      <td>0.005680</td>\n",
       "    </tr>\n",
       "    <tr>\n",
       "      <th>2007-03-30</th>\n",
       "      <td>0.008290</td>\n",
       "      <td>-0.017044</td>\n",
       "      <td>0.002856</td>\n",
       "    </tr>\n",
       "    <tr>\n",
       "      <th>2007-04-30</th>\n",
       "      <td>-0.011970</td>\n",
       "      <td>0.054452</td>\n",
       "      <td>0.009968</td>\n",
       "    </tr>\n",
       "    <tr>\n",
       "      <th>2007-05-31</th>\n",
       "      <td>0.016765</td>\n",
       "      <td>0.034256</td>\n",
       "      <td>0.007755</td>\n",
       "    </tr>\n",
       "    <tr>\n",
       "      <th>...</th>\n",
       "      <td>...</td>\n",
       "      <td>...</td>\n",
       "      <td>...</td>\n",
       "    </tr>\n",
       "    <tr>\n",
       "      <th>2021-11-30</th>\n",
       "      <td>0.025549</td>\n",
       "      <td>-0.041681</td>\n",
       "      <td>-0.006344</td>\n",
       "    </tr>\n",
       "    <tr>\n",
       "      <th>2021-12-31</th>\n",
       "      <td>0.008545</td>\n",
       "      <td>0.029095</td>\n",
       "      <td>0.011148</td>\n",
       "    </tr>\n",
       "    <tr>\n",
       "      <th>2022-02-28</th>\n",
       "      <td>0.006325</td>\n",
       "      <td>-0.194929</td>\n",
       "      <td>-0.054893</td>\n",
       "    </tr>\n",
       "    <tr>\n",
       "      <th>2022-03-31</th>\n",
       "      <td>0.000059</td>\n",
       "      <td>0.049941</td>\n",
       "      <td>0.004808</td>\n",
       "    </tr>\n",
       "    <tr>\n",
       "      <th>2022-04-29</th>\n",
       "      <td>0.015711</td>\n",
       "      <td>-0.049902</td>\n",
       "      <td>-0.026562</td>\n",
       "    </tr>\n",
       "  </tbody>\n",
       "</table>\n",
       "<p>168 rows × 3 columns</p>\n",
       "</div>"
      ],
      "text/plain": [
       "            lu0280438135nav  lu0255977372nav  lu0133806785nav\n",
       "index                                                        \n",
       "2007-01-31              NaN              NaN              NaN\n",
       "2007-02-28        -0.010972        -0.041297         0.005680\n",
       "2007-03-30         0.008290        -0.017044         0.002856\n",
       "2007-04-30        -0.011970         0.054452         0.009968\n",
       "2007-05-31         0.016765         0.034256         0.007755\n",
       "...                     ...              ...              ...\n",
       "2021-11-30         0.025549        -0.041681        -0.006344\n",
       "2021-12-31         0.008545         0.029095         0.011148\n",
       "2022-02-28         0.006325        -0.194929        -0.054893\n",
       "2022-03-31         0.000059         0.049941         0.004808\n",
       "2022-04-29         0.015711        -0.049902        -0.026562\n",
       "\n",
       "[168 rows x 3 columns]"
      ]
     },
     "execution_count": 44,
     "metadata": {},
     "output_type": "execute_result"
    }
   ],
   "source": [
    "returns"
   ]
  },
  {
   "cell_type": "code",
   "execution_count": 45,
   "metadata": {},
   "outputs": [
    {
     "data": {
      "text/plain": [
       "1.53"
      ]
     },
     "execution_count": 45,
     "metadata": {},
     "output_type": "execute_result"
    }
   ],
   "source": [
    "portfolio_return"
   ]
  },
  {
   "cell_type": "code",
   "execution_count": 46,
   "metadata": {},
   "outputs": [
    {
     "data": {
      "text/plain": [
       "lu0280438135nav     82.94\n",
       "lu0255977372nav    235.61\n",
       "lu0133806785nav    153.18\n",
       "Name: 2007-01-31 00:00:00, dtype: float64"
      ]
     },
     "execution_count": 46,
     "metadata": {},
     "output_type": "execute_result"
    }
   ],
   "source": [
    "prices.iloc[0]"
   ]
  },
  {
   "cell_type": "code",
   "execution_count": 47,
   "metadata": {},
   "outputs": [],
   "source": [
    "#pip install PyPortfolioOpt"
   ]
  },
  {
   "cell_type": "code",
   "execution_count": 48,
   "metadata": {},
   "outputs": [],
   "source": [
    "import pyfolio as pf"
   ]
  },
  {
   "cell_type": "code",
   "execution_count": 49,
   "metadata": {},
   "outputs": [
    {
     "data": {
      "text/html": [
       "<div>\n",
       "<style scoped>\n",
       "    .dataframe tbody tr th:only-of-type {\n",
       "        vertical-align: middle;\n",
       "    }\n",
       "\n",
       "    .dataframe tbody tr th {\n",
       "        vertical-align: top;\n",
       "    }\n",
       "\n",
       "    .dataframe thead th {\n",
       "        text-align: right;\n",
       "    }\n",
       "</style>\n",
       "<table border=\"1\" class=\"dataframe\">\n",
       "  <thead>\n",
       "    <tr style=\"text-align: right;\">\n",
       "      <th></th>\n",
       "      <th>lu0280438135nav</th>\n",
       "      <th>lu0255977372nav</th>\n",
       "      <th>lu0133806785nav</th>\n",
       "    </tr>\n",
       "    <tr>\n",
       "      <th>index</th>\n",
       "      <th></th>\n",
       "      <th></th>\n",
       "      <th></th>\n",
       "    </tr>\n",
       "  </thead>\n",
       "  <tbody>\n",
       "    <tr>\n",
       "      <th>2007-01-31</th>\n",
       "      <td>82.94</td>\n",
       "      <td>235.61</td>\n",
       "      <td>153.18</td>\n",
       "    </tr>\n",
       "    <tr>\n",
       "      <th>2007-02-28</th>\n",
       "      <td>82.03</td>\n",
       "      <td>225.88</td>\n",
       "      <td>154.05</td>\n",
       "    </tr>\n",
       "    <tr>\n",
       "      <th>2007-03-30</th>\n",
       "      <td>82.71</td>\n",
       "      <td>222.03</td>\n",
       "      <td>154.49</td>\n",
       "    </tr>\n",
       "    <tr>\n",
       "      <th>2007-04-30</th>\n",
       "      <td>81.72</td>\n",
       "      <td>234.12</td>\n",
       "      <td>156.03</td>\n",
       "    </tr>\n",
       "    <tr>\n",
       "      <th>2007-05-31</th>\n",
       "      <td>83.09</td>\n",
       "      <td>242.14</td>\n",
       "      <td>157.24</td>\n",
       "    </tr>\n",
       "    <tr>\n",
       "      <th>...</th>\n",
       "      <td>...</td>\n",
       "      <td>...</td>\n",
       "      <td>...</td>\n",
       "    </tr>\n",
       "    <tr>\n",
       "      <th>2021-11-30</th>\n",
       "      <td>166.18</td>\n",
       "      <td>939.68</td>\n",
       "      <td>296.01</td>\n",
       "    </tr>\n",
       "    <tr>\n",
       "      <th>2021-12-31</th>\n",
       "      <td>167.60</td>\n",
       "      <td>967.02</td>\n",
       "      <td>299.31</td>\n",
       "    </tr>\n",
       "    <tr>\n",
       "      <th>2022-02-28</th>\n",
       "      <td>168.66</td>\n",
       "      <td>778.52</td>\n",
       "      <td>282.88</td>\n",
       "    </tr>\n",
       "    <tr>\n",
       "      <th>2022-03-31</th>\n",
       "      <td>168.67</td>\n",
       "      <td>817.40</td>\n",
       "      <td>284.24</td>\n",
       "    </tr>\n",
       "    <tr>\n",
       "      <th>2022-04-29</th>\n",
       "      <td>171.32</td>\n",
       "      <td>776.61</td>\n",
       "      <td>276.69</td>\n",
       "    </tr>\n",
       "  </tbody>\n",
       "</table>\n",
       "<p>168 rows × 3 columns</p>\n",
       "</div>"
      ],
      "text/plain": [
       "            lu0280438135nav  lu0255977372nav  lu0133806785nav\n",
       "index                                                        \n",
       "2007-01-31            82.94           235.61           153.18\n",
       "2007-02-28            82.03           225.88           154.05\n",
       "2007-03-30            82.71           222.03           154.49\n",
       "2007-04-30            81.72           234.12           156.03\n",
       "2007-05-31            83.09           242.14           157.24\n",
       "...                     ...              ...              ...\n",
       "2021-11-30           166.18           939.68           296.01\n",
       "2021-12-31           167.60           967.02           299.31\n",
       "2022-02-28           168.66           778.52           282.88\n",
       "2022-03-31           168.67           817.40           284.24\n",
       "2022-04-29           171.32           776.61           276.69\n",
       "\n",
       "[168 rows x 3 columns]"
      ]
     },
     "execution_count": 49,
     "metadata": {},
     "output_type": "execute_result"
    }
   ],
   "source": [
    "prices"
   ]
  },
  {
   "cell_type": "code",
   "execution_count": 50,
   "metadata": {},
   "outputs": [],
   "source": [
    "x=ffn.core.drawdown_details(ffn.core.calc_max_drawdown(prices))"
   ]
  },
  {
   "cell_type": "code",
   "execution_count": 51,
   "metadata": {},
   "outputs": [
    {
     "name": "stdout",
     "output_type": "stream",
     "text": [
      "Stat                 lu0280438135nav    lu0255977372nav    lu0133806785nav\n",
      "-------------------  -----------------  -----------------  -----------------\n",
      "Start                2007-01-31         2007-01-31         2007-01-31\n",
      "End                  2022-04-29         2022-04-29         2022-04-29\n",
      "Risk-free rate       0.00%              0.00%              0.00%\n",
      "\n",
      "Total Return         106.56%            229.62%            80.63%\n",
      "Daily Sharpe         -                  -                  -\n",
      "Daily Sortino        -                  -                  -\n",
      "CAGR                 4.87%              8.14%              3.96%\n",
      "Max Drawdown         -14.82%            -35.20%            -39.77%\n",
      "Calmar Ratio         0.33               0.23               0.10\n",
      "\n",
      "MTD                  1.57%              -4.99%             -2.66%\n",
      "3m                   2.22%              -19.69%            -7.56%\n",
      "6m                   5.73%              -20.80%            -7.12%\n",
      "YTD                  2.22%              -19.69%            -7.56%\n",
      "1Y                   6.06%              -20.83%            -5.83%\n",
      "3Y (ann.)            4.37%              2.97%              -0.40%\n",
      "5Y (ann.)            3.45%              4.02%              0.70%\n",
      "10Y (ann.)           3.97%              11.04%             4.13%\n",
      "Since Incep. (ann.)  4.87%              8.14%              3.96%\n",
      "\n",
      "Daily Sharpe         -                  -                  -\n",
      "Daily Sortino        -                  -                  -\n",
      "Daily Mean (ann.)    -                  -                  -\n",
      "Daily Vol (ann.)     -                  -                  -\n",
      "Daily Skew           -                  -                  -\n",
      "Daily Kurt           -                  -                  -\n",
      "Best Day             -                  -                  -\n",
      "Worst Day            -                  -                  -\n",
      "\n",
      "Monthly Sharpe       0.44               0.57               0.49\n",
      "Monthly Sortino      0.83               1.04               0.72\n",
      "Monthly Mean (ann.)  3.57%              12.17%             5.62%\n",
      "Monthly Vol (ann.)   8.21%              21.37%             11.53%\n",
      "Monthly Skew         0.44               -0.12              -1.57\n",
      "Monthly Kurt         1.53               0.94               13.80\n",
      "Best Month           9.60%              18.59%             12.30%\n",
      "Worst Month          -6.12%             -21.88%            -21.27%\n",
      "\n",
      "Yearly Sharpe        0.68               0.44               0.30\n",
      "Yearly Sortino       1.92               1.30               0.65\n",
      "Yearly Mean          5.65%              10.02%             6.01%\n",
      "Yearly Vol           8.31%              22.79%             19.85%\n",
      "Yearly Skew          0.38               0.20               0.64\n",
      "Yearly Kurt          1.57               -1.25              3.15\n",
      "Best Year            24.27%             48.80%             56.13%\n",
      "Worst Year           -11.36%            -21.09%            -35.87%\n",
      "\n",
      "Avg. Drawdown        -5.03%             -13.45%            -6.10%\n",
      "Avg. Drawdown Days   296.80             352.17             197.22\n",
      "Avg. Up Month        1.88%              5.12%              1.99%\n",
      "Avg. Down Month      -1.60%             -4.61%             -1.99%\n",
      "Win Year %           80.00%             53.33%             73.33%\n",
      "Win 12m %            55.49%             58.96%             57.23%\n"
     ]
    }
   ],
   "source": [
    "ffn.core.GroupStats(prices).display()"
   ]
  },
  {
   "cell_type": "code",
   "execution_count": 52,
   "metadata": {},
   "outputs": [
    {
     "data": {
      "text/plain": [
       "116.81000000000009"
      ]
     },
     "execution_count": 52,
     "metadata": {},
     "output_type": "execute_result"
    }
   ],
   "source": [
    "100*((1*(106.56/100))+(1*(229.62/100))+(1*(80.63/100))-3)"
   ]
  },
  {
   "cell_type": "code",
   "execution_count": 53,
   "metadata": {},
   "outputs": [
    {
     "data": {
      "text/plain": [
       "4.168100000000001"
      ]
     },
     "execution_count": 53,
     "metadata": {},
     "output_type": "execute_result"
    }
   ],
   "source": [
    "(((1*(106.56/100)))+1)+(((1*(229.62/100)))+1)+(((1*(80.63/100)))+1)-3\n"
   ]
  },
  {
   "cell_type": "code",
   "execution_count": 54,
   "metadata": {},
   "outputs": [
    {
     "data": {
      "text/plain": [
       "1.0987333333333333"
      ]
     },
     "execution_count": 54,
     "metadata": {},
     "output_type": "execute_result"
    }
   ],
   "source": [
    "(((1*(229.62/100)))+1)/3"
   ]
  },
  {
   "cell_type": "code",
   "execution_count": 55,
   "metadata": {},
   "outputs": [
    {
     "data": {
      "text/plain": [
       "1.8062999999999998"
      ]
     },
     "execution_count": 55,
     "metadata": {},
     "output_type": "execute_result"
    }
   ],
   "source": [
    "((1*(80.63/100)))+1"
   ]
  },
  {
   "cell_type": "code",
   "execution_count": null,
   "metadata": {},
   "outputs": [],
   "source": [
    "pf?"
   ]
  },
  {
   "cell_type": "code",
   "execution_count": null,
   "metadata": {},
   "outputs": [],
   "source": [
    "prices"
   ]
  },
  {
   "cell_type": "code",
   "execution_count": null,
   "metadata": {},
   "outputs": [],
   "source": [
    "returns "
   ]
  },
  {
   "cell_type": "code",
   "execution_count": null,
   "metadata": {},
   "outputs": [],
   "source": [
    "p = prices.copy()"
   ]
  },
  {
   "cell_type": "code",
   "execution_count": null,
   "metadata": {},
   "outputs": [],
   "source": [
    "p"
   ]
  },
  {
   "cell_type": "code",
   "execution_count": null,
   "metadata": {},
   "outputs": [],
   "source": [
    "p.index = p.index.tz_localize('utc')"
   ]
  },
  {
   "cell_type": "code",
   "execution_count": null,
   "metadata": {},
   "outputs": [],
   "source": [
    "p"
   ]
  },
  {
   "cell_type": "code",
   "execution_count": null,
   "metadata": {},
   "outputs": [],
   "source": [
    "returns = p.lu0280438135nav.pct_change()"
   ]
  },
  {
   "cell_type": "code",
   "execution_count": null,
   "metadata": {},
   "outputs": [],
   "source": [
    "pf.create_returns_tear_sheet(returns, live_start_date='2007-01-31')"
   ]
  },
  {
   "cell_type": "code",
   "execution_count": null,
   "metadata": {},
   "outputs": [],
   "source": []
  }
 ],
 "metadata": {
  "kernelspec": {
   "display_name": "Python 3.6 [conda env:python36]",
   "language": "python",
   "name": "python36"
  },
  "language_info": {
   "codemirror_mode": {
    "name": "ipython",
    "version": 3
   },
   "file_extension": ".py",
   "mimetype": "text/x-python",
   "name": "python",
   "nbconvert_exporter": "python",
   "pygments_lexer": "ipython3",
   "version": "3.6.7"
  },
  "toc": {
   "base_numbering": 1,
   "nav_menu": {},
   "number_sections": true,
   "sideBar": true,
   "skip_h1_title": false,
   "title_cell": "Table of Contents",
   "title_sidebar": "Contents",
   "toc_cell": false,
   "toc_position": {},
   "toc_section_display": true,
   "toc_window_display": false
  }
 },
 "nbformat": 4,
 "nbformat_minor": 2
}
