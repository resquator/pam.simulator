{
 "cells": [
  {
   "cell_type": "code",
   "execution_count": 2,
   "metadata": {},
   "outputs": [
    {
     "data": {
      "text/plain": [
       "'!pip install ffn\\n!pip install pypfopt\\n!pip install empyrical'"
      ]
     },
     "execution_count": 2,
     "metadata": {},
     "output_type": "execute_result"
    }
   ],
   "source": [
    "\"\"\"!pip install ffn\n",
    "!pip install pypfopt\n",
    "!pip install empyrical\"\"\""
   ]
  },
  {
   "cell_type": "code",
   "execution_count": 3,
   "metadata": {},
   "outputs": [],
   "source": [
    "#pip install seaborn\n",
    "\n"
   ]
  },
  {
   "cell_type": "code",
   "execution_count": 4,
   "metadata": {},
   "outputs": [],
   "source": [
    "import ffn\n",
    "\n",
    "import numpy as np\n",
    "import pandas as pd\n",
    "#from empyrical import alpha_beta\n",
    "import seaborn as sns\n",
    "import warnings\n",
    "warnings.filterwarnings(\"ignore\")\n",
    "#import matplotlib.pyplot as plt\n",
    "import warnings\n",
    "#plt.style.use('dark_background')\n",
    "#warnings.simplefilter(action='ignore', category=FutureWarning)\n",
    "\n",
    "%matplotlib inline\n",
    "\n",
    "# Modeling and Forecasting\n",
    "# ==============================================================================\n",
    "from sklearn.linear_model import LinearRegression\n",
    "from sklearn.linear_model import Lasso\n",
    "from sklearn.ensemble import RandomForestRegressor\n",
    "from sklearn.metrics import mean_squared_error\n",
    "from sklearn.preprocessing import StandardScaler\n",
    "from sklearn.pipeline import make_pipeline\n",
    "\n",
    "from skforecast.ForecasterAutoreg import ForecasterAutoreg\n",
    "from skforecast.ForecasterAutoregCustom import ForecasterAutoregCustom\n",
    "from skforecast.ForecasterAutoregMultiOutput import ForecasterAutoregMultiOutput\n",
    "from skforecast.model_selection import grid_search_forecaster\n",
    "from skforecast.model_selection import backtesting_forecaster\n",
    "\n",
    "from joblib import dump, load\n",
    "\n",
    "# Warnings configuration\n",
    "# ==============================================================================\n",
    "import warnings\n",
    "# warnings.filterwarnings('ignore')"
   ]
  },
  {
   "cell_type": "code",
   "execution_count": 5,
   "metadata": {},
   "outputs": [],
   "source": [
    "\n",
    "folder = '../data/'\n",
    "file = 'ffn.csv'\n",
    "filename = f\"{folder}{file}\"\n",
    "isin='LU0843168575'\n",
    "filename\n",
    "\n",
    "isins=['LU0280438135','LU0255977372','LU0133806785']"
   ]
  },
  {
   "cell_type": "code",
   "execution_count": 6,
   "metadata": {},
   "outputs": [
    {
     "data": {
      "text/html": [
       "<div>\n",
       "<style scoped>\n",
       "    .dataframe tbody tr th:only-of-type {\n",
       "        vertical-align: middle;\n",
       "    }\n",
       "\n",
       "    .dataframe tbody tr th {\n",
       "        vertical-align: top;\n",
       "    }\n",
       "\n",
       "    .dataframe thead th {\n",
       "        text-align: right;\n",
       "    }\n",
       "</style>\n",
       "<table border=\"1\" class=\"dataframe\">\n",
       "  <thead>\n",
       "    <tr style=\"text-align: right;\">\n",
       "      <th></th>\n",
       "      <th>lu0340554673</th>\n",
       "      <th>lu0474966677</th>\n",
       "      <th>lu0386875149</th>\n",
       "    </tr>\n",
       "    <tr>\n",
       "      <th>index</th>\n",
       "      <th></th>\n",
       "      <th></th>\n",
       "      <th></th>\n",
       "    </tr>\n",
       "  </thead>\n",
       "  <tbody>\n",
       "    <tr>\n",
       "      <th>2018-01-04</th>\n",
       "      <td>330.60</td>\n",
       "      <td>143.93</td>\n",
       "      <td>246.40</td>\n",
       "    </tr>\n",
       "    <tr>\n",
       "      <th>2018-01-05</th>\n",
       "      <td>335.11</td>\n",
       "      <td>144.46</td>\n",
       "      <td>248.83</td>\n",
       "    </tr>\n",
       "    <tr>\n",
       "      <th>2018-01-09</th>\n",
       "      <td>338.47</td>\n",
       "      <td>147.21</td>\n",
       "      <td>251.80</td>\n",
       "    </tr>\n",
       "    <tr>\n",
       "      <th>2018-01-10</th>\n",
       "      <td>335.02</td>\n",
       "      <td>148.57</td>\n",
       "      <td>249.46</td>\n",
       "    </tr>\n",
       "    <tr>\n",
       "      <th>2018-01-11</th>\n",
       "      <td>334.65</td>\n",
       "      <td>148.47</td>\n",
       "      <td>249.42</td>\n",
       "    </tr>\n",
       "    <tr>\n",
       "      <th>...</th>\n",
       "      <td>...</td>\n",
       "      <td>...</td>\n",
       "      <td>...</td>\n",
       "    </tr>\n",
       "    <tr>\n",
       "      <th>2022-06-07</th>\n",
       "      <td>428.18</td>\n",
       "      <td>161.76</td>\n",
       "      <td>351.37</td>\n",
       "    </tr>\n",
       "    <tr>\n",
       "      <th>2022-06-08</th>\n",
       "      <td>437.47</td>\n",
       "      <td>161.89</td>\n",
       "      <td>354.28</td>\n",
       "    </tr>\n",
       "    <tr>\n",
       "      <th>2022-06-09</th>\n",
       "      <td>435.12</td>\n",
       "      <td>162.10</td>\n",
       "      <td>351.29</td>\n",
       "    </tr>\n",
       "    <tr>\n",
       "      <th>2022-06-10</th>\n",
       "      <td>423.13</td>\n",
       "      <td>161.28</td>\n",
       "      <td>342.24</td>\n",
       "    </tr>\n",
       "    <tr>\n",
       "      <th>2022-06-13</th>\n",
       "      <td>404.60</td>\n",
       "      <td>158.62</td>\n",
       "      <td>330.94</td>\n",
       "    </tr>\n",
       "  </tbody>\n",
       "</table>\n",
       "<p>1017 rows × 3 columns</p>\n",
       "</div>"
      ],
      "text/plain": [
       "            lu0340554673  lu0474966677  lu0386875149\n",
       "index                                               \n",
       "2018-01-04        330.60        143.93        246.40\n",
       "2018-01-05        335.11        144.46        248.83\n",
       "2018-01-09        338.47        147.21        251.80\n",
       "2018-01-10        335.02        148.57        249.46\n",
       "2018-01-11        334.65        148.47        249.42\n",
       "...                  ...           ...           ...\n",
       "2022-06-07        428.18        161.76        351.37\n",
       "2022-06-08        437.47        161.89        354.28\n",
       "2022-06-09        435.12        162.10        351.29\n",
       "2022-06-10        423.13        161.28        342.24\n",
       "2022-06-13        404.60        158.62        330.94\n",
       "\n",
       "[1017 rows x 3 columns]"
      ]
     },
     "execution_count": 6,
     "metadata": {},
     "output_type": "execute_result"
    }
   ],
   "source": [
    "isins = ['LU0340554673','LU0474966677','LU0386875149']\n",
    "filename = 'portfolios/ptf_18062022203808.csv'\n",
    "prices = ffn.get(f'{isins[0]},{isins[1]},{isins[2]}', provider=ffn.data.csv, path=filename)\n",
    "prices\n"
   ]
  },
  {
   "cell_type": "code",
   "execution_count": 7,
   "metadata": {},
   "outputs": [
    {
     "data": {
      "application/javascript": "\n        if (window._pyforest_update_imports_cell) { window._pyforest_update_imports_cell('import matplotlib.pyplot as plt'); }\n    ",
      "text/plain": [
       "<IPython.core.display.Javascript object>"
      ]
     },
     "metadata": {},
     "output_type": "display_data"
    },
    {
     "data": {
      "image/png": "[encoded data removed]",
      "text/plain": [
       "<Figure size 432x288 with 1 Axes>"
      ]
     },
     "metadata": {
      "needs_background": "light"
     },
     "output_type": "display_data"
    }
   ],
   "source": [
    "sns.lineplot(data=prices)\n",
    "plt.show()"
   ]
  },
  {
   "cell_type": "code",
   "execution_count": 8,
   "metadata": {},
   "outputs": [],
   "source": [
    "#prices = ffn.get('TTWO, CCOEY, EA', start='2019-01-01')\n",
    "#benchmark = ffn.get(f'{isins[0]}-level',provider=ffn.data.csv, path=filename)\n",
    "#ax = prices.rebase().plot(figsize=(12,5))\n",
    "#plt.show()"
   ]
  },
  {
   "cell_type": "code",
   "execution_count": 9,
   "metadata": {},
   "outputs": [
    {
     "data": {
      "text/html": [
       "<div>\n",
       "<style scoped>\n",
       "    .dataframe tbody tr th:only-of-type {\n",
       "        vertical-align: middle;\n",
       "    }\n",
       "\n",
       "    .dataframe tbody tr th {\n",
       "        vertical-align: top;\n",
       "    }\n",
       "\n",
       "    .dataframe thead th {\n",
       "        text-align: right;\n",
       "    }\n",
       "</style>\n",
       "<table border=\"1\" class=\"dataframe\">\n",
       "  <thead>\n",
       "    <tr style=\"text-align: right;\">\n",
       "      <th></th>\n",
       "      <th>lu0340554673</th>\n",
       "      <th>lu0474966677</th>\n",
       "      <th>lu0386875149</th>\n",
       "    </tr>\n",
       "    <tr>\n",
       "      <th>index</th>\n",
       "      <th></th>\n",
       "      <th></th>\n",
       "      <th></th>\n",
       "    </tr>\n",
       "  </thead>\n",
       "  <tbody>\n",
       "    <tr>\n",
       "      <th>2018-01-04</th>\n",
       "      <td>330.60</td>\n",
       "      <td>143.93</td>\n",
       "      <td>246.40</td>\n",
       "    </tr>\n",
       "    <tr>\n",
       "      <th>2018-01-05</th>\n",
       "      <td>335.11</td>\n",
       "      <td>144.46</td>\n",
       "      <td>248.83</td>\n",
       "    </tr>\n",
       "    <tr>\n",
       "      <th>2018-01-09</th>\n",
       "      <td>338.47</td>\n",
       "      <td>147.21</td>\n",
       "      <td>251.80</td>\n",
       "    </tr>\n",
       "    <tr>\n",
       "      <th>2018-01-10</th>\n",
       "      <td>335.02</td>\n",
       "      <td>148.57</td>\n",
       "      <td>249.46</td>\n",
       "    </tr>\n",
       "    <tr>\n",
       "      <th>2018-01-11</th>\n",
       "      <td>334.65</td>\n",
       "      <td>148.47</td>\n",
       "      <td>249.42</td>\n",
       "    </tr>\n",
       "    <tr>\n",
       "      <th>...</th>\n",
       "      <td>...</td>\n",
       "      <td>...</td>\n",
       "      <td>...</td>\n",
       "    </tr>\n",
       "    <tr>\n",
       "      <th>2022-06-07</th>\n",
       "      <td>428.18</td>\n",
       "      <td>161.76</td>\n",
       "      <td>351.37</td>\n",
       "    </tr>\n",
       "    <tr>\n",
       "      <th>2022-06-08</th>\n",
       "      <td>437.47</td>\n",
       "      <td>161.89</td>\n",
       "      <td>354.28</td>\n",
       "    </tr>\n",
       "    <tr>\n",
       "      <th>2022-06-09</th>\n",
       "      <td>435.12</td>\n",
       "      <td>162.10</td>\n",
       "      <td>351.29</td>\n",
       "    </tr>\n",
       "    <tr>\n",
       "      <th>2022-06-10</th>\n",
       "      <td>423.13</td>\n",
       "      <td>161.28</td>\n",
       "      <td>342.24</td>\n",
       "    </tr>\n",
       "    <tr>\n",
       "      <th>2022-06-13</th>\n",
       "      <td>404.60</td>\n",
       "      <td>158.62</td>\n",
       "      <td>330.94</td>\n",
       "    </tr>\n",
       "  </tbody>\n",
       "</table>\n",
       "<p>1017 rows × 3 columns</p>\n",
       "</div>"
      ],
      "text/plain": [
       "            lu0340554673  lu0474966677  lu0386875149\n",
       "index                                               \n",
       "2018-01-04        330.60        143.93        246.40\n",
       "2018-01-05        335.11        144.46        248.83\n",
       "2018-01-09        338.47        147.21        251.80\n",
       "2018-01-10        335.02        148.57        249.46\n",
       "2018-01-11        334.65        148.47        249.42\n",
       "...                  ...           ...           ...\n",
       "2022-06-07        428.18        161.76        351.37\n",
       "2022-06-08        437.47        161.89        354.28\n",
       "2022-06-09        435.12        162.10        351.29\n",
       "2022-06-10        423.13        161.28        342.24\n",
       "2022-06-13        404.60        158.62        330.94\n",
       "\n",
       "[1017 rows x 3 columns]"
      ]
     },
     "execution_count": 9,
     "metadata": {},
     "output_type": "execute_result"
    }
   ],
   "source": [
    "prices"
   ]
  },
  {
   "cell_type": "code",
   "execution_count": 10,
   "metadata": {},
   "outputs": [],
   "source": [
    "returns = prices.to_returns().dropna()"
   ]
  },
  {
   "cell_type": "code",
   "execution_count": 11,
   "metadata": {},
   "outputs": [
    {
     "data": {
      "application/javascript": "\n        if (window._pyforest_update_imports_cell) { window._pyforest_update_imports_cell('import matplotlib.pyplot as plt'); }\n    ",
      "text/plain": [
       "<IPython.core.display.Javascript object>"
      ]
     },
     "metadata": {},
     "output_type": "display_data"
    },
    {
     "data": {
      "image/png": "[encoded data removed]",
      "text/plain": [
       "<Figure size 432x288 with 1 Axes>"
      ]
     },
     "metadata": {
      "needs_background": "light"
     },
     "output_type": "display_data"
    }
   ],
   "source": [
    "returns.plot()\n",
    "plt.show()"
   ]
  },
  {
   "cell_type": "code",
   "execution_count": 12,
   "metadata": {},
   "outputs": [
    {
     "name": "stdout",
     "output_type": "stream",
     "text": [
      "Stat                 lu0340554673    lu0474966677    lu0386875149\n",
      "-------------------  --------------  --------------  --------------\n",
      "Start                2018-01-04      2018-01-04      2018-01-04\n",
      "End                  2022-06-13      2022-06-13      2022-06-13\n",
      "Risk-free rate       0.00%           0.00%           0.00%\n",
      "\n",
      "Total Return         22.38%          10.21%          34.31%\n",
      "Daily Sharpe         0.34            0.23            0.50\n",
      "Daily Sortino        0.54            0.37            0.76\n",
      "CAGR                 4.66%           2.21%           6.87%\n",
      "Max Drawdown         -31.93%         -26.86%         -32.25%\n",
      "Calmar Ratio         0.15            0.08            0.21\n",
      "\n",
      "MTD                  -3.90%          -3.45%          -5.48%\n",
      "3m                   -8.26%          -2.44%          -7.60%\n",
      "6m                   -23.47%         -12.11%         -19.18%\n",
      "YTD                  -23.91%         -11.36%         -20.61%\n",
      "1Y                   -26.09%         -6.09%          -12.81%\n",
      "3Y (ann.)            2.82%           4.87%           7.02%\n",
      "5Y (ann.)            4.66%           2.21%           6.87%\n",
      "10Y (ann.)           -               -               -\n",
      "Since Incep. (ann.)  4.66%           2.21%           6.87%\n",
      "\n",
      "Daily Sharpe         0.34            0.23            0.50\n",
      "Daily Sortino        0.54            0.37            0.76\n",
      "Daily Mean (ann.)    7.20%           3.80%           8.95%\n",
      "Daily Vol (ann.)     20.89%          16.69%          18.02%\n",
      "Daily Skew           -0.33           0.00            -0.51\n",
      "Daily Kurt           2.63            4.20            4.20\n",
      "Best Day             6.66%           7.31%           5.67%\n",
      "Worst Day            -6.40%          -6.54%          -7.03%\n",
      "\n",
      "Monthly Sharpe       0.34            0.25            0.50\n",
      "Monthly Sortino      0.61            0.41            0.80\n",
      "Monthly Mean (ann.)  5.55%           3.35%           7.89%\n",
      "Monthly Vol (ann.)   16.11%          13.34%          15.86%\n",
      "Monthly Skew         0.00            -0.25           -0.46\n",
      "Monthly Kurt         0.03            0.30            1.03\n",
      "Best Month           12.87%          9.73%           12.70%\n",
      "Worst Month          -8.91%          -9.37%          -11.03%\n",
      "\n",
      "Yearly Sharpe        0.35            0.45            0.51\n",
      "Yearly Sortino       0.70            1.10            1.13\n",
      "Yearly Mean          8.37%           6.26%           11.63%\n",
      "Yearly Vol           23.65%          13.93%          22.59%\n",
      "Yearly Skew          -1.11           -0.33           -1.43\n",
      "Yearly Kurt          0.40            0.83            2.50\n",
      "Best Year            28.79%          22.25%          31.73%\n",
      "Worst Year           -23.91%         -11.36%         -20.61%\n",
      "\n",
      "Avg. Drawdown        -4.10%          -5.81%          -2.69%\n",
      "Avg. Drawdown Days   32.78           90.76           22.84\n",
      "Avg. Up Month        3.59%           2.68%           3.22%\n",
      "Avg. Down Month      -3.94%          -3.38%          -4.33%\n",
      "Win Year %           75.00%          75.00%          75.00%\n",
      "Win 12m %            81.40%          60.47%          83.72%\n"
     ]
    }
   ],
   "source": [
    "stats = prices.calc_stats()\n",
    "stats.display()"
   ]
  },
  {
   "cell_type": "code",
   "execution_count": 13,
   "metadata": {},
   "outputs": [
    {
     "data": {
      "application/javascript": "\n        if (window._pyforest_update_imports_cell) { window._pyforest_update_imports_cell('import matplotlib.pyplot as plt'); }\n    ",
      "text/plain": [
       "<IPython.core.display.Javascript object>"
      ]
     },
     "metadata": {},
     "output_type": "display_data"
    },
    {
     "data": {
      "image/png": "[encoded data removed]",
      "text/plain": [
       "<Figure size 864x360 with 1 Axes>"
      ]
     },
     "metadata": {
      "needs_background": "light"
     },
     "output_type": "display_data"
    }
   ],
   "source": [
    "stats.prices.to_drawdown_series().plot(figsize=(12,5))\n",
    "plt.show()"
   ]
  },
  {
   "cell_type": "code",
   "execution_count": 14,
   "metadata": {},
   "outputs": [
    {
     "data": {
      "text/plain": [
       "lu0340554673    0.046565\n",
       "lu0474966677    0.022139\n",
       "lu0386875149    0.068725\n",
       "dtype: float64"
      ]
     },
     "execution_count": 14,
     "metadata": {},
     "output_type": "execute_result"
    }
   ],
   "source": [
    "stats.prices.calc_cagr()"
   ]
  },
  {
   "cell_type": "code",
   "execution_count": 15,
   "metadata": {},
   "outputs": [
    {
     "data": {
      "text/plain": [
       "lu0340554673     0.00%\n",
       "lu0474966677     0.11%\n",
       "lu0386875149    99.89%\n",
       "dtype: object"
      ]
     },
     "execution_count": 15,
     "metadata": {},
     "output_type": "execute_result"
    }
   ],
   "source": [
    "returns = prices.to_log_returns().dropna()\n",
    "returns.calc_mean_var_weights().as_format('.2%')"
   ]
  },
  {
   "cell_type": "code",
   "execution_count": 16,
   "metadata": {},
   "outputs": [
    {
     "data": {
      "text/plain": [
       "lu0340554673    27.54%\n",
       "lu0474966677    41.10%\n",
       "lu0386875149    31.36%\n",
       "Name: erc, dtype: object"
      ]
     },
     "execution_count": 16,
     "metadata": {},
     "output_type": "execute_result"
    }
   ],
   "source": [
    "returns.calc_erc_weights().as_format('.2%')"
   ]
  },
  {
   "cell_type": "markdown",
   "metadata": {},
   "source": [
    "symbols = [f'{isin}-NAV']\n",
    "for sym in symbols:\n",
    "    stk = ffn.get(sym, provider=ffn.data.csv, path=filename)\n",
    "    alpha, beta = alpha_beta(stk, benchmark)\n",
    "    print(sym, beta)\n"
   ]
  },
  {
   "cell_type": "code",
   "execution_count": 17,
   "metadata": {},
   "outputs": [
    {
     "name": "stdout",
     "output_type": "stream",
     "text": [
      "Expected annualised return: 7.000000000000001\n",
      "Volatility: 16.0\n"
     ]
    }
   ],
   "source": [
    "returns = prices.pct_change()\n",
    "weight = np.array([10,10,10])\n",
    "\n",
    "t = np.sum(weight)\n",
    "weights = weight/t\n",
    "# mean daily return and covariance of daily returns\n",
    "mean_daily_returns = returns.mean()\n",
    "cov_matrix = returns.cov()\n",
    "\n",
    "portfolio_return = round(np.sum(mean_daily_returns * weights) * 252,2)\n",
    "portfolio_std_dev = round(np.sqrt(np.dot(weights.T,np.dot(cov_matrix, weights))) * np.sqrt(252),2)\n",
    "\n",
    "print(\"Expected annualised return: \" + str(portfolio_return*100))\n",
    "print(\"Volatility: \" + str(portfolio_std_dev*100))"
   ]
  },
  {
   "cell_type": "code",
   "execution_count": 18,
   "metadata": {},
   "outputs": [
    {
     "data": {
      "text/plain": [
       "0.07"
      ]
     },
     "execution_count": 18,
     "metadata": {},
     "output_type": "execute_result"
    }
   ],
   "source": [
    "portfolio_return"
   ]
  },
  {
   "cell_type": "code",
   "execution_count": 19,
   "metadata": {},
   "outputs": [
    {
     "data": {
      "text/plain": [
       "lu0340554673    0.000286\n",
       "lu0474966677    0.000151\n",
       "lu0386875149    0.000355\n",
       "dtype: float64"
      ]
     },
     "execution_count": 19,
     "metadata": {},
     "output_type": "execute_result"
    }
   ],
   "source": [
    "mean_daily_returns"
   ]
  },
  {
   "cell_type": "code",
   "execution_count": 20,
   "metadata": {},
   "outputs": [
    {
     "data": {
      "text/html": [
       "<div>\n",
       "<style scoped>\n",
       "    .dataframe tbody tr th:only-of-type {\n",
       "        vertical-align: middle;\n",
       "    }\n",
       "\n",
       "    .dataframe tbody tr th {\n",
       "        vertical-align: top;\n",
       "    }\n",
       "\n",
       "    .dataframe thead th {\n",
       "        text-align: right;\n",
       "    }\n",
       "</style>\n",
       "<table border=\"1\" class=\"dataframe\">\n",
       "  <thead>\n",
       "    <tr style=\"text-align: right;\">\n",
       "      <th></th>\n",
       "      <th>lu0340554673</th>\n",
       "      <th>lu0474966677</th>\n",
       "      <th>lu0386875149</th>\n",
       "    </tr>\n",
       "    <tr>\n",
       "      <th>index</th>\n",
       "      <th></th>\n",
       "      <th></th>\n",
       "      <th></th>\n",
       "    </tr>\n",
       "  </thead>\n",
       "  <tbody>\n",
       "    <tr>\n",
       "      <th>2018-01-04</th>\n",
       "      <td>NaN</td>\n",
       "      <td>NaN</td>\n",
       "      <td>NaN</td>\n",
       "    </tr>\n",
       "    <tr>\n",
       "      <th>2018-01-05</th>\n",
       "      <td>0.013642</td>\n",
       "      <td>0.003682</td>\n",
       "      <td>0.009862</td>\n",
       "    </tr>\n",
       "    <tr>\n",
       "      <th>2018-01-09</th>\n",
       "      <td>0.010027</td>\n",
       "      <td>0.019036</td>\n",
       "      <td>0.011936</td>\n",
       "    </tr>\n",
       "    <tr>\n",
       "      <th>2018-01-10</th>\n",
       "      <td>-0.010193</td>\n",
       "      <td>0.009239</td>\n",
       "      <td>-0.009293</td>\n",
       "    </tr>\n",
       "    <tr>\n",
       "      <th>2018-01-11</th>\n",
       "      <td>-0.001104</td>\n",
       "      <td>-0.000673</td>\n",
       "      <td>-0.000160</td>\n",
       "    </tr>\n",
       "    <tr>\n",
       "      <th>...</th>\n",
       "      <td>...</td>\n",
       "      <td>...</td>\n",
       "      <td>...</td>\n",
       "    </tr>\n",
       "    <tr>\n",
       "      <th>2022-06-07</th>\n",
       "      <td>-0.000327</td>\n",
       "      <td>-0.006693</td>\n",
       "      <td>-0.002017</td>\n",
       "    </tr>\n",
       "    <tr>\n",
       "      <th>2022-06-08</th>\n",
       "      <td>0.021696</td>\n",
       "      <td>0.000804</td>\n",
       "      <td>0.008282</td>\n",
       "    </tr>\n",
       "    <tr>\n",
       "      <th>2022-06-09</th>\n",
       "      <td>-0.005372</td>\n",
       "      <td>0.001297</td>\n",
       "      <td>-0.008440</td>\n",
       "    </tr>\n",
       "    <tr>\n",
       "      <th>2022-06-10</th>\n",
       "      <td>-0.027556</td>\n",
       "      <td>-0.005059</td>\n",
       "      <td>-0.025762</td>\n",
       "    </tr>\n",
       "    <tr>\n",
       "      <th>2022-06-13</th>\n",
       "      <td>-0.043793</td>\n",
       "      <td>-0.016493</td>\n",
       "      <td>-0.033018</td>\n",
       "    </tr>\n",
       "  </tbody>\n",
       "</table>\n",
       "<p>1017 rows × 3 columns</p>\n",
       "</div>"
      ],
      "text/plain": [
       "            lu0340554673  lu0474966677  lu0386875149\n",
       "index                                               \n",
       "2018-01-04           NaN           NaN           NaN\n",
       "2018-01-05      0.013642      0.003682      0.009862\n",
       "2018-01-09      0.010027      0.019036      0.011936\n",
       "2018-01-10     -0.010193      0.009239     -0.009293\n",
       "2018-01-11     -0.001104     -0.000673     -0.000160\n",
       "...                  ...           ...           ...\n",
       "2022-06-07     -0.000327     -0.006693     -0.002017\n",
       "2022-06-08      0.021696      0.000804      0.008282\n",
       "2022-06-09     -0.005372      0.001297     -0.008440\n",
       "2022-06-10     -0.027556     -0.005059     -0.025762\n",
       "2022-06-13     -0.043793     -0.016493     -0.033018\n",
       "\n",
       "[1017 rows x 3 columns]"
      ]
     },
     "execution_count": 20,
     "metadata": {},
     "output_type": "execute_result"
    }
   ],
   "source": [
    "returns"
   ]
  },
  {
   "cell_type": "code",
   "execution_count": 21,
   "metadata": {},
   "outputs": [
    {
     "data": {
      "text/plain": [
       "0.07"
      ]
     },
     "execution_count": 21,
     "metadata": {},
     "output_type": "execute_result"
    }
   ],
   "source": [
    "portfolio_return"
   ]
  },
  {
   "cell_type": "code",
   "execution_count": 22,
   "metadata": {},
   "outputs": [
    {
     "data": {
      "text/plain": [
       "lu0340554673    330.60\n",
       "lu0474966677    143.93\n",
       "lu0386875149    246.40\n",
       "Name: 2018-01-04 00:00:00, dtype: float64"
      ]
     },
     "execution_count": 22,
     "metadata": {},
     "output_type": "execute_result"
    }
   ],
   "source": [
    "prices.iloc[0]"
   ]
  },
  {
   "cell_type": "code",
   "execution_count": 23,
   "metadata": {},
   "outputs": [],
   "source": [
    "#pip install PyPortfolioOpt"
   ]
  },
  {
   "cell_type": "code",
   "execution_count": 24,
   "metadata": {},
   "outputs": [
    {
     "data": {
      "text/html": [
       "<div>\n",
       "<style scoped>\n",
       "    .dataframe tbody tr th:only-of-type {\n",
       "        vertical-align: middle;\n",
       "    }\n",
       "\n",
       "    .dataframe tbody tr th {\n",
       "        vertical-align: top;\n",
       "    }\n",
       "\n",
       "    .dataframe thead th {\n",
       "        text-align: right;\n",
       "    }\n",
       "</style>\n",
       "<table border=\"1\" class=\"dataframe\">\n",
       "  <thead>\n",
       "    <tr style=\"text-align: right;\">\n",
       "      <th></th>\n",
       "      <th>lu0340554673</th>\n",
       "      <th>lu0474966677</th>\n",
       "      <th>lu0386875149</th>\n",
       "    </tr>\n",
       "    <tr>\n",
       "      <th>index</th>\n",
       "      <th></th>\n",
       "      <th></th>\n",
       "      <th></th>\n",
       "    </tr>\n",
       "  </thead>\n",
       "  <tbody>\n",
       "    <tr>\n",
       "      <th>2018-01-04</th>\n",
       "      <td>330.60</td>\n",
       "      <td>143.93</td>\n",
       "      <td>246.40</td>\n",
       "    </tr>\n",
       "    <tr>\n",
       "      <th>2018-01-05</th>\n",
       "      <td>335.11</td>\n",
       "      <td>144.46</td>\n",
       "      <td>248.83</td>\n",
       "    </tr>\n",
       "    <tr>\n",
       "      <th>2018-01-09</th>\n",
       "      <td>338.47</td>\n",
       "      <td>147.21</td>\n",
       "      <td>251.80</td>\n",
       "    </tr>\n",
       "    <tr>\n",
       "      <th>2018-01-10</th>\n",
       "      <td>335.02</td>\n",
       "      <td>148.57</td>\n",
       "      <td>249.46</td>\n",
       "    </tr>\n",
       "    <tr>\n",
       "      <th>2018-01-11</th>\n",
       "      <td>334.65</td>\n",
       "      <td>148.47</td>\n",
       "      <td>249.42</td>\n",
       "    </tr>\n",
       "    <tr>\n",
       "      <th>...</th>\n",
       "      <td>...</td>\n",
       "      <td>...</td>\n",
       "      <td>...</td>\n",
       "    </tr>\n",
       "    <tr>\n",
       "      <th>2022-06-07</th>\n",
       "      <td>428.18</td>\n",
       "      <td>161.76</td>\n",
       "      <td>351.37</td>\n",
       "    </tr>\n",
       "    <tr>\n",
       "      <th>2022-06-08</th>\n",
       "      <td>437.47</td>\n",
       "      <td>161.89</td>\n",
       "      <td>354.28</td>\n",
       "    </tr>\n",
       "    <tr>\n",
       "      <th>2022-06-09</th>\n",
       "      <td>435.12</td>\n",
       "      <td>162.10</td>\n",
       "      <td>351.29</td>\n",
       "    </tr>\n",
       "    <tr>\n",
       "      <th>2022-06-10</th>\n",
       "      <td>423.13</td>\n",
       "      <td>161.28</td>\n",
       "      <td>342.24</td>\n",
       "    </tr>\n",
       "    <tr>\n",
       "      <th>2022-06-13</th>\n",
       "      <td>404.60</td>\n",
       "      <td>158.62</td>\n",
       "      <td>330.94</td>\n",
       "    </tr>\n",
       "  </tbody>\n",
       "</table>\n",
       "<p>1017 rows × 3 columns</p>\n",
       "</div>"
      ],
      "text/plain": [
       "            lu0340554673  lu0474966677  lu0386875149\n",
       "index                                               \n",
       "2018-01-04        330.60        143.93        246.40\n",
       "2018-01-05        335.11        144.46        248.83\n",
       "2018-01-09        338.47        147.21        251.80\n",
       "2018-01-10        335.02        148.57        249.46\n",
       "2018-01-11        334.65        148.47        249.42\n",
       "...                  ...           ...           ...\n",
       "2022-06-07        428.18        161.76        351.37\n",
       "2022-06-08        437.47        161.89        354.28\n",
       "2022-06-09        435.12        162.10        351.29\n",
       "2022-06-10        423.13        161.28        342.24\n",
       "2022-06-13        404.60        158.62        330.94\n",
       "\n",
       "[1017 rows x 3 columns]"
      ]
     },
     "execution_count": 24,
     "metadata": {},
     "output_type": "execute_result"
    }
   ],
   "source": [
    "prices"
   ]
  },
  {
   "cell_type": "code",
   "execution_count": 25,
   "metadata": {},
   "outputs": [],
   "source": [
    "x=ffn.core.drawdown_details(ffn.core.calc_max_drawdown(prices))"
   ]
  },
  {
   "cell_type": "code",
   "execution_count": 26,
   "metadata": {},
   "outputs": [
    {
     "name": "stdout",
     "output_type": "stream",
     "text": [
      "Stat                 lu0340554673    lu0474966677    lu0386875149\n",
      "-------------------  --------------  --------------  --------------\n",
      "Start                2018-01-04      2018-01-04      2018-01-04\n",
      "End                  2022-06-13      2022-06-13      2022-06-13\n",
      "Risk-free rate       0.00%           0.00%           0.00%\n",
      "\n",
      "Total Return         22.38%          10.21%          34.31%\n",
      "Daily Sharpe         0.34            0.23            0.50\n",
      "Daily Sortino        0.54            0.37            0.76\n",
      "CAGR                 4.66%           2.21%           6.87%\n",
      "Max Drawdown         -31.93%         -26.86%         -32.25%\n",
      "Calmar Ratio         0.15            0.08            0.21\n",
      "\n",
      "MTD                  -3.90%          -3.45%          -5.48%\n",
      "3m                   -8.26%          -2.44%          -7.60%\n",
      "6m                   -23.47%         -12.11%         -19.18%\n",
      "YTD                  -23.91%         -11.36%         -20.61%\n",
      "1Y                   -26.09%         -6.09%          -12.81%\n",
      "3Y (ann.)            2.82%           4.87%           7.02%\n",
      "5Y (ann.)            4.66%           2.21%           6.87%\n",
      "10Y (ann.)           -               -               -\n",
      "Since Incep. (ann.)  4.66%           2.21%           6.87%\n",
      "\n",
      "Daily Sharpe         0.34            0.23            0.50\n",
      "Daily Sortino        0.54            0.37            0.76\n",
      "Daily Mean (ann.)    7.20%           3.80%           8.95%\n",
      "Daily Vol (ann.)     20.89%          16.69%          18.02%\n",
      "Daily Skew           -0.33           0.00            -0.51\n",
      "Daily Kurt           2.63            4.20            4.20\n",
      "Best Day             6.66%           7.31%           5.67%\n",
      "Worst Day            -6.40%          -6.54%          -7.03%\n",
      "\n",
      "Monthly Sharpe       0.34            0.25            0.50\n",
      "Monthly Sortino      0.61            0.41            0.80\n",
      "Monthly Mean (ann.)  5.55%           3.35%           7.89%\n",
      "Monthly Vol (ann.)   16.11%          13.34%          15.86%\n",
      "Monthly Skew         0.00            -0.25           -0.46\n",
      "Monthly Kurt         0.03            0.30            1.03\n",
      "Best Month           12.87%          9.73%           12.70%\n",
      "Worst Month          -8.91%          -9.37%          -11.03%\n",
      "\n",
      "Yearly Sharpe        0.35            0.45            0.51\n",
      "Yearly Sortino       0.70            1.10            1.13\n",
      "Yearly Mean          8.37%           6.26%           11.63%\n",
      "Yearly Vol           23.65%          13.93%          22.59%\n",
      "Yearly Skew          -1.11           -0.33           -1.43\n",
      "Yearly Kurt          0.40            0.83            2.50\n",
      "Best Year            28.79%          22.25%          31.73%\n",
      "Worst Year           -23.91%         -11.36%         -20.61%\n",
      "\n",
      "Avg. Drawdown        -4.10%          -5.81%          -2.69%\n",
      "Avg. Drawdown Days   32.78           90.76           22.84\n",
      "Avg. Up Month        3.59%           2.68%           3.22%\n",
      "Avg. Down Month      -3.94%          -3.38%          -4.33%\n",
      "Win Year %           75.00%          75.00%          75.00%\n",
      "Win 12m %            81.40%          60.47%          83.72%\n"
     ]
    }
   ],
   "source": [
    "ffn.core.GroupStats(prices).display()"
   ]
  },
  {
   "cell_type": "code",
   "execution_count": 27,
   "metadata": {},
   "outputs": [
    {
     "data": {
      "text/plain": [
       "116.81000000000009"
      ]
     },
     "execution_count": 27,
     "metadata": {},
     "output_type": "execute_result"
    }
   ],
   "source": [
    "100*((1*(106.56/100))+(1*(229.62/100))+(1*(80.63/100))-3)"
   ]
  },
  {
   "cell_type": "code",
   "execution_count": 28,
   "metadata": {},
   "outputs": [
    {
     "data": {
      "text/plain": [
       "4.168100000000001"
      ]
     },
     "execution_count": 28,
     "metadata": {},
     "output_type": "execute_result"
    }
   ],
   "source": [
    "(((1*(106.56/100)))+1)+(((1*(229.62/100)))+1)+(((1*(80.63/100)))+1)-3\n"
   ]
  },
  {
   "cell_type": "code",
   "execution_count": 29,
   "metadata": {},
   "outputs": [
    {
     "data": {
      "text/plain": [
       "1.0987333333333333"
      ]
     },
     "execution_count": 29,
     "metadata": {},
     "output_type": "execute_result"
    }
   ],
   "source": [
    "(((1*(229.62/100)))+1)/3"
   ]
  },
  {
   "cell_type": "code",
   "execution_count": 30,
   "metadata": {},
   "outputs": [
    {
     "data": {
      "text/plain": [
       "1.8062999999999998"
      ]
     },
     "execution_count": 30,
     "metadata": {},
     "output_type": "execute_result"
    }
   ],
   "source": [
    "((1*(80.63/100)))+1"
   ]
  },
  {
   "cell_type": "code",
   "execution_count": 31,
   "metadata": {},
   "outputs": [
    {
     "name": "stdout",
     "output_type": "stream",
     "text": [
      "Object `pf` not found.\n"
     ]
    }
   ],
   "source": [
    "pf?"
   ]
  },
  {
   "cell_type": "code",
   "execution_count": 32,
   "metadata": {},
   "outputs": [
    {
     "data": {
      "text/html": [
       "<div>\n",
       "<style scoped>\n",
       "    .dataframe tbody tr th:only-of-type {\n",
       "        vertical-align: middle;\n",
       "    }\n",
       "\n",
       "    .dataframe tbody tr th {\n",
       "        vertical-align: top;\n",
       "    }\n",
       "\n",
       "    .dataframe thead th {\n",
       "        text-align: right;\n",
       "    }\n",
       "</style>\n",
       "<table border=\"1\" class=\"dataframe\">\n",
       "  <thead>\n",
       "    <tr style=\"text-align: right;\">\n",
       "      <th></th>\n",
       "      <th>lu0340554673</th>\n",
       "      <th>lu0474966677</th>\n",
       "      <th>lu0386875149</th>\n",
       "    </tr>\n",
       "    <tr>\n",
       "      <th>index</th>\n",
       "      <th></th>\n",
       "      <th></th>\n",
       "      <th></th>\n",
       "    </tr>\n",
       "  </thead>\n",
       "  <tbody>\n",
       "    <tr>\n",
       "      <th>2018-01-04</th>\n",
       "      <td>330.60</td>\n",
       "      <td>143.93</td>\n",
       "      <td>246.40</td>\n",
       "    </tr>\n",
       "    <tr>\n",
       "      <th>2018-01-05</th>\n",
       "      <td>335.11</td>\n",
       "      <td>144.46</td>\n",
       "      <td>248.83</td>\n",
       "    </tr>\n",
       "    <tr>\n",
       "      <th>2018-01-09</th>\n",
       "      <td>338.47</td>\n",
       "      <td>147.21</td>\n",
       "      <td>251.80</td>\n",
       "    </tr>\n",
       "    <tr>\n",
       "      <th>2018-01-10</th>\n",
       "      <td>335.02</td>\n",
       "      <td>148.57</td>\n",
       "      <td>249.46</td>\n",
       "    </tr>\n",
       "    <tr>\n",
       "      <th>2018-01-11</th>\n",
       "      <td>334.65</td>\n",
       "      <td>148.47</td>\n",
       "      <td>249.42</td>\n",
       "    </tr>\n",
       "    <tr>\n",
       "      <th>...</th>\n",
       "      <td>...</td>\n",
       "      <td>...</td>\n",
       "      <td>...</td>\n",
       "    </tr>\n",
       "    <tr>\n",
       "      <th>2022-06-07</th>\n",
       "      <td>428.18</td>\n",
       "      <td>161.76</td>\n",
       "      <td>351.37</td>\n",
       "    </tr>\n",
       "    <tr>\n",
       "      <th>2022-06-08</th>\n",
       "      <td>437.47</td>\n",
       "      <td>161.89</td>\n",
       "      <td>354.28</td>\n",
       "    </tr>\n",
       "    <tr>\n",
       "      <th>2022-06-09</th>\n",
       "      <td>435.12</td>\n",
       "      <td>162.10</td>\n",
       "      <td>351.29</td>\n",
       "    </tr>\n",
       "    <tr>\n",
       "      <th>2022-06-10</th>\n",
       "      <td>423.13</td>\n",
       "      <td>161.28</td>\n",
       "      <td>342.24</td>\n",
       "    </tr>\n",
       "    <tr>\n",
       "      <th>2022-06-13</th>\n",
       "      <td>404.60</td>\n",
       "      <td>158.62</td>\n",
       "      <td>330.94</td>\n",
       "    </tr>\n",
       "  </tbody>\n",
       "</table>\n",
       "<p>1017 rows × 3 columns</p>\n",
       "</div>"
      ],
      "text/plain": [
       "            lu0340554673  lu0474966677  lu0386875149\n",
       "index                                               \n",
       "2018-01-04        330.60        143.93        246.40\n",
       "2018-01-05        335.11        144.46        248.83\n",
       "2018-01-09        338.47        147.21        251.80\n",
       "2018-01-10        335.02        148.57        249.46\n",
       "2018-01-11        334.65        148.47        249.42\n",
       "...                  ...           ...           ...\n",
       "2022-06-07        428.18        161.76        351.37\n",
       "2022-06-08        437.47        161.89        354.28\n",
       "2022-06-09        435.12        162.10        351.29\n",
       "2022-06-10        423.13        161.28        342.24\n",
       "2022-06-13        404.60        158.62        330.94\n",
       "\n",
       "[1017 rows x 3 columns]"
      ]
     },
     "execution_count": 32,
     "metadata": {},
     "output_type": "execute_result"
    }
   ],
   "source": [
    "prices"
   ]
  },
  {
   "cell_type": "code",
   "execution_count": 33,
   "metadata": {},
   "outputs": [
    {
     "data": {
      "text/html": [
       "<div>\n",
       "<style scoped>\n",
       "    .dataframe tbody tr th:only-of-type {\n",
       "        vertical-align: middle;\n",
       "    }\n",
       "\n",
       "    .dataframe tbody tr th {\n",
       "        vertical-align: top;\n",
       "    }\n",
       "\n",
       "    .dataframe thead th {\n",
       "        text-align: right;\n",
       "    }\n",
       "</style>\n",
       "<table border=\"1\" class=\"dataframe\">\n",
       "  <thead>\n",
       "    <tr style=\"text-align: right;\">\n",
       "      <th></th>\n",
       "      <th>lu0340554673</th>\n",
       "      <th>lu0474966677</th>\n",
       "      <th>lu0386875149</th>\n",
       "    </tr>\n",
       "    <tr>\n",
       "      <th>index</th>\n",
       "      <th></th>\n",
       "      <th></th>\n",
       "      <th></th>\n",
       "    </tr>\n",
       "  </thead>\n",
       "  <tbody>\n",
       "    <tr>\n",
       "      <th>2018-01-04</th>\n",
       "      <td>NaN</td>\n",
       "      <td>NaN</td>\n",
       "      <td>NaN</td>\n",
       "    </tr>\n",
       "    <tr>\n",
       "      <th>2018-01-05</th>\n",
       "      <td>0.013642</td>\n",
       "      <td>0.003682</td>\n",
       "      <td>0.009862</td>\n",
       "    </tr>\n",
       "    <tr>\n",
       "      <th>2018-01-09</th>\n",
       "      <td>0.010027</td>\n",
       "      <td>0.019036</td>\n",
       "      <td>0.011936</td>\n",
       "    </tr>\n",
       "    <tr>\n",
       "      <th>2018-01-10</th>\n",
       "      <td>-0.010193</td>\n",
       "      <td>0.009239</td>\n",
       "      <td>-0.009293</td>\n",
       "    </tr>\n",
       "    <tr>\n",
       "      <th>2018-01-11</th>\n",
       "      <td>-0.001104</td>\n",
       "      <td>-0.000673</td>\n",
       "      <td>-0.000160</td>\n",
       "    </tr>\n",
       "    <tr>\n",
       "      <th>...</th>\n",
       "      <td>...</td>\n",
       "      <td>...</td>\n",
       "      <td>...</td>\n",
       "    </tr>\n",
       "    <tr>\n",
       "      <th>2022-06-07</th>\n",
       "      <td>-0.000327</td>\n",
       "      <td>-0.006693</td>\n",
       "      <td>-0.002017</td>\n",
       "    </tr>\n",
       "    <tr>\n",
       "      <th>2022-06-08</th>\n",
       "      <td>0.021696</td>\n",
       "      <td>0.000804</td>\n",
       "      <td>0.008282</td>\n",
       "    </tr>\n",
       "    <tr>\n",
       "      <th>2022-06-09</th>\n",
       "      <td>-0.005372</td>\n",
       "      <td>0.001297</td>\n",
       "      <td>-0.008440</td>\n",
       "    </tr>\n",
       "    <tr>\n",
       "      <th>2022-06-10</th>\n",
       "      <td>-0.027556</td>\n",
       "      <td>-0.005059</td>\n",
       "      <td>-0.025762</td>\n",
       "    </tr>\n",
       "    <tr>\n",
       "      <th>2022-06-13</th>\n",
       "      <td>-0.043793</td>\n",
       "      <td>-0.016493</td>\n",
       "      <td>-0.033018</td>\n",
       "    </tr>\n",
       "  </tbody>\n",
       "</table>\n",
       "<p>1017 rows × 3 columns</p>\n",
       "</div>"
      ],
      "text/plain": [
       "            lu0340554673  lu0474966677  lu0386875149\n",
       "index                                               \n",
       "2018-01-04           NaN           NaN           NaN\n",
       "2018-01-05      0.013642      0.003682      0.009862\n",
       "2018-01-09      0.010027      0.019036      0.011936\n",
       "2018-01-10     -0.010193      0.009239     -0.009293\n",
       "2018-01-11     -0.001104     -0.000673     -0.000160\n",
       "...                  ...           ...           ...\n",
       "2022-06-07     -0.000327     -0.006693     -0.002017\n",
       "2022-06-08      0.021696      0.000804      0.008282\n",
       "2022-06-09     -0.005372      0.001297     -0.008440\n",
       "2022-06-10     -0.027556     -0.005059     -0.025762\n",
       "2022-06-13     -0.043793     -0.016493     -0.033018\n",
       "\n",
       "[1017 rows x 3 columns]"
      ]
     },
     "execution_count": 33,
     "metadata": {},
     "output_type": "execute_result"
    }
   ],
   "source": [
    "returns "
   ]
  },
  {
   "cell_type": "code",
   "execution_count": 34,
   "metadata": {},
   "outputs": [],
   "source": [
    "p = prices.copy()"
   ]
  },
  {
   "cell_type": "code",
   "execution_count": 35,
   "metadata": {},
   "outputs": [
    {
     "data": {
      "text/html": [
       "<div>\n",
       "<style scoped>\n",
       "    .dataframe tbody tr th:only-of-type {\n",
       "        vertical-align: middle;\n",
       "    }\n",
       "\n",
       "    .dataframe tbody tr th {\n",
       "        vertical-align: top;\n",
       "    }\n",
       "\n",
       "    .dataframe thead th {\n",
       "        text-align: right;\n",
       "    }\n",
       "</style>\n",
       "<table border=\"1\" class=\"dataframe\">\n",
       "  <thead>\n",
       "    <tr style=\"text-align: right;\">\n",
       "      <th></th>\n",
       "      <th>lu0340554673</th>\n",
       "      <th>lu0474966677</th>\n",
       "      <th>lu0386875149</th>\n",
       "    </tr>\n",
       "    <tr>\n",
       "      <th>index</th>\n",
       "      <th></th>\n",
       "      <th></th>\n",
       "      <th></th>\n",
       "    </tr>\n",
       "  </thead>\n",
       "  <tbody>\n",
       "    <tr>\n",
       "      <th>2018-01-04</th>\n",
       "      <td>330.60</td>\n",
       "      <td>143.93</td>\n",
       "      <td>246.40</td>\n",
       "    </tr>\n",
       "    <tr>\n",
       "      <th>2018-01-05</th>\n",
       "      <td>335.11</td>\n",
       "      <td>144.46</td>\n",
       "      <td>248.83</td>\n",
       "    </tr>\n",
       "    <tr>\n",
       "      <th>2018-01-09</th>\n",
       "      <td>338.47</td>\n",
       "      <td>147.21</td>\n",
       "      <td>251.80</td>\n",
       "    </tr>\n",
       "    <tr>\n",
       "      <th>2018-01-10</th>\n",
       "      <td>335.02</td>\n",
       "      <td>148.57</td>\n",
       "      <td>249.46</td>\n",
       "    </tr>\n",
       "    <tr>\n",
       "      <th>2018-01-11</th>\n",
       "      <td>334.65</td>\n",
       "      <td>148.47</td>\n",
       "      <td>249.42</td>\n",
       "    </tr>\n",
       "    <tr>\n",
       "      <th>...</th>\n",
       "      <td>...</td>\n",
       "      <td>...</td>\n",
       "      <td>...</td>\n",
       "    </tr>\n",
       "    <tr>\n",
       "      <th>2022-06-07</th>\n",
       "      <td>428.18</td>\n",
       "      <td>161.76</td>\n",
       "      <td>351.37</td>\n",
       "    </tr>\n",
       "    <tr>\n",
       "      <th>2022-06-08</th>\n",
       "      <td>437.47</td>\n",
       "      <td>161.89</td>\n",
       "      <td>354.28</td>\n",
       "    </tr>\n",
       "    <tr>\n",
       "      <th>2022-06-09</th>\n",
       "      <td>435.12</td>\n",
       "      <td>162.10</td>\n",
       "      <td>351.29</td>\n",
       "    </tr>\n",
       "    <tr>\n",
       "      <th>2022-06-10</th>\n",
       "      <td>423.13</td>\n",
       "      <td>161.28</td>\n",
       "      <td>342.24</td>\n",
       "    </tr>\n",
       "    <tr>\n",
       "      <th>2022-06-13</th>\n",
       "      <td>404.60</td>\n",
       "      <td>158.62</td>\n",
       "      <td>330.94</td>\n",
       "    </tr>\n",
       "  </tbody>\n",
       "</table>\n",
       "<p>1017 rows × 3 columns</p>\n",
       "</div>"
      ],
      "text/plain": [
       "            lu0340554673  lu0474966677  lu0386875149\n",
       "index                                               \n",
       "2018-01-04        330.60        143.93        246.40\n",
       "2018-01-05        335.11        144.46        248.83\n",
       "2018-01-09        338.47        147.21        251.80\n",
       "2018-01-10        335.02        148.57        249.46\n",
       "2018-01-11        334.65        148.47        249.42\n",
       "...                  ...           ...           ...\n",
       "2022-06-07        428.18        161.76        351.37\n",
       "2022-06-08        437.47        161.89        354.28\n",
       "2022-06-09        435.12        162.10        351.29\n",
       "2022-06-10        423.13        161.28        342.24\n",
       "2022-06-13        404.60        158.62        330.94\n",
       "\n",
       "[1017 rows x 3 columns]"
      ]
     },
     "execution_count": 35,
     "metadata": {},
     "output_type": "execute_result"
    }
   ],
   "source": [
    "p"
   ]
  },
  {
   "cell_type": "code",
   "execution_count": 36,
   "metadata": {},
   "outputs": [],
   "source": [
    "p.index = p.index.tz_localize('utc')"
   ]
  },
  {
   "cell_type": "code",
   "execution_count": 37,
   "metadata": {},
   "outputs": [
    {
     "data": {
      "text/html": [
       "<div>\n",
       "<style scoped>\n",
       "    .dataframe tbody tr th:only-of-type {\n",
       "        vertical-align: middle;\n",
       "    }\n",
       "\n",
       "    .dataframe tbody tr th {\n",
       "        vertical-align: top;\n",
       "    }\n",
       "\n",
       "    .dataframe thead th {\n",
       "        text-align: right;\n",
       "    }\n",
       "</style>\n",
       "<table border=\"1\" class=\"dataframe\">\n",
       "  <thead>\n",
       "    <tr style=\"text-align: right;\">\n",
       "      <th></th>\n",
       "      <th>lu0340554673</th>\n",
       "      <th>lu0474966677</th>\n",
       "      <th>lu0386875149</th>\n",
       "    </tr>\n",
       "    <tr>\n",
       "      <th>index</th>\n",
       "      <th></th>\n",
       "      <th></th>\n",
       "      <th></th>\n",
       "    </tr>\n",
       "  </thead>\n",
       "  <tbody>\n",
       "    <tr>\n",
       "      <th>2018-01-04 00:00:00+00:00</th>\n",
       "      <td>330.60</td>\n",
       "      <td>143.93</td>\n",
       "      <td>246.40</td>\n",
       "    </tr>\n",
       "    <tr>\n",
       "      <th>2018-01-05 00:00:00+00:00</th>\n",
       "      <td>335.11</td>\n",
       "      <td>144.46</td>\n",
       "      <td>248.83</td>\n",
       "    </tr>\n",
       "    <tr>\n",
       "      <th>2018-01-09 00:00:00+00:00</th>\n",
       "      <td>338.47</td>\n",
       "      <td>147.21</td>\n",
       "      <td>251.80</td>\n",
       "    </tr>\n",
       "    <tr>\n",
       "      <th>2018-01-10 00:00:00+00:00</th>\n",
       "      <td>335.02</td>\n",
       "      <td>148.57</td>\n",
       "      <td>249.46</td>\n",
       "    </tr>\n",
       "    <tr>\n",
       "      <th>2018-01-11 00:00:00+00:00</th>\n",
       "      <td>334.65</td>\n",
       "      <td>148.47</td>\n",
       "      <td>249.42</td>\n",
       "    </tr>\n",
       "    <tr>\n",
       "      <th>...</th>\n",
       "      <td>...</td>\n",
       "      <td>...</td>\n",
       "      <td>...</td>\n",
       "    </tr>\n",
       "    <tr>\n",
       "      <th>2022-06-07 00:00:00+00:00</th>\n",
       "      <td>428.18</td>\n",
       "      <td>161.76</td>\n",
       "      <td>351.37</td>\n",
       "    </tr>\n",
       "    <tr>\n",
       "      <th>2022-06-08 00:00:00+00:00</th>\n",
       "      <td>437.47</td>\n",
       "      <td>161.89</td>\n",
       "      <td>354.28</td>\n",
       "    </tr>\n",
       "    <tr>\n",
       "      <th>2022-06-09 00:00:00+00:00</th>\n",
       "      <td>435.12</td>\n",
       "      <td>162.10</td>\n",
       "      <td>351.29</td>\n",
       "    </tr>\n",
       "    <tr>\n",
       "      <th>2022-06-10 00:00:00+00:00</th>\n",
       "      <td>423.13</td>\n",
       "      <td>161.28</td>\n",
       "      <td>342.24</td>\n",
       "    </tr>\n",
       "    <tr>\n",
       "      <th>2022-06-13 00:00:00+00:00</th>\n",
       "      <td>404.60</td>\n",
       "      <td>158.62</td>\n",
       "      <td>330.94</td>\n",
       "    </tr>\n",
       "  </tbody>\n",
       "</table>\n",
       "<p>1017 rows × 3 columns</p>\n",
       "</div>"
      ],
      "text/plain": [
       "                           lu0340554673  lu0474966677  lu0386875149\n",
       "index                                                              \n",
       "2018-01-04 00:00:00+00:00        330.60        143.93        246.40\n",
       "2018-01-05 00:00:00+00:00        335.11        144.46        248.83\n",
       "2018-01-09 00:00:00+00:00        338.47        147.21        251.80\n",
       "2018-01-10 00:00:00+00:00        335.02        148.57        249.46\n",
       "2018-01-11 00:00:00+00:00        334.65        148.47        249.42\n",
       "...                                 ...           ...           ...\n",
       "2022-06-07 00:00:00+00:00        428.18        161.76        351.37\n",
       "2022-06-08 00:00:00+00:00        437.47        161.89        354.28\n",
       "2022-06-09 00:00:00+00:00        435.12        162.10        351.29\n",
       "2022-06-10 00:00:00+00:00        423.13        161.28        342.24\n",
       "2022-06-13 00:00:00+00:00        404.60        158.62        330.94\n",
       "\n",
       "[1017 rows x 3 columns]"
      ]
     },
     "execution_count": 37,
     "metadata": {},
     "output_type": "execute_result"
    }
   ],
   "source": [
    "p"
   ]
  },
  {
   "cell_type": "code",
   "execution_count": 38,
   "metadata": {},
   "outputs": [],
   "source": [
    "prices.loc[:,'p1']=20\n",
    "prices.loc[:,'p2']=30\n",
    "prices.loc[:,'p3']=50\n",
    "returns.loc['2022-01-04','p1']=20\n",
    "\n"
   ]
  },
  {
   "cell_type": "code",
   "execution_count": 39,
   "metadata": {},
   "outputs": [
    {
     "data": {
      "text/html": [
       "<div>\n",
       "<style scoped>\n",
       "    .dataframe tbody tr th:only-of-type {\n",
       "        vertical-align: middle;\n",
       "    }\n",
       "\n",
       "    .dataframe tbody tr th {\n",
       "        vertical-align: top;\n",
       "    }\n",
       "\n",
       "    .dataframe thead th {\n",
       "        text-align: right;\n",
       "    }\n",
       "</style>\n",
       "<table border=\"1\" class=\"dataframe\">\n",
       "  <thead>\n",
       "    <tr style=\"text-align: right;\">\n",
       "      <th></th>\n",
       "      <th>lu0340554673</th>\n",
       "      <th>lu0474966677</th>\n",
       "      <th>lu0386875149</th>\n",
       "      <th>p1</th>\n",
       "    </tr>\n",
       "    <tr>\n",
       "      <th>index</th>\n",
       "      <th></th>\n",
       "      <th></th>\n",
       "      <th></th>\n",
       "      <th></th>\n",
       "    </tr>\n",
       "  </thead>\n",
       "  <tbody>\n",
       "    <tr>\n",
       "      <th>2018-01-04</th>\n",
       "      <td>NaN</td>\n",
       "      <td>NaN</td>\n",
       "      <td>NaN</td>\n",
       "      <td>NaN</td>\n",
       "    </tr>\n",
       "    <tr>\n",
       "      <th>2018-01-05</th>\n",
       "      <td>0.013642</td>\n",
       "      <td>0.003682</td>\n",
       "      <td>0.009862</td>\n",
       "      <td>NaN</td>\n",
       "    </tr>\n",
       "    <tr>\n",
       "      <th>2018-01-09</th>\n",
       "      <td>0.010027</td>\n",
       "      <td>0.019036</td>\n",
       "      <td>0.011936</td>\n",
       "      <td>NaN</td>\n",
       "    </tr>\n",
       "    <tr>\n",
       "      <th>2018-01-10</th>\n",
       "      <td>-0.010193</td>\n",
       "      <td>0.009239</td>\n",
       "      <td>-0.009293</td>\n",
       "      <td>NaN</td>\n",
       "    </tr>\n",
       "    <tr>\n",
       "      <th>2018-01-11</th>\n",
       "      <td>-0.001104</td>\n",
       "      <td>-0.000673</td>\n",
       "      <td>-0.000160</td>\n",
       "      <td>NaN</td>\n",
       "    </tr>\n",
       "    <tr>\n",
       "      <th>...</th>\n",
       "      <td>...</td>\n",
       "      <td>...</td>\n",
       "      <td>...</td>\n",
       "      <td>...</td>\n",
       "    </tr>\n",
       "    <tr>\n",
       "      <th>2022-06-07</th>\n",
       "      <td>-0.000327</td>\n",
       "      <td>-0.006693</td>\n",
       "      <td>-0.002017</td>\n",
       "      <td>NaN</td>\n",
       "    </tr>\n",
       "    <tr>\n",
       "      <th>2022-06-08</th>\n",
       "      <td>0.021696</td>\n",
       "      <td>0.000804</td>\n",
       "      <td>0.008282</td>\n",
       "      <td>NaN</td>\n",
       "    </tr>\n",
       "    <tr>\n",
       "      <th>2022-06-09</th>\n",
       "      <td>-0.005372</td>\n",
       "      <td>0.001297</td>\n",
       "      <td>-0.008440</td>\n",
       "      <td>NaN</td>\n",
       "    </tr>\n",
       "    <tr>\n",
       "      <th>2022-06-10</th>\n",
       "      <td>-0.027556</td>\n",
       "      <td>-0.005059</td>\n",
       "      <td>-0.025762</td>\n",
       "      <td>NaN</td>\n",
       "    </tr>\n",
       "    <tr>\n",
       "      <th>2022-06-13</th>\n",
       "      <td>-0.043793</td>\n",
       "      <td>-0.016493</td>\n",
       "      <td>-0.033018</td>\n",
       "      <td>NaN</td>\n",
       "    </tr>\n",
       "  </tbody>\n",
       "</table>\n",
       "<p>1017 rows × 4 columns</p>\n",
       "</div>"
      ],
      "text/plain": [
       "            lu0340554673  lu0474966677  lu0386875149  p1\n",
       "index                                                   \n",
       "2018-01-04           NaN           NaN           NaN NaN\n",
       "2018-01-05      0.013642      0.003682      0.009862 NaN\n",
       "2018-01-09      0.010027      0.019036      0.011936 NaN\n",
       "2018-01-10     -0.010193      0.009239     -0.009293 NaN\n",
       "2018-01-11     -0.001104     -0.000673     -0.000160 NaN\n",
       "...                  ...           ...           ...  ..\n",
       "2022-06-07     -0.000327     -0.006693     -0.002017 NaN\n",
       "2022-06-08      0.021696      0.000804      0.008282 NaN\n",
       "2022-06-09     -0.005372      0.001297     -0.008440 NaN\n",
       "2022-06-10     -0.027556     -0.005059     -0.025762 NaN\n",
       "2022-06-13     -0.043793     -0.016493     -0.033018 NaN\n",
       "\n",
       "[1017 rows x 4 columns]"
      ]
     },
     "execution_count": 39,
     "metadata": {},
     "output_type": "execute_result"
    }
   ],
   "source": [
    "returns"
   ]
  },
  {
   "cell_type": "code",
   "execution_count": 40,
   "metadata": {},
   "outputs": [
    {
     "data": {
      "text/html": [
       "<div>\n",
       "<style scoped>\n",
       "    .dataframe tbody tr th:only-of-type {\n",
       "        vertical-align: middle;\n",
       "    }\n",
       "\n",
       "    .dataframe tbody tr th {\n",
       "        vertical-align: top;\n",
       "    }\n",
       "\n",
       "    .dataframe thead th {\n",
       "        text-align: right;\n",
       "    }\n",
       "</style>\n",
       "<table border=\"1\" class=\"dataframe\">\n",
       "  <thead>\n",
       "    <tr style=\"text-align: right;\">\n",
       "      <th></th>\n",
       "      <th>lu0340554673</th>\n",
       "      <th>lu0474966677</th>\n",
       "      <th>lu0386875149</th>\n",
       "      <th>p1</th>\n",
       "      <th>p2</th>\n",
       "      <th>p3</th>\n",
       "    </tr>\n",
       "    <tr>\n",
       "      <th>index</th>\n",
       "      <th></th>\n",
       "      <th></th>\n",
       "      <th></th>\n",
       "      <th></th>\n",
       "      <th></th>\n",
       "      <th></th>\n",
       "    </tr>\n",
       "  </thead>\n",
       "  <tbody>\n",
       "    <tr>\n",
       "      <th>2018-01-04</th>\n",
       "      <td>330.60</td>\n",
       "      <td>143.93</td>\n",
       "      <td>246.40</td>\n",
       "      <td>20</td>\n",
       "      <td>30</td>\n",
       "      <td>50</td>\n",
       "    </tr>\n",
       "    <tr>\n",
       "      <th>2018-01-05</th>\n",
       "      <td>335.11</td>\n",
       "      <td>144.46</td>\n",
       "      <td>248.83</td>\n",
       "      <td>20</td>\n",
       "      <td>30</td>\n",
       "      <td>50</td>\n",
       "    </tr>\n",
       "    <tr>\n",
       "      <th>2018-01-09</th>\n",
       "      <td>338.47</td>\n",
       "      <td>147.21</td>\n",
       "      <td>251.80</td>\n",
       "      <td>20</td>\n",
       "      <td>30</td>\n",
       "      <td>50</td>\n",
       "    </tr>\n",
       "    <tr>\n",
       "      <th>2018-01-10</th>\n",
       "      <td>335.02</td>\n",
       "      <td>148.57</td>\n",
       "      <td>249.46</td>\n",
       "      <td>20</td>\n",
       "      <td>30</td>\n",
       "      <td>50</td>\n",
       "    </tr>\n",
       "    <tr>\n",
       "      <th>2018-01-11</th>\n",
       "      <td>334.65</td>\n",
       "      <td>148.47</td>\n",
       "      <td>249.42</td>\n",
       "      <td>20</td>\n",
       "      <td>30</td>\n",
       "      <td>50</td>\n",
       "    </tr>\n",
       "    <tr>\n",
       "      <th>...</th>\n",
       "      <td>...</td>\n",
       "      <td>...</td>\n",
       "      <td>...</td>\n",
       "      <td>...</td>\n",
       "      <td>...</td>\n",
       "      <td>...</td>\n",
       "    </tr>\n",
       "    <tr>\n",
       "      <th>2022-06-07</th>\n",
       "      <td>428.18</td>\n",
       "      <td>161.76</td>\n",
       "      <td>351.37</td>\n",
       "      <td>20</td>\n",
       "      <td>30</td>\n",
       "      <td>50</td>\n",
       "    </tr>\n",
       "    <tr>\n",
       "      <th>2022-06-08</th>\n",
       "      <td>437.47</td>\n",
       "      <td>161.89</td>\n",
       "      <td>354.28</td>\n",
       "      <td>20</td>\n",
       "      <td>30</td>\n",
       "      <td>50</td>\n",
       "    </tr>\n",
       "    <tr>\n",
       "      <th>2022-06-09</th>\n",
       "      <td>435.12</td>\n",
       "      <td>162.10</td>\n",
       "      <td>351.29</td>\n",
       "      <td>20</td>\n",
       "      <td>30</td>\n",
       "      <td>50</td>\n",
       "    </tr>\n",
       "    <tr>\n",
       "      <th>2022-06-10</th>\n",
       "      <td>423.13</td>\n",
       "      <td>161.28</td>\n",
       "      <td>342.24</td>\n",
       "      <td>20</td>\n",
       "      <td>30</td>\n",
       "      <td>50</td>\n",
       "    </tr>\n",
       "    <tr>\n",
       "      <th>2022-06-13</th>\n",
       "      <td>404.60</td>\n",
       "      <td>158.62</td>\n",
       "      <td>330.94</td>\n",
       "      <td>20</td>\n",
       "      <td>30</td>\n",
       "      <td>50</td>\n",
       "    </tr>\n",
       "  </tbody>\n",
       "</table>\n",
       "<p>1017 rows × 6 columns</p>\n",
       "</div>"
      ],
      "text/plain": [
       "            lu0340554673  lu0474966677  lu0386875149  p1  p2  p3\n",
       "index                                                           \n",
       "2018-01-04        330.60        143.93        246.40  20  30  50\n",
       "2018-01-05        335.11        144.46        248.83  20  30  50\n",
       "2018-01-09        338.47        147.21        251.80  20  30  50\n",
       "2018-01-10        335.02        148.57        249.46  20  30  50\n",
       "2018-01-11        334.65        148.47        249.42  20  30  50\n",
       "...                  ...           ...           ...  ..  ..  ..\n",
       "2022-06-07        428.18        161.76        351.37  20  30  50\n",
       "2022-06-08        437.47        161.89        354.28  20  30  50\n",
       "2022-06-09        435.12        162.10        351.29  20  30  50\n",
       "2022-06-10        423.13        161.28        342.24  20  30  50\n",
       "2022-06-13        404.60        158.62        330.94  20  30  50\n",
       "\n",
       "[1017 rows x 6 columns]"
      ]
     },
     "execution_count": 40,
     "metadata": {},
     "output_type": "execute_result"
    }
   ],
   "source": [
    "prices"
   ]
  },
  {
   "cell_type": "code",
   "execution_count": 41,
   "metadata": {},
   "outputs": [
    {
     "data": {
      "text/plain": [
       "19.707304226782792"
      ]
     },
     "execution_count": 41,
     "metadata": {},
     "output_type": "execute_result"
    }
   ],
   "source": [
    "523.83/531.61*20"
   ]
  },
  {
   "cell_type": "code",
   "execution_count": 42,
   "metadata": {},
   "outputs": [
    {
     "data": {
      "text/html": [
       "<div>\n",
       "<style scoped>\n",
       "    .dataframe tbody tr th:only-of-type {\n",
       "        vertical-align: middle;\n",
       "    }\n",
       "\n",
       "    .dataframe tbody tr th {\n",
       "        vertical-align: top;\n",
       "    }\n",
       "\n",
       "    .dataframe thead th {\n",
       "        text-align: right;\n",
       "    }\n",
       "</style>\n",
       "<table border=\"1\" class=\"dataframe\">\n",
       "  <thead>\n",
       "    <tr style=\"text-align: right;\">\n",
       "      <th></th>\n",
       "      <th>lu0340554673</th>\n",
       "      <th>lu0474966677</th>\n",
       "      <th>lu0386875149</th>\n",
       "      <th>p1</th>\n",
       "      <th>p2</th>\n",
       "      <th>p3</th>\n",
       "    </tr>\n",
       "    <tr>\n",
       "      <th>index</th>\n",
       "      <th></th>\n",
       "      <th></th>\n",
       "      <th></th>\n",
       "      <th></th>\n",
       "      <th></th>\n",
       "      <th></th>\n",
       "    </tr>\n",
       "  </thead>\n",
       "  <tbody>\n",
       "    <tr>\n",
       "      <th>2018-01-04</th>\n",
       "      <td>NaN</td>\n",
       "      <td>NaN</td>\n",
       "      <td>NaN</td>\n",
       "      <td>20.0</td>\n",
       "      <td>30.0</td>\n",
       "      <td>50.0</td>\n",
       "    </tr>\n",
       "    <tr>\n",
       "      <th>2018-01-05</th>\n",
       "      <td>1.013642</td>\n",
       "      <td>1.003682</td>\n",
       "      <td>1.009862</td>\n",
       "      <td>NaN</td>\n",
       "      <td>NaN</td>\n",
       "      <td>NaN</td>\n",
       "    </tr>\n",
       "    <tr>\n",
       "      <th>2018-01-09</th>\n",
       "      <td>1.010027</td>\n",
       "      <td>1.019036</td>\n",
       "      <td>1.011936</td>\n",
       "      <td>NaN</td>\n",
       "      <td>NaN</td>\n",
       "      <td>NaN</td>\n",
       "    </tr>\n",
       "    <tr>\n",
       "      <th>2018-01-10</th>\n",
       "      <td>0.989807</td>\n",
       "      <td>1.009239</td>\n",
       "      <td>0.990707</td>\n",
       "      <td>NaN</td>\n",
       "      <td>NaN</td>\n",
       "      <td>NaN</td>\n",
       "    </tr>\n",
       "    <tr>\n",
       "      <th>2018-01-11</th>\n",
       "      <td>0.998896</td>\n",
       "      <td>0.999327</td>\n",
       "      <td>0.999840</td>\n",
       "      <td>NaN</td>\n",
       "      <td>NaN</td>\n",
       "      <td>NaN</td>\n",
       "    </tr>\n",
       "    <tr>\n",
       "      <th>...</th>\n",
       "      <td>...</td>\n",
       "      <td>...</td>\n",
       "      <td>...</td>\n",
       "      <td>...</td>\n",
       "      <td>...</td>\n",
       "      <td>...</td>\n",
       "    </tr>\n",
       "    <tr>\n",
       "      <th>2022-06-07</th>\n",
       "      <td>0.999673</td>\n",
       "      <td>0.993307</td>\n",
       "      <td>0.997983</td>\n",
       "      <td>NaN</td>\n",
       "      <td>NaN</td>\n",
       "      <td>NaN</td>\n",
       "    </tr>\n",
       "    <tr>\n",
       "      <th>2022-06-08</th>\n",
       "      <td>1.021696</td>\n",
       "      <td>1.000804</td>\n",
       "      <td>1.008282</td>\n",
       "      <td>NaN</td>\n",
       "      <td>NaN</td>\n",
       "      <td>NaN</td>\n",
       "    </tr>\n",
       "    <tr>\n",
       "      <th>2022-06-09</th>\n",
       "      <td>0.994628</td>\n",
       "      <td>1.001297</td>\n",
       "      <td>0.991560</td>\n",
       "      <td>NaN</td>\n",
       "      <td>NaN</td>\n",
       "      <td>NaN</td>\n",
       "    </tr>\n",
       "    <tr>\n",
       "      <th>2022-06-10</th>\n",
       "      <td>0.972444</td>\n",
       "      <td>0.994941</td>\n",
       "      <td>0.974238</td>\n",
       "      <td>NaN</td>\n",
       "      <td>NaN</td>\n",
       "      <td>NaN</td>\n",
       "    </tr>\n",
       "    <tr>\n",
       "      <th>2022-06-13</th>\n",
       "      <td>0.956207</td>\n",
       "      <td>0.983507</td>\n",
       "      <td>0.966982</td>\n",
       "      <td>NaN</td>\n",
       "      <td>NaN</td>\n",
       "      <td>NaN</td>\n",
       "    </tr>\n",
       "  </tbody>\n",
       "</table>\n",
       "<p>1017 rows × 6 columns</p>\n",
       "</div>"
      ],
      "text/plain": [
       "            lu0340554673  lu0474966677  lu0386875149    p1    p2    p3\n",
       "index                                                                 \n",
       "2018-01-04           NaN           NaN           NaN  20.0  30.0  50.0\n",
       "2018-01-05      1.013642      1.003682      1.009862   NaN   NaN   NaN\n",
       "2018-01-09      1.010027      1.019036      1.011936   NaN   NaN   NaN\n",
       "2018-01-10      0.989807      1.009239      0.990707   NaN   NaN   NaN\n",
       "2018-01-11      0.998896      0.999327      0.999840   NaN   NaN   NaN\n",
       "...                  ...           ...           ...   ...   ...   ...\n",
       "2022-06-07      0.999673      0.993307      0.997983   NaN   NaN   NaN\n",
       "2022-06-08      1.021696      1.000804      1.008282   NaN   NaN   NaN\n",
       "2022-06-09      0.994628      1.001297      0.991560   NaN   NaN   NaN\n",
       "2022-06-10      0.972444      0.994941      0.974238   NaN   NaN   NaN\n",
       "2022-06-13      0.956207      0.983507      0.966982   NaN   NaN   NaN\n",
       "\n",
       "[1017 rows x 6 columns]"
      ]
     },
     "execution_count": 42,
     "metadata": {},
     "output_type": "execute_result"
    }
   ],
   "source": [
    "returns_1 = returns + 1\n",
    "returns_1.loc['2018-01-04','p1']=20\n",
    "returns_1.loc['2018-01-04','p2']=30\n",
    "returns_1.loc['2018-01-04','p3']=50\n",
    "returns_1"
   ]
  },
  {
   "cell_type": "code",
   "execution_count": 43,
   "metadata": {},
   "outputs": [],
   "source": [
    "for i in range(1,1017):\n",
    "    returns_1.iloc[i,3] = returns_1.iloc[i-1,3] * returns_1.iloc[i,0]\n",
    "    returns_1.iloc[i,4] = returns_1.iloc[i-1,4] * returns_1.iloc[i,1]\n",
    "    returns_1.iloc[i,5] = returns_1.iloc[i-1,5] * returns_1.iloc[i,2]\n",
    "    "
   ]
  },
  {
   "cell_type": "code",
   "execution_count": 44,
   "metadata": {},
   "outputs": [],
   "source": [
    "returns_1['p']=returns_1['p1']+returns_1['p3']+returns_1['p2']"
   ]
  },
  {
   "cell_type": "code",
   "execution_count": 45,
   "metadata": {},
   "outputs": [
    {
     "data": {
      "text/html": [
       "<div>\n",
       "<style scoped>\n",
       "    .dataframe tbody tr th:only-of-type {\n",
       "        vertical-align: middle;\n",
       "    }\n",
       "\n",
       "    .dataframe tbody tr th {\n",
       "        vertical-align: top;\n",
       "    }\n",
       "\n",
       "    .dataframe thead th {\n",
       "        text-align: right;\n",
       "    }\n",
       "</style>\n",
       "<table border=\"1\" class=\"dataframe\">\n",
       "  <thead>\n",
       "    <tr style=\"text-align: right;\">\n",
       "      <th></th>\n",
       "      <th>lu0340554673</th>\n",
       "      <th>lu0474966677</th>\n",
       "      <th>lu0386875149</th>\n",
       "      <th>p1</th>\n",
       "      <th>p2</th>\n",
       "      <th>p3</th>\n",
       "      <th>p</th>\n",
       "    </tr>\n",
       "    <tr>\n",
       "      <th>index</th>\n",
       "      <th></th>\n",
       "      <th></th>\n",
       "      <th></th>\n",
       "      <th></th>\n",
       "      <th></th>\n",
       "      <th></th>\n",
       "      <th></th>\n",
       "    </tr>\n",
       "  </thead>\n",
       "  <tbody>\n",
       "    <tr>\n",
       "      <th>2018-01-04</th>\n",
       "      <td>NaN</td>\n",
       "      <td>NaN</td>\n",
       "      <td>NaN</td>\n",
       "      <td>20.000000</td>\n",
       "      <td>30.000000</td>\n",
       "      <td>50.000000</td>\n",
       "      <td>100.000000</td>\n",
       "    </tr>\n",
       "    <tr>\n",
       "      <th>2018-01-05</th>\n",
       "      <td>1.013642</td>\n",
       "      <td>1.003682</td>\n",
       "      <td>1.009862</td>\n",
       "      <td>20.272837</td>\n",
       "      <td>30.110470</td>\n",
       "      <td>50.493101</td>\n",
       "      <td>100.876408</td>\n",
       "    </tr>\n",
       "    <tr>\n",
       "      <th>2018-01-09</th>\n",
       "      <td>1.010027</td>\n",
       "      <td>1.019036</td>\n",
       "      <td>1.011936</td>\n",
       "      <td>20.476104</td>\n",
       "      <td>30.683666</td>\n",
       "      <td>51.095779</td>\n",
       "      <td>102.255549</td>\n",
       "    </tr>\n",
       "    <tr>\n",
       "      <th>2018-01-10</th>\n",
       "      <td>0.989807</td>\n",
       "      <td>1.009239</td>\n",
       "      <td>0.990707</td>\n",
       "      <td>20.267393</td>\n",
       "      <td>30.967137</td>\n",
       "      <td>50.620942</td>\n",
       "      <td>101.855471</td>\n",
       "    </tr>\n",
       "    <tr>\n",
       "      <th>2018-01-11</th>\n",
       "      <td>0.998896</td>\n",
       "      <td>0.999327</td>\n",
       "      <td>0.999840</td>\n",
       "      <td>20.245009</td>\n",
       "      <td>30.946293</td>\n",
       "      <td>50.612825</td>\n",
       "      <td>101.804127</td>\n",
       "    </tr>\n",
       "    <tr>\n",
       "      <th>...</th>\n",
       "      <td>...</td>\n",
       "      <td>...</td>\n",
       "      <td>...</td>\n",
       "      <td>...</td>\n",
       "      <td>...</td>\n",
       "      <td>...</td>\n",
       "      <td>...</td>\n",
       "    </tr>\n",
       "    <tr>\n",
       "      <th>2022-06-07</th>\n",
       "      <td>0.999673</td>\n",
       "      <td>0.993307</td>\n",
       "      <td>0.997983</td>\n",
       "      <td>25.903206</td>\n",
       "      <td>33.716390</td>\n",
       "      <td>71.300731</td>\n",
       "      <td>130.920327</td>\n",
       "    </tr>\n",
       "    <tr>\n",
       "      <th>2022-06-08</th>\n",
       "      <td>1.021696</td>\n",
       "      <td>1.000804</td>\n",
       "      <td>1.008282</td>\n",
       "      <td>26.465215</td>\n",
       "      <td>33.743486</td>\n",
       "      <td>71.891234</td>\n",
       "      <td>132.099935</td>\n",
       "    </tr>\n",
       "    <tr>\n",
       "      <th>2022-06-09</th>\n",
       "      <td>0.994628</td>\n",
       "      <td>1.001297</td>\n",
       "      <td>0.991560</td>\n",
       "      <td>26.323049</td>\n",
       "      <td>33.787258</td>\n",
       "      <td>71.284497</td>\n",
       "      <td>131.394803</td>\n",
       "    </tr>\n",
       "    <tr>\n",
       "      <th>2022-06-10</th>\n",
       "      <td>0.972444</td>\n",
       "      <td>0.994941</td>\n",
       "      <td>0.974238</td>\n",
       "      <td>25.597701</td>\n",
       "      <td>33.616341</td>\n",
       "      <td>69.448052</td>\n",
       "      <td>128.662094</td>\n",
       "    </tr>\n",
       "    <tr>\n",
       "      <th>2022-06-13</th>\n",
       "      <td>0.956207</td>\n",
       "      <td>0.983507</td>\n",
       "      <td>0.966982</td>\n",
       "      <td>24.476709</td>\n",
       "      <td>33.061905</td>\n",
       "      <td>67.155032</td>\n",
       "      <td>124.693647</td>\n",
       "    </tr>\n",
       "  </tbody>\n",
       "</table>\n",
       "<p>1017 rows × 7 columns</p>\n",
       "</div>"
      ],
      "text/plain": [
       "            lu0340554673  lu0474966677  lu0386875149         p1         p2  \\\n",
       "index                                                                        \n",
       "2018-01-04           NaN           NaN           NaN  20.000000  30.000000   \n",
       "2018-01-05      1.013642      1.003682      1.009862  20.272837  30.110470   \n",
       "2018-01-09      1.010027      1.019036      1.011936  20.476104  30.683666   \n",
       "2018-01-10      0.989807      1.009239      0.990707  20.267393  30.967137   \n",
       "2018-01-11      0.998896      0.999327      0.999840  20.245009  30.946293   \n",
       "...                  ...           ...           ...        ...        ...   \n",
       "2022-06-07      0.999673      0.993307      0.997983  25.903206  33.716390   \n",
       "2022-06-08      1.021696      1.000804      1.008282  26.465215  33.743486   \n",
       "2022-06-09      0.994628      1.001297      0.991560  26.323049  33.787258   \n",
       "2022-06-10      0.972444      0.994941      0.974238  25.597701  33.616341   \n",
       "2022-06-13      0.956207      0.983507      0.966982  24.476709  33.061905   \n",
       "\n",
       "                   p3           p  \n",
       "index                              \n",
       "2018-01-04  50.000000  100.000000  \n",
       "2018-01-05  50.493101  100.876408  \n",
       "2018-01-09  51.095779  102.255549  \n",
       "2018-01-10  50.620942  101.855471  \n",
       "2018-01-11  50.612825  101.804127  \n",
       "...               ...         ...  \n",
       "2022-06-07  71.300731  130.920327  \n",
       "2022-06-08  71.891234  132.099935  \n",
       "2022-06-09  71.284497  131.394803  \n",
       "2022-06-10  69.448052  128.662094  \n",
       "2022-06-13  67.155032  124.693647  \n",
       "\n",
       "[1017 rows x 7 columns]"
      ]
     },
     "execution_count": 45,
     "metadata": {},
     "output_type": "execute_result"
    }
   ],
   "source": [
    "returns_1"
   ]
  },
  {
   "cell_type": "code",
   "execution_count": 46,
   "metadata": {},
   "outputs": [],
   "source": [
    "portfolio = returns_1['p']\n",
    "pd.DataFrame(portfolio).to_csv('portfolios/ptf1a.csv')"
   ]
  },
  {
   "cell_type": "code",
   "execution_count": 47,
   "metadata": {},
   "outputs": [
    {
     "data": {
      "text/html": [
       "<div>\n",
       "<style scoped>\n",
       "    .dataframe tbody tr th:only-of-type {\n",
       "        vertical-align: middle;\n",
       "    }\n",
       "\n",
       "    .dataframe tbody tr th {\n",
       "        vertical-align: top;\n",
       "    }\n",
       "\n",
       "    .dataframe thead th {\n",
       "        text-align: right;\n",
       "    }\n",
       "</style>\n",
       "<table border=\"1\" class=\"dataframe\">\n",
       "  <thead>\n",
       "    <tr style=\"text-align: right;\">\n",
       "      <th></th>\n",
       "      <th>p</th>\n",
       "    </tr>\n",
       "    <tr>\n",
       "      <th>index</th>\n",
       "      <th></th>\n",
       "    </tr>\n",
       "  </thead>\n",
       "  <tbody>\n",
       "    <tr>\n",
       "      <th>2018-01-04</th>\n",
       "      <td>100.000000</td>\n",
       "    </tr>\n",
       "    <tr>\n",
       "      <th>2018-01-05</th>\n",
       "      <td>100.876408</td>\n",
       "    </tr>\n",
       "    <tr>\n",
       "      <th>2018-01-09</th>\n",
       "      <td>102.255549</td>\n",
       "    </tr>\n",
       "    <tr>\n",
       "      <th>2018-01-10</th>\n",
       "      <td>101.855471</td>\n",
       "    </tr>\n",
       "    <tr>\n",
       "      <th>2018-01-11</th>\n",
       "      <td>101.804127</td>\n",
       "    </tr>\n",
       "    <tr>\n",
       "      <th>...</th>\n",
       "      <td>...</td>\n",
       "    </tr>\n",
       "    <tr>\n",
       "      <th>2022-06-07</th>\n",
       "      <td>130.920327</td>\n",
       "    </tr>\n",
       "    <tr>\n",
       "      <th>2022-06-08</th>\n",
       "      <td>132.099935</td>\n",
       "    </tr>\n",
       "    <tr>\n",
       "      <th>2022-06-09</th>\n",
       "      <td>131.394803</td>\n",
       "    </tr>\n",
       "    <tr>\n",
       "      <th>2022-06-10</th>\n",
       "      <td>128.662094</td>\n",
       "    </tr>\n",
       "    <tr>\n",
       "      <th>2022-06-13</th>\n",
       "      <td>124.693647</td>\n",
       "    </tr>\n",
       "  </tbody>\n",
       "</table>\n",
       "<p>1017 rows × 1 columns</p>\n",
       "</div>"
      ],
      "text/plain": [
       "                     p\n",
       "index                 \n",
       "2018-01-04  100.000000\n",
       "2018-01-05  100.876408\n",
       "2018-01-09  102.255549\n",
       "2018-01-10  101.855471\n",
       "2018-01-11  101.804127\n",
       "...                ...\n",
       "2022-06-07  130.920327\n",
       "2022-06-08  132.099935\n",
       "2022-06-09  131.394803\n",
       "2022-06-10  128.662094\n",
       "2022-06-13  124.693647\n",
       "\n",
       "[1017 rows x 1 columns]"
      ]
     },
     "execution_count": 47,
     "metadata": {},
     "output_type": "execute_result"
    }
   ],
   "source": [
    "isins = ['p']\n",
    "filename = 'portfolios/ptf1a.csv'\n",
    "ptf_prices = ffn.get(f'{isins[0]}', provider=ffn.data.csv, path=filename)\n",
    "ptf_prices\n"
   ]
  },
  {
   "cell_type": "code",
   "execution_count": 48,
   "metadata": {},
   "outputs": [],
   "source": [
    "ptf_stats = ptf_prices.calc_stats()"
   ]
  },
  {
   "cell_type": "code",
   "execution_count": 49,
   "metadata": {},
   "outputs": [
    {
     "name": "stdout",
     "output_type": "stream",
     "text": [
      "Stat                 p\n",
      "-------------------  ----------\n",
      "Start                2018-01-04\n",
      "End                  2022-06-13\n",
      "Risk-free rate       0.00%\n",
      "\n",
      "Total Return         24.69%\n",
      "Daily Sharpe         0.43\n",
      "Daily Sortino        0.66\n",
      "CAGR                 5.10%\n",
      "Max Drawdown         -29.05%\n",
      "Calmar Ratio         0.18\n",
      "\n",
      "MTD                  -4.64%\n",
      "3m                   -6.42%\n",
      "6m                   -18.34%\n",
      "YTD                  -19.06%\n",
      "1Y                   -14.21%\n",
      "3Y (ann.)            5.57%\n",
      "5Y (ann.)            5.10%\n",
      "10Y (ann.)           -\n",
      "Since Incep. (ann.)  5.10%\n",
      "\n",
      "Daily Sharpe         0.43\n",
      "Daily Sortino        0.66\n",
      "Daily Mean (ann.)    6.73%\n",
      "Daily Vol (ann.)     15.82%\n",
      "Daily Skew           -0.45\n",
      "Daily Kurt           3.64\n",
      "Best Day             4.85%\n",
      "Worst Day            -5.53%\n",
      "\n",
      "Monthly Sharpe       0.42\n",
      "Monthly Sortino      0.68\n",
      "Monthly Mean (ann.)  6.01%\n",
      "Monthly Vol (ann.)   14.34%\n",
      "Monthly Skew         -0.34\n",
      "Monthly Kurt         0.79\n",
      "Best Month           11.23%\n",
      "Worst Month          -9.35%\n",
      "\n",
      "Yearly Sharpe        0.47\n",
      "Yearly Sortino       0.98\n",
      "Yearly Mean          9.36%\n",
      "Yearly Vol           20.11%\n",
      "Yearly Skew          -1.30\n",
      "Yearly Kurt          2.47\n",
      "Best Year            28.38%\n",
      "Worst Year           -19.06%\n",
      "\n",
      "Avg. Drawdown        -2.76%\n",
      "Avg. Drawdown Days   28.24\n",
      "Avg. Up Month        2.95%\n",
      "Avg. Down Month      -3.54%\n",
      "Win Year %           75.00%\n",
      "Win 12m %            83.72%\n"
     ]
    }
   ],
   "source": [
    "ffn.core.GroupStats(ptf_prices).display()"
   ]
  },
  {
   "cell_type": "code",
   "execution_count": 50,
   "metadata": {},
   "outputs": [
    {
     "data": {
      "application/javascript": "\n        if (window._pyforest_update_imports_cell) { window._pyforest_update_imports_cell('import matplotlib.pyplot as plt'); }\n    ",
      "text/plain": [
       "<IPython.core.display.Javascript object>"
      ]
     },
     "metadata": {},
     "output_type": "display_data"
    },
    {
     "data": {
      "image/png": "[encoded data removed]",
      "text/plain": [
       "<Figure size 432x288 with 1 Axes>"
      ]
     },
     "metadata": {
      "needs_background": "light"
     },
     "output_type": "display_data"
    }
   ],
   "source": [
    "sns.lineplot(data=ptf_prices)\n",
    "plt.show()"
   ]
  },
  {
   "cell_type": "code",
   "execution_count": 51,
   "metadata": {},
   "outputs": [
    {
     "data": {
      "text/html": [
       "<div>\n",
       "<style scoped>\n",
       "    .dataframe tbody tr th:only-of-type {\n",
       "        vertical-align: middle;\n",
       "    }\n",
       "\n",
       "    .dataframe tbody tr th {\n",
       "        vertical-align: top;\n",
       "    }\n",
       "\n",
       "    .dataframe thead th {\n",
       "        text-align: right;\n",
       "    }\n",
       "</style>\n",
       "<table border=\"1\" class=\"dataframe\">\n",
       "  <thead>\n",
       "    <tr style=\"text-align: right;\">\n",
       "      <th></th>\n",
       "      <th>index</th>\n",
       "      <th>p</th>\n",
       "    </tr>\n",
       "  </thead>\n",
       "  <tbody>\n",
       "    <tr>\n",
       "      <th>0</th>\n",
       "      <td>2018-01-04</td>\n",
       "      <td>100.000000</td>\n",
       "    </tr>\n",
       "    <tr>\n",
       "      <th>1</th>\n",
       "      <td>2018-01-05</td>\n",
       "      <td>100.876408</td>\n",
       "    </tr>\n",
       "    <tr>\n",
       "      <th>2</th>\n",
       "      <td>2018-01-09</td>\n",
       "      <td>102.255549</td>\n",
       "    </tr>\n",
       "    <tr>\n",
       "      <th>3</th>\n",
       "      <td>2018-01-10</td>\n",
       "      <td>101.855471</td>\n",
       "    </tr>\n",
       "    <tr>\n",
       "      <th>4</th>\n",
       "      <td>2018-01-11</td>\n",
       "      <td>101.804127</td>\n",
       "    </tr>\n",
       "    <tr>\n",
       "      <th>...</th>\n",
       "      <td>...</td>\n",
       "      <td>...</td>\n",
       "    </tr>\n",
       "    <tr>\n",
       "      <th>1012</th>\n",
       "      <td>2022-06-07</td>\n",
       "      <td>130.920327</td>\n",
       "    </tr>\n",
       "    <tr>\n",
       "      <th>1013</th>\n",
       "      <td>2022-06-08</td>\n",
       "      <td>132.099935</td>\n",
       "    </tr>\n",
       "    <tr>\n",
       "      <th>1014</th>\n",
       "      <td>2022-06-09</td>\n",
       "      <td>131.394803</td>\n",
       "    </tr>\n",
       "    <tr>\n",
       "      <th>1015</th>\n",
       "      <td>2022-06-10</td>\n",
       "      <td>128.662094</td>\n",
       "    </tr>\n",
       "    <tr>\n",
       "      <th>1016</th>\n",
       "      <td>2022-06-13</td>\n",
       "      <td>124.693647</td>\n",
       "    </tr>\n",
       "  </tbody>\n",
       "</table>\n",
       "<p>1017 rows × 2 columns</p>\n",
       "</div>"
      ],
      "text/plain": [
       "          index           p\n",
       "0    2018-01-04  100.000000\n",
       "1    2018-01-05  100.876408\n",
       "2    2018-01-09  102.255549\n",
       "3    2018-01-10  101.855471\n",
       "4    2018-01-11  101.804127\n",
       "...         ...         ...\n",
       "1012 2022-06-07  130.920327\n",
       "1013 2022-06-08  132.099935\n",
       "1014 2022-06-09  131.394803\n",
       "1015 2022-06-10  128.662094\n",
       "1016 2022-06-13  124.693647\n",
       "\n",
       "[1017 rows x 2 columns]"
      ]
     },
     "execution_count": 51,
     "metadata": {},
     "output_type": "execute_result"
    }
   ],
   "source": [
    "data = ptf_prices.reset_index().copy()\n",
    "data"
   ]
  },
  {
   "cell_type": "code",
   "execution_count": 52,
   "metadata": {},
   "outputs": [],
   "source": [
    "data['month'] = [i.month for i in data['index']]\n",
    "data['year'] = [i.year for i in data['index']]\n",
    "data['day_of_week'] = [i.dayofweek for i in data['index']]\n",
    "data['day_of_year'] = [i.dayofyear for i in data['index']]\n"
   ]
  },
  {
   "cell_type": "code",
   "execution_count": 53,
   "metadata": {},
   "outputs": [
    {
     "data": {
      "text/html": [
       "<div>\n",
       "<style scoped>\n",
       "    .dataframe tbody tr th:only-of-type {\n",
       "        vertical-align: middle;\n",
       "    }\n",
       "\n",
       "    .dataframe tbody tr th {\n",
       "        vertical-align: top;\n",
       "    }\n",
       "\n",
       "    .dataframe thead th {\n",
       "        text-align: right;\n",
       "    }\n",
       "</style>\n",
       "<table border=\"1\" class=\"dataframe\">\n",
       "  <thead>\n",
       "    <tr style=\"text-align: right;\">\n",
       "      <th></th>\n",
       "      <th>index</th>\n",
       "      <th>p</th>\n",
       "      <th>month</th>\n",
       "      <th>year</th>\n",
       "      <th>day_of_week</th>\n",
       "      <th>day_of_year</th>\n",
       "    </tr>\n",
       "  </thead>\n",
       "  <tbody>\n",
       "    <tr>\n",
       "      <th>0</th>\n",
       "      <td>2018-01-04</td>\n",
       "      <td>100.000000</td>\n",
       "      <td>1</td>\n",
       "      <td>2018</td>\n",
       "      <td>3</td>\n",
       "      <td>4</td>\n",
       "    </tr>\n",
       "    <tr>\n",
       "      <th>1</th>\n",
       "      <td>2018-01-05</td>\n",
       "      <td>100.876408</td>\n",
       "      <td>1</td>\n",
       "      <td>2018</td>\n",
       "      <td>4</td>\n",
       "      <td>5</td>\n",
       "    </tr>\n",
       "    <tr>\n",
       "      <th>2</th>\n",
       "      <td>2018-01-09</td>\n",
       "      <td>102.255549</td>\n",
       "      <td>1</td>\n",
       "      <td>2018</td>\n",
       "      <td>1</td>\n",
       "      <td>9</td>\n",
       "    </tr>\n",
       "    <tr>\n",
       "      <th>3</th>\n",
       "      <td>2018-01-10</td>\n",
       "      <td>101.855471</td>\n",
       "      <td>1</td>\n",
       "      <td>2018</td>\n",
       "      <td>2</td>\n",
       "      <td>10</td>\n",
       "    </tr>\n",
       "    <tr>\n",
       "      <th>4</th>\n",
       "      <td>2018-01-11</td>\n",
       "      <td>101.804127</td>\n",
       "      <td>1</td>\n",
       "      <td>2018</td>\n",
       "      <td>3</td>\n",
       "      <td>11</td>\n",
       "    </tr>\n",
       "    <tr>\n",
       "      <th>...</th>\n",
       "      <td>...</td>\n",
       "      <td>...</td>\n",
       "      <td>...</td>\n",
       "      <td>...</td>\n",
       "      <td>...</td>\n",
       "      <td>...</td>\n",
       "    </tr>\n",
       "    <tr>\n",
       "      <th>1012</th>\n",
       "      <td>2022-06-07</td>\n",
       "      <td>130.920327</td>\n",
       "      <td>6</td>\n",
       "      <td>2022</td>\n",
       "      <td>1</td>\n",
       "      <td>158</td>\n",
       "    </tr>\n",
       "    <tr>\n",
       "      <th>1013</th>\n",
       "      <td>2022-06-08</td>\n",
       "      <td>132.099935</td>\n",
       "      <td>6</td>\n",
       "      <td>2022</td>\n",
       "      <td>2</td>\n",
       "      <td>159</td>\n",
       "    </tr>\n",
       "    <tr>\n",
       "      <th>1014</th>\n",
       "      <td>2022-06-09</td>\n",
       "      <td>131.394803</td>\n",
       "      <td>6</td>\n",
       "      <td>2022</td>\n",
       "      <td>3</td>\n",
       "      <td>160</td>\n",
       "    </tr>\n",
       "    <tr>\n",
       "      <th>1015</th>\n",
       "      <td>2022-06-10</td>\n",
       "      <td>128.662094</td>\n",
       "      <td>6</td>\n",
       "      <td>2022</td>\n",
       "      <td>4</td>\n",
       "      <td>161</td>\n",
       "    </tr>\n",
       "    <tr>\n",
       "      <th>1016</th>\n",
       "      <td>2022-06-13</td>\n",
       "      <td>124.693647</td>\n",
       "      <td>6</td>\n",
       "      <td>2022</td>\n",
       "      <td>0</td>\n",
       "      <td>164</td>\n",
       "    </tr>\n",
       "  </tbody>\n",
       "</table>\n",
       "<p>1017 rows × 6 columns</p>\n",
       "</div>"
      ],
      "text/plain": [
       "          index           p  month  year  day_of_week  day_of_year\n",
       "0    2018-01-04  100.000000      1  2018            3            4\n",
       "1    2018-01-05  100.876408      1  2018            4            5\n",
       "2    2018-01-09  102.255549      1  2018            1            9\n",
       "3    2018-01-10  101.855471      1  2018            2           10\n",
       "4    2018-01-11  101.804127      1  2018            3           11\n",
       "...         ...         ...    ...   ...          ...          ...\n",
       "1012 2022-06-07  130.920327      6  2022            1          158\n",
       "1013 2022-06-08  132.099935      6  2022            2          159\n",
       "1014 2022-06-09  131.394803      6  2022            3          160\n",
       "1015 2022-06-10  128.662094      6  2022            4          161\n",
       "1016 2022-06-13  124.693647      6  2022            0          164\n",
       "\n",
       "[1017 rows x 6 columns]"
      ]
     },
     "execution_count": 53,
     "metadata": {},
     "output_type": "execute_result"
    }
   ],
   "source": [
    "data"
   ]
  },
  {
   "cell_type": "code",
   "execution_count": 54,
   "metadata": {},
   "outputs": [
    {
     "data": {
      "text/plain": [
       "2021    233\n",
       "2018    230\n",
       "2020    229\n",
       "2019    226\n",
       "2022     99\n",
       "Name: year, dtype: int64"
      ]
     },
     "execution_count": 54,
     "metadata": {},
     "output_type": "execute_result"
    }
   ],
   "source": [
    "data.year.value_counts()"
   ]
  },
  {
   "cell_type": "code",
   "execution_count": 55,
   "metadata": {},
   "outputs": [],
   "source": [
    "train = data[data['year'] < 2021]\n",
    "test = data[data['year'] >= 2021]"
   ]
  },
  {
   "cell_type": "code",
   "execution_count": 56,
   "metadata": {},
   "outputs": [],
   "source": [
    "#pip install pycaret "
   ]
  },
  {
   "cell_type": "code",
   "execution_count": 57,
   "metadata": {},
   "outputs": [
    {
     "data": {
      "text/html": [
       "<div>\n",
       "<style scoped>\n",
       "    .dataframe tbody tr th:only-of-type {\n",
       "        vertical-align: middle;\n",
       "    }\n",
       "\n",
       "    .dataframe tbody tr th {\n",
       "        vertical-align: top;\n",
       "    }\n",
       "\n",
       "    .dataframe thead th {\n",
       "        text-align: right;\n",
       "    }\n",
       "</style>\n",
       "<table border=\"1\" class=\"dataframe\">\n",
       "  <thead>\n",
       "    <tr style=\"text-align: right;\">\n",
       "      <th></th>\n",
       "      <th>p</th>\n",
       "    </tr>\n",
       "    <tr>\n",
       "      <th>index</th>\n",
       "      <th></th>\n",
       "    </tr>\n",
       "  </thead>\n",
       "  <tbody>\n",
       "    <tr>\n",
       "      <th>2018-01-04</th>\n",
       "      <td>100.000000</td>\n",
       "    </tr>\n",
       "    <tr>\n",
       "      <th>2018-01-05</th>\n",
       "      <td>100.876408</td>\n",
       "    </tr>\n",
       "    <tr>\n",
       "      <th>2018-01-09</th>\n",
       "      <td>102.255549</td>\n",
       "    </tr>\n",
       "    <tr>\n",
       "      <th>2018-01-10</th>\n",
       "      <td>101.855471</td>\n",
       "    </tr>\n",
       "    <tr>\n",
       "      <th>2018-01-11</th>\n",
       "      <td>101.804127</td>\n",
       "    </tr>\n",
       "    <tr>\n",
       "      <th>...</th>\n",
       "      <td>...</td>\n",
       "    </tr>\n",
       "    <tr>\n",
       "      <th>2022-06-07</th>\n",
       "      <td>130.920327</td>\n",
       "    </tr>\n",
       "    <tr>\n",
       "      <th>2022-06-08</th>\n",
       "      <td>132.099935</td>\n",
       "    </tr>\n",
       "    <tr>\n",
       "      <th>2022-06-09</th>\n",
       "      <td>131.394803</td>\n",
       "    </tr>\n",
       "    <tr>\n",
       "      <th>2022-06-10</th>\n",
       "      <td>128.662094</td>\n",
       "    </tr>\n",
       "    <tr>\n",
       "      <th>2022-06-13</th>\n",
       "      <td>124.693647</td>\n",
       "    </tr>\n",
       "  </tbody>\n",
       "</table>\n",
       "<p>1017 rows × 1 columns</p>\n",
       "</div>"
      ],
      "text/plain": [
       "                     p\n",
       "index                 \n",
       "2018-01-04  100.000000\n",
       "2018-01-05  100.876408\n",
       "2018-01-09  102.255549\n",
       "2018-01-10  101.855471\n",
       "2018-01-11  101.804127\n",
       "...                ...\n",
       "2022-06-07  130.920327\n",
       "2022-06-08  132.099935\n",
       "2022-06-09  131.394803\n",
       "2022-06-10  128.662094\n",
       "2022-06-13  124.693647\n",
       "\n",
       "[1017 rows x 1 columns]"
      ]
     },
     "execution_count": 57,
     "metadata": {},
     "output_type": "execute_result"
    }
   ],
   "source": [
    "ptf_prices"
   ]
  },
  {
   "cell_type": "code",
   "execution_count": 72,
   "metadata": {},
   "outputs": [
    {
     "data": {
      "text/html": [
       "<div>\n",
       "<style scoped>\n",
       "    .dataframe tbody tr th:only-of-type {\n",
       "        vertical-align: middle;\n",
       "    }\n",
       "\n",
       "    .dataframe tbody tr th {\n",
       "        vertical-align: top;\n",
       "    }\n",
       "\n",
       "    .dataframe thead th {\n",
       "        text-align: right;\n",
       "    }\n",
       "</style>\n",
       "<table border=\"1\" class=\"dataframe\">\n",
       "  <thead>\n",
       "    <tr style=\"text-align: right;\">\n",
       "      <th></th>\n",
       "      <th>p</th>\n",
       "    </tr>\n",
       "    <tr>\n",
       "      <th>index</th>\n",
       "      <th></th>\n",
       "    </tr>\n",
       "  </thead>\n",
       "  <tbody>\n",
       "    <tr>\n",
       "      <th>2018-01-04</th>\n",
       "      <td>100.000000</td>\n",
       "    </tr>\n",
       "    <tr>\n",
       "      <th>2018-01-05</th>\n",
       "      <td>100.876408</td>\n",
       "    </tr>\n",
       "    <tr>\n",
       "      <th>2018-01-06</th>\n",
       "      <td>102.255549</td>\n",
       "    </tr>\n",
       "    <tr>\n",
       "      <th>2018-01-07</th>\n",
       "      <td>102.255549</td>\n",
       "    </tr>\n",
       "    <tr>\n",
       "      <th>2018-01-08</th>\n",
       "      <td>102.255549</td>\n",
       "    </tr>\n",
       "    <tr>\n",
       "      <th>...</th>\n",
       "      <td>...</td>\n",
       "    </tr>\n",
       "    <tr>\n",
       "      <th>2022-06-09</th>\n",
       "      <td>131.394803</td>\n",
       "    </tr>\n",
       "    <tr>\n",
       "      <th>2022-06-10</th>\n",
       "      <td>128.662094</td>\n",
       "    </tr>\n",
       "    <tr>\n",
       "      <th>2022-06-11</th>\n",
       "      <td>124.693647</td>\n",
       "    </tr>\n",
       "    <tr>\n",
       "      <th>2022-06-12</th>\n",
       "      <td>124.693647</td>\n",
       "    </tr>\n",
       "    <tr>\n",
       "      <th>2022-06-13</th>\n",
       "      <td>124.693647</td>\n",
       "    </tr>\n",
       "  </tbody>\n",
       "</table>\n",
       "<p>1622 rows × 1 columns</p>\n",
       "</div>"
      ],
      "text/plain": [
       "                     p\n",
       "index                 \n",
       "2018-01-04  100.000000\n",
       "2018-01-05  100.876408\n",
       "2018-01-06  102.255549\n",
       "2018-01-07  102.255549\n",
       "2018-01-08  102.255549\n",
       "...                ...\n",
       "2022-06-09  131.394803\n",
       "2022-06-10  128.662094\n",
       "2022-06-11  124.693647\n",
       "2022-06-12  124.693647\n",
       "2022-06-13  124.693647\n",
       "\n",
       "[1622 rows x 1 columns]"
      ]
     },
     "execution_count": 72,
     "metadata": {},
     "output_type": "execute_result"
    }
   ],
   "source": [
    "data = ptf_prices.copy()\n",
    "\n",
    "# Fill gaps in a temporary index\n",
    "# ==============================================================================\n",
    "data.asfreq(freq='d', method='bfill')\n",
    "# Verify that a temporary index is complete\n"
   ]
  },
  {
   "cell_type": "code",
   "execution_count": 73,
   "metadata": {},
   "outputs": [
    {
     "name": "stdout",
     "output_type": "stream",
     "text": [
      "<Day>\n"
     ]
    }
   ],
   "source": [
    "data = data.asfreq('d')\n",
    "print(data.index.freq)"
   ]
  },
  {
   "cell_type": "code",
   "execution_count": 74,
   "metadata": {},
   "outputs": [
    {
     "data": {
      "text/plain": [
       "True"
      ]
     },
     "execution_count": 74,
     "metadata": {},
     "output_type": "execute_result"
    }
   ],
   "source": [
    "# ==============================================================================\n",
    "(data.index == pd.date_range(start=data.index.min(),\n",
    "                             end=data.index.max(),\n",
    "                             freq=data.index.freq)).all()"
   ]
  },
  {
   "cell_type": "code",
   "execution_count": 75,
   "metadata": {},
   "outputs": [
    {
     "name": "stdout",
     "output_type": "stream",
     "text": [
      "Number of rows with missing values: 0.0\n"
     ]
    }
   ],
   "source": [
    "data.fillna(method='bfill', inplace=True)\n",
    "print(f'Number of rows with missing values: {data.isnull().any(axis=1).mean()}')"
   ]
  },
  {
   "cell_type": "code",
   "execution_count": 78,
   "metadata": {},
   "outputs": [
    {
     "data": {
      "text/plain": [
       "(1622, 1)"
      ]
     },
     "execution_count": 78,
     "metadata": {},
     "output_type": "execute_result"
    }
   ],
   "source": [
    "data.shape"
   ]
  },
  {
   "cell_type": "code",
   "execution_count": 80,
   "metadata": {},
   "outputs": [
    {
     "data": {
      "text/plain": [
       "Index(['p'], dtype='object')"
      ]
     },
     "execution_count": 80,
     "metadata": {},
     "output_type": "execute_result"
    }
   ],
   "source": [
    "data.columns"
   ]
  },
  {
   "cell_type": "code",
   "execution_count": 81,
   "metadata": {},
   "outputs": [
    {
     "data": {
      "text/html": [
       "<div>\n",
       "<style scoped>\n",
       "    .dataframe tbody tr th:only-of-type {\n",
       "        vertical-align: middle;\n",
       "    }\n",
       "\n",
       "    .dataframe tbody tr th {\n",
       "        vertical-align: top;\n",
       "    }\n",
       "\n",
       "    .dataframe thead th {\n",
       "        text-align: right;\n",
       "    }\n",
       "</style>\n",
       "<table border=\"1\" class=\"dataframe\">\n",
       "  <thead>\n",
       "    <tr style=\"text-align: right;\">\n",
       "      <th></th>\n",
       "      <th>p</th>\n",
       "    </tr>\n",
       "    <tr>\n",
       "      <th>index</th>\n",
       "      <th></th>\n",
       "    </tr>\n",
       "  </thead>\n",
       "  <tbody>\n",
       "    <tr>\n",
       "      <th>2018-01-04</th>\n",
       "      <td>100.000000</td>\n",
       "    </tr>\n",
       "    <tr>\n",
       "      <th>2018-01-05</th>\n",
       "      <td>100.876408</td>\n",
       "    </tr>\n",
       "    <tr>\n",
       "      <th>2018-01-06</th>\n",
       "      <td>102.255549</td>\n",
       "    </tr>\n",
       "    <tr>\n",
       "      <th>2018-01-07</th>\n",
       "      <td>102.255549</td>\n",
       "    </tr>\n",
       "    <tr>\n",
       "      <th>2018-01-08</th>\n",
       "      <td>102.255549</td>\n",
       "    </tr>\n",
       "    <tr>\n",
       "      <th>...</th>\n",
       "      <td>...</td>\n",
       "    </tr>\n",
       "    <tr>\n",
       "      <th>2022-06-09</th>\n",
       "      <td>131.394803</td>\n",
       "    </tr>\n",
       "    <tr>\n",
       "      <th>2022-06-10</th>\n",
       "      <td>128.662094</td>\n",
       "    </tr>\n",
       "    <tr>\n",
       "      <th>2022-06-11</th>\n",
       "      <td>124.693647</td>\n",
       "    </tr>\n",
       "    <tr>\n",
       "      <th>2022-06-12</th>\n",
       "      <td>124.693647</td>\n",
       "    </tr>\n",
       "    <tr>\n",
       "      <th>2022-06-13</th>\n",
       "      <td>124.693647</td>\n",
       "    </tr>\n",
       "  </tbody>\n",
       "</table>\n",
       "<p>1622 rows × 1 columns</p>\n",
       "</div>"
      ],
      "text/plain": [
       "                     p\n",
       "index                 \n",
       "2018-01-04  100.000000\n",
       "2018-01-05  100.876408\n",
       "2018-01-06  102.255549\n",
       "2018-01-07  102.255549\n",
       "2018-01-08  102.255549\n",
       "...                ...\n",
       "2022-06-09  131.394803\n",
       "2022-06-10  128.662094\n",
       "2022-06-11  124.693647\n",
       "2022-06-12  124.693647\n",
       "2022-06-13  124.693647\n",
       "\n",
       "[1622 rows x 1 columns]"
      ]
     },
     "execution_count": 81,
     "metadata": {},
     "output_type": "execute_result"
    }
   ],
   "source": [
    "data"
   ]
  },
  {
   "cell_type": "code",
   "execution_count": 82,
   "metadata": {},
   "outputs": [
    {
     "name": "stdout",
     "output_type": "stream",
     "text": [
      "Train dates : 2018-01-04 00:00:00 --- 2020-09-29 00:00:00  (n=1000)\n",
      "Test dates  : 2020-09-30 00:00:00 --- 2022-06-13 00:00:00  (n=622)\n"
     ]
    },
    {
     "data": {
      "application/javascript": "\n        if (window._pyforest_update_imports_cell) { window._pyforest_update_imports_cell('import matplotlib.pyplot as plt'); }\n    ",
      "text/plain": [
       "<IPython.core.display.Javascript object>"
      ]
     },
     "metadata": {},
     "output_type": "display_data"
    },
    {
     "data": {
      "image/png": "[encoded data removed]",
      "text/plain": [
       "<Figure size 648x288 with 1 Axes>"
      ]
     },
     "metadata": {
      "needs_background": "light"
     },
     "output_type": "display_data"
    }
   ],
   "source": [
    "# Split data into train-test\n",
    "# ==============================================================================\n",
    "steps = 622\n",
    "data_train = data[:-steps]\n",
    "data_test  = data[-steps:]\n",
    "\n",
    "print(f\"Train dates : {data_train.index.min()} --- {data_train.index.max()}  (n={len(data_train)})\")\n",
    "print(f\"Test dates  : {data_test.index.min()} --- {data_test.index.max()}  (n={len(data_test)})\")\n",
    "\n",
    "fig, ax=plt.subplots(figsize=(9, 4))\n",
    "data_train['p'].plot(ax=ax, label='train')\n",
    "data_test['p'].plot(ax=ax, label='test')\n",
    "ax.legend();"
   ]
  },
  {
   "cell_type": "code",
   "execution_count": 83,
   "metadata": {},
   "outputs": [
    {
     "data": {
      "application/javascript": "\n        if (window._pyforest_update_imports_cell) { window._pyforest_update_imports_cell('import matplotlib.pyplot as plt'); }\n    ",
      "text/plain": [
       "<IPython.core.display.Javascript object>"
      ]
     },
     "metadata": {},
     "output_type": "display_data"
    },
    {
     "data": {
      "image/png": "[encoded data removed]",
      "text/plain": [
       "<Figure size 432x288 with 1 Axes>"
      ]
     },
     "metadata": {
      "needs_background": "light"
     },
     "output_type": "display_data"
    }
   ],
   "source": [
    "sns.lineplot(data=ptf_prices)\n",
    "plt.show()"
   ]
  },
  {
   "cell_type": "code",
   "execution_count": 93,
   "metadata": {},
   "outputs": [
    {
     "data": {
      "text/plain": [
       "================= \n",
       "ForecasterAutoreg \n",
       "================= \n",
       "Regressor: RandomForestRegressor(random_state=123) \n",
       "Lags: [  1   2   3   4   5   6   7   8   9  10  11  12  13  14  15  16  17  18\n",
       "  19  20  21  22  23  24  25  26  27  28  29  30  31  32  33  34  35  36\n",
       "  37  38  39  40  41  42  43  44  45  46  47  48  49  50  51  52  53  54\n",
       "  55  56  57  58  59  60  61  62  63  64  65  66  67  68  69  70  71  72\n",
       "  73  74  75  76  77  78  79  80  81  82  83  84  85  86  87  88  89  90\n",
       "  91  92  93  94  95  96  97  98  99 100 101 102 103 104 105 106 107 108\n",
       " 109 110 111 112 113 114 115 116 117 118 119 120 121 122 123 124 125 126\n",
       " 127 128 129 130 131 132 133 134 135 136 137 138 139 140 141 142 143 144\n",
       " 145 146 147 148 149 150 151 152 153 154 155 156 157 158 159 160 161 162\n",
       " 163 164 165 166 167 168 169 170 171 172 173 174 175 176 177 178 179 180\n",
       " 181 182 183 184 185 186 187 188 189 190 191 192 193 194 195 196 197 198\n",
       " 199 200 201 202 203 204 205 206 207 208 209 210 211 212 213 214 215 216\n",
       " 217 218 219 220 221 222 223 224 225 226 227 228 229 230 231 232 233 234\n",
       " 235 236 237 238 239 240 241 242 243 244 245 246 247 248 249 250 251 252\n",
       " 253 254 255 256 257 258 259 260 261 262 263 264 265 266 267 268 269 270\n",
       " 271 272 273 274 275 276 277 278 279 280 281 282 283 284 285 286 287 288\n",
       " 289 290 291 292 293 294 295 296 297 298 299 300 301 302 303 304 305 306\n",
       " 307 308 309 310 311 312 313 314 315 316 317 318 319 320 321 322 323 324\n",
       " 325 326 327 328 329 330 331 332 333 334 335 336 337 338 339 340 341 342\n",
       " 343 344 345 346 347 348 349 350 351 352 353 354 355 356 357 358 359 360\n",
       " 361 362 363 364 365] \n",
       "Window size: 365 \n",
       "Included exogenous: False \n",
       "Type of exogenous variable: None \n",
       "Exogenous variables names: None \n",
       "Training range: [Timestamp('2018-01-04 00:00:00'), Timestamp('2020-09-29 00:00:00')] \n",
       "Training index type: DatetimeIndex \n",
       "Training index frequency: D \n",
       "Regressor parameters: {'bootstrap': True, 'ccp_alpha': 0.0, 'criterion': 'squared_error', 'max_depth': None, 'max_features': 1.0, 'max_leaf_nodes': None, 'max_samples': None, 'min_impurity_decrease': 0.0, 'min_samples_leaf': 1, 'min_samples_split': 2, 'min_weight_fraction_leaf': 0.0, 'n_estimators': 100, 'n_jobs': None, 'oob_score': False, 'random_state': 123, 'verbose': 0, 'warm_start': False} \n",
       "Creation date: 2022-06-18 21:25:31 \n",
       "Last fit date: 2022-06-18 21:25:39 \n",
       "Skforecast version: 0.4.3 "
      ]
     },
     "execution_count": 93,
     "metadata": {},
     "output_type": "execute_result"
    }
   ],
   "source": [
    "# Create and train forecaster\n",
    "# ==============================================================================\n",
    "forecaster = ForecasterAutoreg(\n",
    "                regressor = RandomForestRegressor(random_state=123),\n",
    "                lags = 365\n",
    "                )\n",
    "\n",
    "forecaster.fit(y=data_train['p'])\n",
    "forecaster"
   ]
  },
  {
   "cell_type": "code",
   "execution_count": 94,
   "metadata": {},
   "outputs": [
    {
     "data": {
      "text/plain": [
       "2020-09-30    122.807780\n",
       "2020-10-01    122.666262\n",
       "2020-10-02    122.450122\n",
       "2020-10-03    122.405757\n",
       "2020-10-04    121.914804\n",
       "Freq: D, Name: pred, dtype: float64"
      ]
     },
     "execution_count": 94,
     "metadata": {},
     "output_type": "execute_result"
    }
   ],
   "source": [
    "# Predictions\n",
    "# ==============================================================================\n",
    "steps = 622\n",
    "predictions = forecaster.predict(steps=steps)\n",
    "predictions.head(5)"
   ]
  },
  {
   "cell_type": "code",
   "execution_count": 95,
   "metadata": {},
   "outputs": [
    {
     "data": {
      "application/javascript": "\n        if (window._pyforest_update_imports_cell) { window._pyforest_update_imports_cell('import matplotlib.pyplot as plt'); }\n    ",
      "text/plain": [
       "<IPython.core.display.Javascript object>"
      ]
     },
     "metadata": {},
     "output_type": "display_data"
    },
    {
     "data": {
      "image/png": "[encoded data removed]",
      "text/plain": [
       "<Figure size 648x288 with 1 Axes>"
      ]
     },
     "metadata": {
      "needs_background": "light"
     },
     "output_type": "display_data"
    }
   ],
   "source": [
    "# Plot\n",
    "# ==============================================================================\n",
    "fig, ax = plt.subplots(figsize=(9, 4))\n",
    "data_train['p'].plot(ax=ax, label='train')\n",
    "data_test['p'].plot(ax=ax, label='test')\n",
    "predictions.plot(ax=ax, label='predictions')\n",
    "ax.legend();"
   ]
  },
  {
   "cell_type": "code",
   "execution_count": 96,
   "metadata": {},
   "outputs": [
    {
     "name": "stdout",
     "output_type": "stream",
     "text": [
      "Test error (mse): 454.2149287295199\n"
     ]
    }
   ],
   "source": [
    "# Test error\n",
    "# ==============================================================================\n",
    "error_mse = mean_squared_error(\n",
    "                y_true = data_test['p'],\n",
    "                y_pred = predictions\n",
    "            )\n",
    "\n",
    "print(f\"Test error (mse): {error_mse}\")"
   ]
  },
  {
   "cell_type": "code",
   "execution_count": null,
   "metadata": {},
   "outputs": [],
   "source": []
  }
 ],
 "metadata": {
  "kernelspec": {
   "display_name": "Python 3.10.1 ('.venv': venv)",
   "language": "python",
   "name": "python3"
  },
  "language_info": {
   "codemirror_mode": {
    "name": "ipython",
    "version": 3
   },
   "file_extension": ".py",
   "mimetype": "text/x-python",
   "name": "python",
   "nbconvert_exporter": "python",
   "pygments_lexer": "ipython3",
   "version": "3.9.7"
  },
  "toc": {
   "base_numbering": 1,
   "nav_menu": {},
   "number_sections": true,
   "sideBar": true,
   "skip_h1_title": false,
   "title_cell": "Table of Contents",
   "title_sidebar": "Contents",
   "toc_cell": false,
   "toc_position": {},
   "toc_section_display": true,
   "toc_window_display": false
  },
  "vscode": {
   "interpreter": {
    "hash": "85b2b9906123a71963748d606bcf678f246bf8725f9e506b6b80bf491c2c680a"
   }
  }
 },
 "nbformat": 4,
 "nbformat_minor": 2
}
